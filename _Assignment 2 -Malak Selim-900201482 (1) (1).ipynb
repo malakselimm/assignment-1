{
 "cells": [
  {
   "cell_type": "markdown",
   "id": "8df43992",
   "metadata": {},
   "source": [
    "# Assignment 2\n",
    "Malak Selim 900201482"
   ]
  },
  {
   "cell_type": "code",
   "execution_count": 123,
   "id": "6b263f1d",
   "metadata": {},
   "outputs": [],
   "source": [
    "import numpy as np\n",
    "import pandas as pd\n",
    "import scipy.stats\n",
    "import scipy\n",
    "import matplotlib.pyplot as plt\n",
    "import statsmodels.api as sm\n",
    "from scipy.stats import norm,t\n",
    "from statsmodels.stats.proportion import proportion_confint\n",
    "from pandas.api.types import CategoricalDtype\n"
   ]
  },
  {
   "cell_type": "markdown",
   "id": "269fff09",
   "metadata": {},
   "source": [
    "# Part 1: Statistical comparison of football teams preformance\n"
   ]
  },
  {
   "cell_type": "code",
   "execution_count": 124,
   "id": "41441977",
   "metadata": {},
   "outputs": [
    {
     "data": {
      "text/html": [
       "<div>\n",
       "<style scoped>\n",
       "    .dataframe tbody tr th:only-of-type {\n",
       "        vertical-align: middle;\n",
       "    }\n",
       "\n",
       "    .dataframe tbody tr th {\n",
       "        vertical-align: top;\n",
       "    }\n",
       "\n",
       "    .dataframe thead th {\n",
       "        text-align: right;\n",
       "    }\n",
       "</style>\n",
       "<table border=\"1\" class=\"dataframe\">\n",
       "  <thead>\n",
       "    <tr style=\"text-align: right;\">\n",
       "      <th></th>\n",
       "      <th>date</th>\n",
       "      <th>home_team</th>\n",
       "      <th>away_team</th>\n",
       "      <th>home_score</th>\n",
       "      <th>away_score</th>\n",
       "      <th>tournament</th>\n",
       "      <th>city</th>\n",
       "      <th>country</th>\n",
       "      <th>neutral</th>\n",
       "    </tr>\n",
       "  </thead>\n",
       "  <tbody>\n",
       "    <tr>\n",
       "      <th>0</th>\n",
       "      <td>1872-11-30</td>\n",
       "      <td>Scotland</td>\n",
       "      <td>England</td>\n",
       "      <td>0</td>\n",
       "      <td>0</td>\n",
       "      <td>Friendly</td>\n",
       "      <td>Glasgow</td>\n",
       "      <td>Scotland</td>\n",
       "      <td>False</td>\n",
       "    </tr>\n",
       "    <tr>\n",
       "      <th>1</th>\n",
       "      <td>1873-03-08</td>\n",
       "      <td>England</td>\n",
       "      <td>Scotland</td>\n",
       "      <td>4</td>\n",
       "      <td>2</td>\n",
       "      <td>Friendly</td>\n",
       "      <td>London</td>\n",
       "      <td>England</td>\n",
       "      <td>False</td>\n",
       "    </tr>\n",
       "    <tr>\n",
       "      <th>2</th>\n",
       "      <td>1874-03-07</td>\n",
       "      <td>Scotland</td>\n",
       "      <td>England</td>\n",
       "      <td>2</td>\n",
       "      <td>1</td>\n",
       "      <td>Friendly</td>\n",
       "      <td>Glasgow</td>\n",
       "      <td>Scotland</td>\n",
       "      <td>False</td>\n",
       "    </tr>\n",
       "    <tr>\n",
       "      <th>3</th>\n",
       "      <td>1875-03-06</td>\n",
       "      <td>England</td>\n",
       "      <td>Scotland</td>\n",
       "      <td>2</td>\n",
       "      <td>2</td>\n",
       "      <td>Friendly</td>\n",
       "      <td>London</td>\n",
       "      <td>England</td>\n",
       "      <td>False</td>\n",
       "    </tr>\n",
       "    <tr>\n",
       "      <th>4</th>\n",
       "      <td>1876-03-04</td>\n",
       "      <td>Scotland</td>\n",
       "      <td>England</td>\n",
       "      <td>3</td>\n",
       "      <td>0</td>\n",
       "      <td>Friendly</td>\n",
       "      <td>Glasgow</td>\n",
       "      <td>Scotland</td>\n",
       "      <td>False</td>\n",
       "    </tr>\n",
       "    <tr>\n",
       "      <th>...</th>\n",
       "      <td>...</td>\n",
       "      <td>...</td>\n",
       "      <td>...</td>\n",
       "      <td>...</td>\n",
       "      <td>...</td>\n",
       "      <td>...</td>\n",
       "      <td>...</td>\n",
       "      <td>...</td>\n",
       "      <td>...</td>\n",
       "    </tr>\n",
       "    <tr>\n",
       "      <th>43183</th>\n",
       "      <td>2/1/2022</td>\n",
       "      <td>Suriname</td>\n",
       "      <td>Guyana</td>\n",
       "      <td>2</td>\n",
       "      <td>1</td>\n",
       "      <td>Friendly</td>\n",
       "      <td>Paramaribo</td>\n",
       "      <td>Suriname</td>\n",
       "      <td>False</td>\n",
       "    </tr>\n",
       "    <tr>\n",
       "      <th>43184</th>\n",
       "      <td>2/2/2022</td>\n",
       "      <td>Burkina Faso</td>\n",
       "      <td>Senegal</td>\n",
       "      <td>1</td>\n",
       "      <td>3</td>\n",
       "      <td>African Cup of Nations</td>\n",
       "      <td>Yaoundé</td>\n",
       "      <td>Cameroon</td>\n",
       "      <td>True</td>\n",
       "    </tr>\n",
       "    <tr>\n",
       "      <th>43185</th>\n",
       "      <td>2/3/2022</td>\n",
       "      <td>Cameroon</td>\n",
       "      <td>Egypt</td>\n",
       "      <td>0</td>\n",
       "      <td>0</td>\n",
       "      <td>African Cup of Nations</td>\n",
       "      <td>Yaoundé</td>\n",
       "      <td>Cameroon</td>\n",
       "      <td>False</td>\n",
       "    </tr>\n",
       "    <tr>\n",
       "      <th>43186</th>\n",
       "      <td>2/5/2022</td>\n",
       "      <td>Cameroon</td>\n",
       "      <td>Burkina Faso</td>\n",
       "      <td>3</td>\n",
       "      <td>3</td>\n",
       "      <td>African Cup of Nations</td>\n",
       "      <td>Yaoundé</td>\n",
       "      <td>Cameroon</td>\n",
       "      <td>False</td>\n",
       "    </tr>\n",
       "    <tr>\n",
       "      <th>43187</th>\n",
       "      <td>2/6/2022</td>\n",
       "      <td>Senegal</td>\n",
       "      <td>Egypt</td>\n",
       "      <td>0</td>\n",
       "      <td>0</td>\n",
       "      <td>African Cup of Nations</td>\n",
       "      <td>Yaoundé</td>\n",
       "      <td>Cameroon</td>\n",
       "      <td>True</td>\n",
       "    </tr>\n",
       "  </tbody>\n",
       "</table>\n",
       "<p>43188 rows × 9 columns</p>\n",
       "</div>"
      ],
      "text/plain": [
       "             date     home_team     away_team  home_score  away_score  \\\n",
       "0      1872-11-30      Scotland       England           0           0   \n",
       "1      1873-03-08       England      Scotland           4           2   \n",
       "2      1874-03-07      Scotland       England           2           1   \n",
       "3      1875-03-06       England      Scotland           2           2   \n",
       "4      1876-03-04      Scotland       England           3           0   \n",
       "...           ...           ...           ...         ...         ...   \n",
       "43183    2/1/2022      Suriname        Guyana           2           1   \n",
       "43184    2/2/2022  Burkina Faso       Senegal           1           3   \n",
       "43185    2/3/2022      Cameroon         Egypt           0           0   \n",
       "43186    2/5/2022      Cameroon  Burkina Faso           3           3   \n",
       "43187    2/6/2022       Senegal         Egypt           0           0   \n",
       "\n",
       "                   tournament        city   country  neutral  \n",
       "0                    Friendly     Glasgow  Scotland    False  \n",
       "1                    Friendly      London   England    False  \n",
       "2                    Friendly     Glasgow  Scotland    False  \n",
       "3                    Friendly      London   England    False  \n",
       "4                    Friendly     Glasgow  Scotland    False  \n",
       "...                       ...         ...       ...      ...  \n",
       "43183                Friendly  Paramaribo  Suriname    False  \n",
       "43184  African Cup of Nations     Yaoundé  Cameroon     True  \n",
       "43185  African Cup of Nations     Yaoundé  Cameroon    False  \n",
       "43186  African Cup of Nations     Yaoundé  Cameroon    False  \n",
       "43187  African Cup of Nations     Yaoundé  Cameroon     True  \n",
       "\n",
       "[43188 rows x 9 columns]"
      ]
     },
     "execution_count": 124,
     "metadata": {},
     "output_type": "execute_result"
    }
   ],
   "source": [
    "df=pd.read_csv(\"results.csv\")\n",
    "df  "
   ]
  },
  {
   "cell_type": "code",
   "execution_count": 125,
   "id": "2b955128",
   "metadata": {},
   "outputs": [
    {
     "data": {
      "text/plain": [
       "United States          1237\n",
       "France                  818\n",
       "Malaysia                744\n",
       "England                 717\n",
       "Sweden                  655\n",
       "                       ... \n",
       "Belgian Congo             1\n",
       "Portuguese Guinea         1\n",
       "Bohemia and Moravia       1\n",
       "Lautoka                   1\n",
       "Mali Federation           1\n",
       "Name: country, Length: 267, dtype: int64"
      ]
     },
     "execution_count": 125,
     "metadata": {},
     "output_type": "execute_result"
    }
   ],
   "source": [
    "df['country'].value_counts()"
   ]
  },
  {
   "cell_type": "code",
   "execution_count": 126,
   "id": "51a44d4c",
   "metadata": {},
   "outputs": [
    {
     "data": {
      "text/plain": [
       "lose    21009\n",
       "win     12224\n",
       "draw     9955\n",
       "Name: result, dtype: int64"
      ]
     },
     "execution_count": 126,
     "metadata": {},
     "output_type": "execute_result"
    }
   ],
   "source": [
    "x=df['home_score']-df['away_score']\n",
    "conditions = [(x<0),(x>0),(x==0)]\n",
    "values= ['win','lose','draw']\n",
    "df['result'] = np.select(conditions, values)\n",
    "x=df['result'].value_counts()\n",
    "x"
   ]
  },
  {
   "cell_type": "code",
   "execution_count": 127,
   "id": "3b9c039c",
   "metadata": {},
   "outputs": [
    {
     "data": {
      "text/plain": [
       "array([21009, 12224,  9955], dtype=int64)"
      ]
     },
     "execution_count": 127,
     "metadata": {},
     "output_type": "execute_result"
    }
   ],
   "source": [
    "x=np.array(x)\n",
    "x"
   ]
  },
  {
   "cell_type": "code",
   "execution_count": 128,
   "id": "ec9470c2",
   "metadata": {},
   "outputs": [
    {
     "data": {
      "text/html": [
       "<div>\n",
       "<style scoped>\n",
       "    .dataframe tbody tr th:only-of-type {\n",
       "        vertical-align: middle;\n",
       "    }\n",
       "\n",
       "    .dataframe tbody tr th {\n",
       "        vertical-align: top;\n",
       "    }\n",
       "\n",
       "    .dataframe thead th {\n",
       "        text-align: right;\n",
       "    }\n",
       "</style>\n",
       "<table border=\"1\" class=\"dataframe\">\n",
       "  <thead>\n",
       "    <tr style=\"text-align: right;\">\n",
       "      <th>result</th>\n",
       "      <th>draw</th>\n",
       "      <th>lose</th>\n",
       "      <th>win</th>\n",
       "      <th>All</th>\n",
       "    </tr>\n",
       "    <tr>\n",
       "      <th>typematch</th>\n",
       "      <th></th>\n",
       "      <th></th>\n",
       "      <th></th>\n",
       "      <th></th>\n",
       "    </tr>\n",
       "  </thead>\n",
       "  <tbody>\n",
       "    <tr>\n",
       "      <th>Friendly</th>\n",
       "      <td>4329</td>\n",
       "      <td>8141</td>\n",
       "      <td>4806</td>\n",
       "      <td>17276</td>\n",
       "    </tr>\n",
       "    <tr>\n",
       "      <th>Official</th>\n",
       "      <td>5626</td>\n",
       "      <td>12868</td>\n",
       "      <td>7418</td>\n",
       "      <td>25912</td>\n",
       "    </tr>\n",
       "    <tr>\n",
       "      <th>All</th>\n",
       "      <td>9955</td>\n",
       "      <td>21009</td>\n",
       "      <td>12224</td>\n",
       "      <td>43188</td>\n",
       "    </tr>\n",
       "  </tbody>\n",
       "</table>\n",
       "</div>"
      ],
      "text/plain": [
       "result     draw   lose    win    All\n",
       "typematch                           \n",
       "Friendly   4329   8141   4806  17276\n",
       "Official   5626  12868   7418  25912\n",
       "All        9955  21009  12224  43188"
      ]
     },
     "execution_count": 128,
     "metadata": {},
     "output_type": "execute_result"
    }
   ],
   "source": [
    "conditions = [ (df['tournament']=='Friendly'),(df['tournament']!='Friendly')]\n",
    "values=['Friendly','Official']\n",
    "df['typematch'] = np.select(conditions, values)\n",
    "x=pd.crosstab(df['typematch'],df['result'],margins=True)\n",
    "x"
   ]
  },
  {
   "cell_type": "code",
   "execution_count": 129,
   "id": "6ddaac29",
   "metadata": {},
   "outputs": [
    {
     "data": {
      "text/plain": [
       "array([[ 4329,  8141,  4806, 17276],\n",
       "       [ 5626, 12868,  7418, 25912],\n",
       "       [ 9955, 21009, 12224, 43188]], dtype=int64)"
      ]
     },
     "execution_count": 129,
     "metadata": {},
     "output_type": "execute_result"
    }
   ],
   "source": [
    "x=np.array(x)\n",
    "x"
   ]
  },
  {
   "cell_type": "code",
   "execution_count": 130,
   "id": "c83ca7b1",
   "metadata": {},
   "outputs": [
    {
     "data": {
      "text/plain": [
       "(0.27150736589666685, 0.2848714254902283)"
      ]
     },
     "execution_count": 130,
     "metadata": {},
     "output_type": "execute_result"
    }
   ],
   "source": [
    "CI_win_friendly=proportion_confint(count=x[0,2],nobs=x[0,3],alpha=(1-.95))\n",
    "CI_win_friendly"
   ]
  },
  {
   "cell_type": "code",
   "execution_count": 131,
   "id": "768aeb29",
   "metadata": {},
   "outputs": [
    {
     "data": {
      "text/plain": [
       "(0.2807729187467606, 0.29178033843138085)"
      ]
     },
     "execution_count": 131,
     "metadata": {},
     "output_type": "execute_result"
    }
   ],
   "source": [
    "CI_win_official=proportion_confint(count=x[1,2],nobs=x[1,3],alpha=(1-.95))\n",
    "CI_win_official"
   ]
  },
  {
   "cell_type": "code",
   "execution_count": 132,
   "id": "7444ce42",
   "metadata": {},
   "outputs": [
    {
     "data": {
      "text/html": [
       "<div>\n",
       "<style scoped>\n",
       "    .dataframe tbody tr th:only-of-type {\n",
       "        vertical-align: middle;\n",
       "    }\n",
       "\n",
       "    .dataframe tbody tr th {\n",
       "        vertical-align: top;\n",
       "    }\n",
       "\n",
       "    .dataframe thead th {\n",
       "        text-align: right;\n",
       "    }\n",
       "</style>\n",
       "<table border=\"1\" class=\"dataframe\">\n",
       "  <thead>\n",
       "    <tr style=\"text-align: right;\">\n",
       "      <th></th>\n",
       "      <th>Typematch</th>\n",
       "      <th>lb</th>\n",
       "      <th>ub</th>\n",
       "    </tr>\n",
       "  </thead>\n",
       "  <tbody>\n",
       "    <tr>\n",
       "      <th>0</th>\n",
       "      <td>Friendly</td>\n",
       "      <td>0.271507</td>\n",
       "      <td>0.284871</td>\n",
       "    </tr>\n",
       "    <tr>\n",
       "      <th>1</th>\n",
       "      <td>Official</td>\n",
       "      <td>0.280773</td>\n",
       "      <td>0.291780</td>\n",
       "    </tr>\n",
       "  </tbody>\n",
       "</table>\n",
       "</div>"
      ],
      "text/plain": [
       "  Typematch        lb        ub\n",
       "0  Friendly  0.271507  0.284871\n",
       "1  Official  0.280773  0.291780"
      ]
     },
     "execution_count": 132,
     "metadata": {},
     "output_type": "execute_result"
    }
   ],
   "source": [
    "ci_win = {}\n",
    "ci_win['Typematch'] = ['Friendly','Official']\n",
    "ci_win['lb'] = [CI_win_friendly[0],CI_win_official[0]]\n",
    "ci_win['ub'] = [CI_win_friendly[1],CI_win_official[1]]\n",
    "df_ci3= pd.DataFrame(ci_win)\n",
    "df_ci3"
   ]
  },
  {
   "cell_type": "code",
   "execution_count": 133,
   "id": "1215bc9a",
   "metadata": {},
   "outputs": [
    {
     "data": {
      "text/html": [
       "<div>\n",
       "<style scoped>\n",
       "    .dataframe tbody tr th:only-of-type {\n",
       "        vertical-align: middle;\n",
       "    }\n",
       "\n",
       "    .dataframe tbody tr th {\n",
       "        vertical-align: top;\n",
       "    }\n",
       "\n",
       "    .dataframe thead th {\n",
       "        text-align: right;\n",
       "    }\n",
       "</style>\n",
       "<table border=\"1\" class=\"dataframe\">\n",
       "  <thead>\n",
       "    <tr style=\"text-align: right;\">\n",
       "      <th></th>\n",
       "      <th>Typematch</th>\n",
       "      <th>lb</th>\n",
       "      <th>ub</th>\n",
       "    </tr>\n",
       "  </thead>\n",
       "  <tbody>\n",
       "    <tr>\n",
       "      <th>0</th>\n",
       "      <td>Friendly</td>\n",
       "      <td>0.463788</td>\n",
       "      <td>0.478675</td>\n",
       "    </tr>\n",
       "    <tr>\n",
       "      <th>1</th>\n",
       "      <td>Official</td>\n",
       "      <td>0.490516</td>\n",
       "      <td>0.502692</td>\n",
       "    </tr>\n",
       "  </tbody>\n",
       "</table>\n",
       "</div>"
      ],
      "text/plain": [
       "  Typematch        lb        ub\n",
       "0  Friendly  0.463788  0.478675\n",
       "1  Official  0.490516  0.502692"
      ]
     },
     "execution_count": 133,
     "metadata": {},
     "output_type": "execute_result"
    }
   ],
   "source": [
    "ci_lose = {}\n",
    "ci_lose['Typematch'] = ['Friendly','Official']\n",
    "ci_lose['lb'] = [CI_lose_friendly[0],CI_lose_official[0]]\n",
    "ci_lose['ub'] = [CI_lose_friendly[1],CI_lose_official[1]]\n",
    "df_ci4= pd.DataFrame(ci_lose)\n",
    "df_ci4"
   ]
  },
  {
   "cell_type": "code",
   "execution_count": 134,
   "id": "b09d665f",
   "metadata": {},
   "outputs": [
    {
     "data": {
      "text/plain": [
       "([<matplotlib.axis.YTick at 0x21860a3ccd0>,\n",
       "  <matplotlib.axis.YTick at 0x21860a3c550>],\n",
       " [Text(0, 0, 'Friendly'), Text(0, 1, 'Official')])"
      ]
     },
     "execution_count": 134,
     "metadata": {},
     "output_type": "execute_result"
    },
    {
     "data": {
      "image/png": "[encoded data removed]",
      "text/plain": [
       "<Figure size 432x288 with 1 Axes>"
      ]
     },
     "metadata": {
      "needs_background": "light"
     },
     "output_type": "display_data"
    }
   ],
   "source": [
    "for lb,ub,y in zip(df_ci4['lb'],df_ci4['ub'],range(len(df_ci4))):\n",
    "    plt.plot((lb,ub),(y,y),'ro-')\n",
    "plt.yticks(range(len(df_ci4)),list(df_ci4['Typematch']))"
   ]
  },
  {
   "cell_type": "markdown",
   "id": "7df5d812",
   "metadata": {},
   "source": [
    "##### Country 1: France"
   ]
  },
  {
   "cell_type": "code",
   "execution_count": 135,
   "id": "79da6ce1",
   "metadata": {},
   "outputs": [],
   "source": [
    "dfus=df[df['country']=='France']"
   ]
  },
  {
   "cell_type": "code",
   "execution_count": 136,
   "id": "02fb35d1",
   "metadata": {},
   "outputs": [],
   "source": [
    "conditions = [(dfus['tournament']=='Friendly'),(dfus['tournament']!='Friendly')] \n",
    "values=['Friendly','Official']"
   ]
  },
  {
   "cell_type": "code",
   "execution_count": 137,
   "id": "4b4f0be5",
   "metadata": {},
   "outputs": [
    {
     "name": "stderr",
     "output_type": "stream",
     "text": [
      "C:\\Users\\Lenovo\\AppData\\Local\\Temp/ipykernel_21004/327193532.py:1: SettingWithCopyWarning: \n",
      "A value is trying to be set on a copy of a slice from a DataFrame.\n",
      "Try using .loc[row_indexer,col_indexer] = value instead\n",
      "\n",
      "See the caveats in the documentation: https://pandas.pydata.org/pandas-docs/stable/user_guide/indexing.html#returning-a-view-versus-a-copy\n",
      "  dfus['Typematch'] = np.select(conditions, values)\n"
     ]
    }
   ],
   "source": [
    "dfus['Typematch'] = np.select(conditions, values)"
   ]
  },
  {
   "cell_type": "code",
   "execution_count": 138,
   "id": "94546509",
   "metadata": {},
   "outputs": [
    {
     "data": {
      "text/html": [
       "<div>\n",
       "<style scoped>\n",
       "    .dataframe tbody tr th:only-of-type {\n",
       "        vertical-align: middle;\n",
       "    }\n",
       "\n",
       "    .dataframe tbody tr th {\n",
       "        vertical-align: top;\n",
       "    }\n",
       "\n",
       "    .dataframe thead th {\n",
       "        text-align: right;\n",
       "    }\n",
       "</style>\n",
       "<table border=\"1\" class=\"dataframe\">\n",
       "  <thead>\n",
       "    <tr style=\"text-align: right;\">\n",
       "      <th>result</th>\n",
       "      <th>draw</th>\n",
       "      <th>lose</th>\n",
       "      <th>win</th>\n",
       "      <th>All</th>\n",
       "    </tr>\n",
       "    <tr>\n",
       "      <th>typematch</th>\n",
       "      <th></th>\n",
       "      <th></th>\n",
       "      <th></th>\n",
       "      <th></th>\n",
       "    </tr>\n",
       "  </thead>\n",
       "  <tbody>\n",
       "    <tr>\n",
       "      <th>Friendly</th>\n",
       "      <td>112</td>\n",
       "      <td>228</td>\n",
       "      <td>131</td>\n",
       "      <td>471</td>\n",
       "    </tr>\n",
       "    <tr>\n",
       "      <th>Official</th>\n",
       "      <td>77</td>\n",
       "      <td>189</td>\n",
       "      <td>81</td>\n",
       "      <td>347</td>\n",
       "    </tr>\n",
       "    <tr>\n",
       "      <th>All</th>\n",
       "      <td>189</td>\n",
       "      <td>417</td>\n",
       "      <td>212</td>\n",
       "      <td>818</td>\n",
       "    </tr>\n",
       "  </tbody>\n",
       "</table>\n",
       "</div>"
      ],
      "text/plain": [
       "result     draw  lose  win  All\n",
       "typematch                      \n",
       "Friendly    112   228  131  471\n",
       "Official     77   189   81  347\n",
       "All         189   417  212  818"
      ]
     },
     "execution_count": 138,
     "metadata": {},
     "output_type": "execute_result"
    }
   ],
   "source": [
    "x=pd.crosstab(dfus['typematch'],dfus['result'],margins=True)\n",
    "x"
   ]
  },
  {
   "cell_type": "code",
   "execution_count": 139,
   "id": "7f43c050",
   "metadata": {},
   "outputs": [
    {
     "data": {
      "text/plain": [
       "array([[112, 228, 131, 471],\n",
       "       [ 77, 189,  81, 347],\n",
       "       [189, 417, 212, 818]], dtype=int64)"
      ]
     },
     "execution_count": 139,
     "metadata": {},
     "output_type": "execute_result"
    }
   ],
   "source": [
    "x=np.array(x)\n",
    "x"
   ]
  },
  {
   "cell_type": "code",
   "execution_count": 140,
   "id": "d9e9586a",
   "metadata": {},
   "outputs": [
    {
     "data": {
      "text/plain": [
       "(0.18892148425887595, 0.27793730536648426)"
      ]
     },
     "execution_count": 140,
     "metadata": {},
     "output_type": "execute_result"
    }
   ],
   "source": [
    "CI_uswin_friendly=proportion_confint(count=x[1,2],nobs=x[1,3],alpha=(1-.95))\n",
    "CI_uswin_friendly"
   ]
  },
  {
   "cell_type": "code",
   "execution_count": 141,
   "id": "86daeeb2",
   "metadata": {},
   "outputs": [
    {
     "data": {
      "text/plain": [
       "(0.2376654895121334, 0.3185977801269324)"
      ]
     },
     "execution_count": 141,
     "metadata": {},
     "output_type": "execute_result"
    }
   ],
   "source": [
    "CI_uswin_official=proportion_confint(count=x[0,2],nobs=x[0,3],alpha=(1-.95))\n",
    "CI_uswin_official"
   ]
  },
  {
   "cell_type": "code",
   "execution_count": 142,
   "id": "b8299aae",
   "metadata": {},
   "outputs": [
    {
     "data": {
      "text/html": [
       "<div>\n",
       "<style scoped>\n",
       "    .dataframe tbody tr th:only-of-type {\n",
       "        vertical-align: middle;\n",
       "    }\n",
       "\n",
       "    .dataframe tbody tr th {\n",
       "        vertical-align: top;\n",
       "    }\n",
       "\n",
       "    .dataframe thead th {\n",
       "        text-align: right;\n",
       "    }\n",
       "</style>\n",
       "<table border=\"1\" class=\"dataframe\">\n",
       "  <thead>\n",
       "    <tr style=\"text-align: right;\">\n",
       "      <th></th>\n",
       "      <th>Typematch</th>\n",
       "      <th>lb</th>\n",
       "      <th>ub</th>\n",
       "    </tr>\n",
       "  </thead>\n",
       "  <tbody>\n",
       "    <tr>\n",
       "      <th>0</th>\n",
       "      <td>Friendly</td>\n",
       "      <td>0.188921</td>\n",
       "      <td>0.277937</td>\n",
       "    </tr>\n",
       "    <tr>\n",
       "      <th>1</th>\n",
       "      <td>Official</td>\n",
       "      <td>0.237665</td>\n",
       "      <td>0.318598</td>\n",
       "    </tr>\n",
       "  </tbody>\n",
       "</table>\n",
       "</div>"
      ],
      "text/plain": [
       "  Typematch        lb        ub\n",
       "0  Friendly  0.188921  0.277937\n",
       "1  Official  0.237665  0.318598"
      ]
     },
     "execution_count": 142,
     "metadata": {},
     "output_type": "execute_result"
    }
   ],
   "source": [
    "ci_uswin = {}\n",
    "ci_uswin['Typematch'] = ['Friendly','Official']\n",
    "ci_uswin['lb'] = [CI_uswin_friendly[0],CI_uswin_official[0]]\n",
    "ci_uswin['ub'] = [CI_uswin_friendly[1],CI_uswin_official[1]]\n",
    "df_cius= pd.DataFrame(ci_uswin)\n",
    "df_cius"
   ]
  },
  {
   "cell_type": "code",
   "execution_count": 143,
   "id": "c361530e",
   "metadata": {},
   "outputs": [
    {
     "data": {
      "text/plain": [
       "([<matplotlib.axis.YTick at 0x2185ff87c70>,\n",
       "  <matplotlib.axis.YTick at 0x2185ff87a00>],\n",
       " [Text(0, 0, 'Friendly'), Text(0, 1, 'Official')])"
      ]
     },
     "execution_count": 143,
     "metadata": {},
     "output_type": "execute_result"
    },
    {
     "data": {
      "image/png": "[encoded data removed]",
      "text/plain": [
       "<Figure size 432x288 with 1 Axes>"
      ]
     },
     "metadata": {
      "needs_background": "light"
     },
     "output_type": "display_data"
    }
   ],
   "source": [
    "for lb,ub,y in zip(df_cius['lb'],df_cius['ub'],range(len(df_cius))):\n",
    "    plt.plot((lb,ub),(y,y),'ro-')\n",
    "plt.yticks(range(len(df_cius)),list(df_cius['Typematch']))"
   ]
  },
  {
   "cell_type": "code",
   "execution_count": 144,
   "id": "28b826e8",
   "metadata": {},
   "outputs": [
    {
     "data": {
      "text/plain": [
       "(0.43894415137605935, 0.5292087148659789)"
      ]
     },
     "execution_count": 144,
     "metadata": {},
     "output_type": "execute_result"
    }
   ],
   "source": [
    "CI_uslose_friendly=proportion_confint(count=x[0,1],nobs=x[0,3],alpha=(1-.95))\n",
    "CI_uslose_friendly"
   ]
  },
  {
   "cell_type": "code",
   "execution_count": 145,
   "id": "2a09c51e",
   "metadata": {},
   "outputs": [
    {
     "data": {
      "text/plain": [
       "(0.4922707551354989, 0.5970664206570083)"
      ]
     },
     "execution_count": 145,
     "metadata": {},
     "output_type": "execute_result"
    }
   ],
   "source": [
    "CI_uslose_official=proportion_confint(count=x[1,1],nobs=x[1,3],alpha=(1-.95))\n",
    "CI_uslose_official"
   ]
  },
  {
   "cell_type": "code",
   "execution_count": 146,
   "id": "6836acce",
   "metadata": {},
   "outputs": [
    {
     "data": {
      "text/html": [
       "<div>\n",
       "<style scoped>\n",
       "    .dataframe tbody tr th:only-of-type {\n",
       "        vertical-align: middle;\n",
       "    }\n",
       "\n",
       "    .dataframe tbody tr th {\n",
       "        vertical-align: top;\n",
       "    }\n",
       "\n",
       "    .dataframe thead th {\n",
       "        text-align: right;\n",
       "    }\n",
       "</style>\n",
       "<table border=\"1\" class=\"dataframe\">\n",
       "  <thead>\n",
       "    <tr style=\"text-align: right;\">\n",
       "      <th></th>\n",
       "      <th>Typematch</th>\n",
       "      <th>lb</th>\n",
       "      <th>ub</th>\n",
       "    </tr>\n",
       "  </thead>\n",
       "  <tbody>\n",
       "    <tr>\n",
       "      <th>0</th>\n",
       "      <td>Friendly</td>\n",
       "      <td>0.438944</td>\n",
       "      <td>0.529209</td>\n",
       "    </tr>\n",
       "    <tr>\n",
       "      <th>1</th>\n",
       "      <td>Official</td>\n",
       "      <td>0.492271</td>\n",
       "      <td>0.597066</td>\n",
       "    </tr>\n",
       "  </tbody>\n",
       "</table>\n",
       "</div>"
      ],
      "text/plain": [
       "  Typematch        lb        ub\n",
       "0  Friendly  0.438944  0.529209\n",
       "1  Official  0.492271  0.597066"
      ]
     },
     "execution_count": 146,
     "metadata": {},
     "output_type": "execute_result"
    }
   ],
   "source": [
    "ci_uslose = {}\n",
    "ci_uslose['Typematch'] = ['Friendly','Official']\n",
    "ci_uslose['lb'] = [CI_uslose_friendly[0],CI_uslose_official[0]]\n",
    "ci_uslose['ub'] = [CI_uslose_friendly[1],CI_uslose_official[1]]\n",
    "df_cius= pd.DataFrame(ci_uslose)\n",
    "df_cius"
   ]
  },
  {
   "cell_type": "code",
   "execution_count": 147,
   "id": "5cd1a734",
   "metadata": {},
   "outputs": [
    {
     "data": {
      "text/plain": [
       "([<matplotlib.axis.YTick at 0x2185ffe8460>,\n",
       "  <matplotlib.axis.YTick at 0x2185ffdedc0>],\n",
       " [Text(0, 0, 'Friendly'), Text(0, 1, 'Official')])"
      ]
     },
     "execution_count": 147,
     "metadata": {},
     "output_type": "execute_result"
    },
    {
     "data": {
      "image/png": "[encoded data removed]",
      "text/plain": [
       "<Figure size 432x288 with 1 Axes>"
      ]
     },
     "metadata": {
      "needs_background": "light"
     },
     "output_type": "display_data"
    }
   ],
   "source": [
    "for lb,ub,y in zip(df_cius['lb'],df_cius['ub'],range(len(df_cius))):\n",
    "    plt.plot((lb,ub),(y,y),'ro-')\n",
    "plt.yticks(range(len(df_cius)),list(df_cius['Typematch']))"
   ]
  },
  {
   "cell_type": "code",
   "execution_count": 148,
   "id": "7f781f94",
   "metadata": {},
   "outputs": [
    {
     "name": "stderr",
     "output_type": "stream",
     "text": [
      "C:\\Users\\Lenovo\\AppData\\Local\\Temp/ipykernel_21004/2708661334.py:1: SettingWithCopyWarning: \n",
      "A value is trying to be set on a copy of a slice from a DataFrame.\n",
      "Try using .loc[row_indexer,col_indexer] = value instead\n",
      "\n",
      "See the caveats in the documentation: https://pandas.pydata.org/pandas-docs/stable/user_guide/indexing.html#returning-a-view-versus-a-copy\n",
      "  dfus['home']=(dfus['home_team']=='France')\n"
     ]
    }
   ],
   "source": [
    "dfus['home']=(dfus['home_team']=='France')"
   ]
  },
  {
   "cell_type": "code",
   "execution_count": 149,
   "id": "e56b36c1",
   "metadata": {},
   "outputs": [
    {
     "data": {
      "text/html": [
       "<div>\n",
       "<style scoped>\n",
       "    .dataframe tbody tr th:only-of-type {\n",
       "        vertical-align: middle;\n",
       "    }\n",
       "\n",
       "    .dataframe tbody tr th {\n",
       "        vertical-align: top;\n",
       "    }\n",
       "\n",
       "    .dataframe thead th {\n",
       "        text-align: right;\n",
       "    }\n",
       "</style>\n",
       "<table border=\"1\" class=\"dataframe\">\n",
       "  <thead>\n",
       "    <tr style=\"text-align: right;\">\n",
       "      <th>result</th>\n",
       "      <th>draw</th>\n",
       "      <th>lose</th>\n",
       "      <th>win</th>\n",
       "      <th>All</th>\n",
       "    </tr>\n",
       "    <tr>\n",
       "      <th>home</th>\n",
       "      <th></th>\n",
       "      <th></th>\n",
       "      <th></th>\n",
       "      <th></th>\n",
       "    </tr>\n",
       "  </thead>\n",
       "  <tbody>\n",
       "    <tr>\n",
       "      <th>False</th>\n",
       "      <td>100</td>\n",
       "      <td>157</td>\n",
       "      <td>118</td>\n",
       "      <td>375</td>\n",
       "    </tr>\n",
       "    <tr>\n",
       "      <th>True</th>\n",
       "      <td>89</td>\n",
       "      <td>260</td>\n",
       "      <td>94</td>\n",
       "      <td>443</td>\n",
       "    </tr>\n",
       "    <tr>\n",
       "      <th>All</th>\n",
       "      <td>189</td>\n",
       "      <td>417</td>\n",
       "      <td>212</td>\n",
       "      <td>818</td>\n",
       "    </tr>\n",
       "  </tbody>\n",
       "</table>\n",
       "</div>"
      ],
      "text/plain": [
       "result  draw  lose  win  All\n",
       "home                        \n",
       "False    100   157  118  375\n",
       "True      89   260   94  443\n",
       "All      189   417  212  818"
      ]
     },
     "execution_count": 149,
     "metadata": {},
     "output_type": "execute_result"
    }
   ],
   "source": [
    " x=pd.crosstab(dfus['home'],dfus['result'],margins=True)\n",
    "x"
   ]
  },
  {
   "cell_type": "code",
   "execution_count": 150,
   "id": "d95c0678",
   "metadata": {},
   "outputs": [
    {
     "data": {
      "text/plain": [
       "array([[100, 157, 118, 375],\n",
       "       [ 89, 260,  94, 443],\n",
       "       [189, 417, 212, 818]], dtype=int64)"
      ]
     },
     "execution_count": 150,
     "metadata": {},
     "output_type": "execute_result"
    }
   ],
   "source": [
    "x=np.array(x)\n",
    "x"
   ]
  },
  {
   "cell_type": "code",
   "execution_count": 151,
   "id": "fc3b4a22",
   "metadata": {},
   "outputs": [
    {
     "data": {
      "text/plain": [
       "(0.17411643713822142, 0.2502627953674219)"
      ]
     },
     "execution_count": 151,
     "metadata": {},
     "output_type": "execute_result"
    }
   ],
   "source": [
    "CI_uswin_home=proportion_confint(count=x[1,2],nobs=x[1,3],alpha=(1-.95))\n",
    "CI_uswin_home"
   ]
  },
  {
   "cell_type": "code",
   "execution_count": 152,
   "id": "4a479e49",
   "metadata": {},
   "outputs": [
    {
     "data": {
      "text/plain": [
       "(0.2676654873825878, 0.3616678459507455)"
      ]
     },
     "execution_count": 152,
     "metadata": {},
     "output_type": "execute_result"
    }
   ],
   "source": [
    "CI_uswin_away=proportion_confint(count=x[0,2],nobs=x[0,3],alpha=(1-.95))\n",
    "CI_uswin_away"
   ]
  },
  {
   "cell_type": "code",
   "execution_count": 153,
   "id": "ae6e8cf9",
   "metadata": {},
   "outputs": [
    {
     "data": {
      "text/html": [
       "<div>\n",
       "<style scoped>\n",
       "    .dataframe tbody tr th:only-of-type {\n",
       "        vertical-align: middle;\n",
       "    }\n",
       "\n",
       "    .dataframe tbody tr th {\n",
       "        vertical-align: top;\n",
       "    }\n",
       "\n",
       "    .dataframe thead th {\n",
       "        text-align: right;\n",
       "    }\n",
       "</style>\n",
       "<table border=\"1\" class=\"dataframe\">\n",
       "  <thead>\n",
       "    <tr style=\"text-align: right;\">\n",
       "      <th></th>\n",
       "      <th>home</th>\n",
       "      <th>lb</th>\n",
       "      <th>ub</th>\n",
       "    </tr>\n",
       "  </thead>\n",
       "  <tbody>\n",
       "    <tr>\n",
       "      <th>0</th>\n",
       "      <td>Yes</td>\n",
       "      <td>0.174116</td>\n",
       "      <td>0.250263</td>\n",
       "    </tr>\n",
       "    <tr>\n",
       "      <th>1</th>\n",
       "      <td>No</td>\n",
       "      <td>0.267665</td>\n",
       "      <td>0.361668</td>\n",
       "    </tr>\n",
       "  </tbody>\n",
       "</table>\n",
       "</div>"
      ],
      "text/plain": [
       "  home        lb        ub\n",
       "0  Yes  0.174116  0.250263\n",
       "1   No  0.267665  0.361668"
      ]
     },
     "execution_count": 153,
     "metadata": {},
     "output_type": "execute_result"
    }
   ],
   "source": [
    "ci_uswin = {}\n",
    "ci_uswin['home'] = ['Yes','No']\n",
    "ci_uswin['lb'] = [CI_uswin_home[0],CI_uswin_away[0]]\n",
    "ci_uswin['ub'] = [CI_uswin_home[1],CI_uswin_away[1]]\n",
    "df_ci= pd.DataFrame(ci_uswin)\n",
    "df_ci"
   ]
  },
  {
   "cell_type": "code",
   "execution_count": 154,
   "id": "fb651589",
   "metadata": {},
   "outputs": [
    {
     "data": {
      "text/plain": [
       "([<matplotlib.axis.YTick at 0x21860048a30>,\n",
       "  <matplotlib.axis.YTick at 0x2186004d0a0>],\n",
       " [Text(0, 0, 'Yes'), Text(0, 1, 'No')])"
      ]
     },
     "execution_count": 154,
     "metadata": {},
     "output_type": "execute_result"
    },
    {
     "data": {
      "image/png": "[encoded data removed]",
      "text/plain": [
       "<Figure size 432x288 with 1 Axes>"
      ]
     },
     "metadata": {
      "needs_background": "light"
     },
     "output_type": "display_data"
    }
   ],
   "source": [
    "for lb,ub,y in zip(df_ci['lb'],df_ci['ub'],range(len(df_ci))):\n",
    "    plt.plot((lb,ub),(y,y),'ro-')\n",
    "plt.yticks(range(len(df_ci)),list(df_ci['home']))"
   ]
  },
  {
   "cell_type": "code",
   "execution_count": 155,
   "id": "8a250495",
   "metadata": {},
   "outputs": [
    {
     "data": {
      "text/plain": [
       "(0.541055825404375, 0.6327590730154896)"
      ]
     },
     "execution_count": 155,
     "metadata": {},
     "output_type": "execute_result"
    }
   ],
   "source": [
    "CI_uslose_home=proportion_confint(count=x[1,1],nobs=x[1,3],alpha=(1-.95))\n",
    "CI_uslose_home"
   ]
  },
  {
   "cell_type": "code",
   "execution_count": 156,
   "id": "eff25cae",
   "metadata": {},
   "outputs": [
    {
     "data": {
      "text/plain": [
       "(0.36873463210645324, 0.46859870122688013)"
      ]
     },
     "execution_count": 156,
     "metadata": {},
     "output_type": "execute_result"
    }
   ],
   "source": [
    "CI_uslose_away=proportion_confint(count=x[0,1],nobs=x[0,3],alpha=(1-.95))\n",
    "CI_uslose_away"
   ]
  },
  {
   "cell_type": "code",
   "execution_count": 157,
   "id": "130a2113",
   "metadata": {},
   "outputs": [
    {
     "data": {
      "text/html": [
       "<div>\n",
       "<style scoped>\n",
       "    .dataframe tbody tr th:only-of-type {\n",
       "        vertical-align: middle;\n",
       "    }\n",
       "\n",
       "    .dataframe tbody tr th {\n",
       "        vertical-align: top;\n",
       "    }\n",
       "\n",
       "    .dataframe thead th {\n",
       "        text-align: right;\n",
       "    }\n",
       "</style>\n",
       "<table border=\"1\" class=\"dataframe\">\n",
       "  <thead>\n",
       "    <tr style=\"text-align: right;\">\n",
       "      <th></th>\n",
       "      <th>home</th>\n",
       "      <th>lb</th>\n",
       "      <th>ub</th>\n",
       "    </tr>\n",
       "  </thead>\n",
       "  <tbody>\n",
       "    <tr>\n",
       "      <th>0</th>\n",
       "      <td>Yes</td>\n",
       "      <td>0.541056</td>\n",
       "      <td>0.632759</td>\n",
       "    </tr>\n",
       "    <tr>\n",
       "      <th>1</th>\n",
       "      <td>No</td>\n",
       "      <td>0.368735</td>\n",
       "      <td>0.468599</td>\n",
       "    </tr>\n",
       "  </tbody>\n",
       "</table>\n",
       "</div>"
      ],
      "text/plain": [
       "  home        lb        ub\n",
       "0  Yes  0.541056  0.632759\n",
       "1   No  0.368735  0.468599"
      ]
     },
     "execution_count": 157,
     "metadata": {},
     "output_type": "execute_result"
    }
   ],
   "source": [
    "ci_uslose = {}\n",
    "ci_uslose['home'] = ['Yes','No']\n",
    "ci_uslose['lb'] = [CI_uslose_home[0],CI_uslose_away[0]]\n",
    "ci_uslose['ub'] = [CI_uslose_home[1],CI_uslose_away[1]]\n",
    "df_ci= pd.DataFrame(ci_uslose)\n",
    "df_ci"
   ]
  },
  {
   "cell_type": "code",
   "execution_count": 158,
   "id": "a4167afa",
   "metadata": {},
   "outputs": [
    {
     "data": {
      "text/plain": [
       "([<matplotlib.axis.YTick at 0x218600a7b80>,\n",
       "  <matplotlib.axis.YTick at 0x218600a7400>],\n",
       " [Text(0, 0, 'Yes'), Text(0, 1, 'No')])"
      ]
     },
     "execution_count": 158,
     "metadata": {},
     "output_type": "execute_result"
    },
    {
     "data": {
      "image/png": "[encoded data removed]",
      "text/plain": [
       "<Figure size 432x288 with 1 Axes>"
      ]
     },
     "metadata": {
      "needs_background": "light"
     },
     "output_type": "display_data"
    }
   ],
   "source": [
    "for lb,ub,y in zip(df_ci['lb'],df_ci['ub'],range(len(df_ci))):\n",
    "    plt.plot((lb,ub),(y,y),'ro-')\n",
    "plt.yticks(range(len(df_ci)),list(df_ci['home']))"
   ]
  },
  {
   "cell_type": "markdown",
   "id": "f8d67021",
   "metadata": {},
   "source": [
    "##### Country 2 : United States"
   ]
  },
  {
   "cell_type": "code",
   "execution_count": 159,
   "id": "ba410a4d",
   "metadata": {},
   "outputs": [],
   "source": [
    "dfus=df[df['country']=='United States']"
   ]
  },
  {
   "cell_type": "code",
   "execution_count": 160,
   "id": "eb7ec993",
   "metadata": {},
   "outputs": [],
   "source": [
    "conditions = [\n",
    "    (dfus['tournament']=='Friendly'),\n",
    "    (dfus['tournament']!='Friendly')\n",
    "    ]"
   ]
  },
  {
   "cell_type": "code",
   "execution_count": 161,
   "id": "af1b606a",
   "metadata": {},
   "outputs": [
    {
     "name": "stderr",
     "output_type": "stream",
     "text": [
      "C:\\Users\\Lenovo\\AppData\\Local\\Temp/ipykernel_21004/327193532.py:1: SettingWithCopyWarning: \n",
      "A value is trying to be set on a copy of a slice from a DataFrame.\n",
      "Try using .loc[row_indexer,col_indexer] = value instead\n",
      "\n",
      "See the caveats in the documentation: https://pandas.pydata.org/pandas-docs/stable/user_guide/indexing.html#returning-a-view-versus-a-copy\n",
      "  dfus['Typematch'] = np.select(conditions, values)\n"
     ]
    }
   ],
   "source": [
    "dfus['Typematch'] = np.select(conditions, values)"
   ]
  },
  {
   "cell_type": "code",
   "execution_count": 162,
   "id": "2216a6e6",
   "metadata": {},
   "outputs": [
    {
     "data": {
      "text/html": [
       "<div>\n",
       "<style scoped>\n",
       "    .dataframe tbody tr th:only-of-type {\n",
       "        vertical-align: middle;\n",
       "    }\n",
       "\n",
       "    .dataframe tbody tr th {\n",
       "        vertical-align: top;\n",
       "    }\n",
       "\n",
       "    .dataframe thead th {\n",
       "        text-align: right;\n",
       "    }\n",
       "</style>\n",
       "<table border=\"1\" class=\"dataframe\">\n",
       "  <thead>\n",
       "    <tr style=\"text-align: right;\">\n",
       "      <th>result</th>\n",
       "      <th>draw</th>\n",
       "      <th>lose</th>\n",
       "      <th>win</th>\n",
       "      <th>All</th>\n",
       "    </tr>\n",
       "    <tr>\n",
       "      <th>typematch</th>\n",
       "      <th></th>\n",
       "      <th></th>\n",
       "      <th></th>\n",
       "      <th></th>\n",
       "    </tr>\n",
       "  </thead>\n",
       "  <tbody>\n",
       "    <tr>\n",
       "      <th>Friendly</th>\n",
       "      <td>180</td>\n",
       "      <td>247</td>\n",
       "      <td>226</td>\n",
       "      <td>653</td>\n",
       "    </tr>\n",
       "    <tr>\n",
       "      <th>Official</th>\n",
       "      <td>114</td>\n",
       "      <td>315</td>\n",
       "      <td>155</td>\n",
       "      <td>584</td>\n",
       "    </tr>\n",
       "    <tr>\n",
       "      <th>All</th>\n",
       "      <td>294</td>\n",
       "      <td>562</td>\n",
       "      <td>381</td>\n",
       "      <td>1237</td>\n",
       "    </tr>\n",
       "  </tbody>\n",
       "</table>\n",
       "</div>"
      ],
      "text/plain": [
       "result     draw  lose  win   All\n",
       "typematch                       \n",
       "Friendly    180   247  226   653\n",
       "Official    114   315  155   584\n",
       "All         294   562  381  1237"
      ]
     },
     "execution_count": 162,
     "metadata": {},
     "output_type": "execute_result"
    }
   ],
   "source": [
    "x=pd.crosstab(dfus['typematch'],dfus['result'],margins=True)\n",
    "x"
   ]
  },
  {
   "cell_type": "code",
   "execution_count": 163,
   "id": "528926fb",
   "metadata": {},
   "outputs": [
    {
     "data": {
      "text/plain": [
       "array([[ 180,  247,  226,  653],\n",
       "       [ 114,  315,  155,  584],\n",
       "       [ 294,  562,  381, 1237]], dtype=int64)"
      ]
     },
     "execution_count": 163,
     "metadata": {},
     "output_type": "execute_result"
    }
   ],
   "source": [
    "x=np.array(x)\n",
    "x"
   ]
  },
  {
   "cell_type": "code",
   "execution_count": 164,
   "id": "d102c5e5",
   "metadata": {},
   "outputs": [
    {
     "data": {
      "text/plain": [
       "(0.22959939266607973, 0.30122252514213943)"
      ]
     },
     "execution_count": 164,
     "metadata": {},
     "output_type": "execute_result"
    }
   ],
   "source": [
    "CI_uswin_friendly=proportion_confint(count=x[1,2],nobs=x[1,3],alpha=(1-.95))\n",
    "CI_uswin_friendly"
   ]
  },
  {
   "cell_type": "code",
   "execution_count": 165,
   "id": "580c9618",
   "metadata": {},
   "outputs": [
    {
     "data": {
      "text/plain": [
       "(0.3096072474351973, 0.38258264536725295)"
      ]
     },
     "execution_count": 165,
     "metadata": {},
     "output_type": "execute_result"
    }
   ],
   "source": [
    "CI_uswin_official=proportion_confint(count=x[0,2],nobs=x[0,3],alpha=(1-.95))\n",
    "CI_uswin_official"
   ]
  },
  {
   "cell_type": "code",
   "execution_count": 166,
   "id": "44c1eb7a",
   "metadata": {},
   "outputs": [
    {
     "data": {
      "text/html": [
       "<div>\n",
       "<style scoped>\n",
       "    .dataframe tbody tr th:only-of-type {\n",
       "        vertical-align: middle;\n",
       "    }\n",
       "\n",
       "    .dataframe tbody tr th {\n",
       "        vertical-align: top;\n",
       "    }\n",
       "\n",
       "    .dataframe thead th {\n",
       "        text-align: right;\n",
       "    }\n",
       "</style>\n",
       "<table border=\"1\" class=\"dataframe\">\n",
       "  <thead>\n",
       "    <tr style=\"text-align: right;\">\n",
       "      <th></th>\n",
       "      <th>Typematch</th>\n",
       "      <th>lb</th>\n",
       "      <th>ub</th>\n",
       "    </tr>\n",
       "  </thead>\n",
       "  <tbody>\n",
       "    <tr>\n",
       "      <th>0</th>\n",
       "      <td>Friendly</td>\n",
       "      <td>0.229599</td>\n",
       "      <td>0.301223</td>\n",
       "    </tr>\n",
       "    <tr>\n",
       "      <th>1</th>\n",
       "      <td>Official</td>\n",
       "      <td>0.309607</td>\n",
       "      <td>0.382583</td>\n",
       "    </tr>\n",
       "  </tbody>\n",
       "</table>\n",
       "</div>"
      ],
      "text/plain": [
       "  Typematch        lb        ub\n",
       "0  Friendly  0.229599  0.301223\n",
       "1  Official  0.309607  0.382583"
      ]
     },
     "execution_count": 166,
     "metadata": {},
     "output_type": "execute_result"
    }
   ],
   "source": [
    "ci_uswin = {}\n",
    "ci_uswin['Typematch'] = ['Friendly','Official']\n",
    "ci_uswin['lb'] = [CI_uswin_friendly[0],CI_uswin_official[0]]\n",
    "ci_uswin['ub'] = [CI_uswin_friendly[1],CI_uswin_official[1]]\n",
    "df_cius= pd.DataFrame(ci_uswin)\n",
    "df_cius"
   ]
  },
  {
   "cell_type": "code",
   "execution_count": 167,
   "id": "dc2b6997",
   "metadata": {},
   "outputs": [
    {
     "data": {
      "text/plain": [
       "([<matplotlib.axis.YTick at 0x21860110970>,\n",
       "  <matplotlib.axis.YTick at 0x218601101f0>],\n",
       " [Text(0, 0, 'Friendly'), Text(0, 1, 'Official')])"
      ]
     },
     "execution_count": 167,
     "metadata": {},
     "output_type": "execute_result"
    },
    {
     "data": {
      "image/png": "[encoded data removed]",
      "text/plain": [
       "<Figure size 432x288 with 1 Axes>"
      ]
     },
     "metadata": {
      "needs_background": "light"
     },
     "output_type": "display_data"
    }
   ],
   "source": [
    "for lb,ub,y in zip(df_cius['lb'],df_cius['ub'],range(len(df_cius))):\n",
    "    plt.plot((lb,ub),(y,y),'ro-')\n",
    "plt.yticks(range(len(df_cius)),list(df_cius['Typematch']))"
   ]
  },
  {
   "cell_type": "code",
   "execution_count": 168,
   "id": "b701a0bb",
   "metadata": {},
   "outputs": [
    {
     "data": {
      "text/plain": [
       "(0.3410587617395715, 0.4154496609250533)"
      ]
     },
     "execution_count": 168,
     "metadata": {},
     "output_type": "execute_result"
    }
   ],
   "source": [
    "CI_uslose_friendly=proportion_confint(count=x[0,1],nobs=x[0,3],alpha=(1-.95))\n",
    "CI_uslose_friendly"
   ]
  },
  {
   "cell_type": "code",
   "execution_count": 169,
   "id": "88925e7c",
   "metadata": {},
   "outputs": [
    {
     "data": {
      "text/plain": [
       "(0.4989576113893054, 0.5798095118983658)"
      ]
     },
     "execution_count": 169,
     "metadata": {},
     "output_type": "execute_result"
    }
   ],
   "source": [
    "CI_uslose_official=proportion_confint(count=x[1,1],nobs=x[1,3],alpha=(1-.95))\n",
    "CI_uslose_official"
   ]
  },
  {
   "cell_type": "code",
   "execution_count": 170,
   "id": "f3687dfd",
   "metadata": {},
   "outputs": [
    {
     "data": {
      "text/html": [
       "<div>\n",
       "<style scoped>\n",
       "    .dataframe tbody tr th:only-of-type {\n",
       "        vertical-align: middle;\n",
       "    }\n",
       "\n",
       "    .dataframe tbody tr th {\n",
       "        vertical-align: top;\n",
       "    }\n",
       "\n",
       "    .dataframe thead th {\n",
       "        text-align: right;\n",
       "    }\n",
       "</style>\n",
       "<table border=\"1\" class=\"dataframe\">\n",
       "  <thead>\n",
       "    <tr style=\"text-align: right;\">\n",
       "      <th></th>\n",
       "      <th>Typematch</th>\n",
       "      <th>lb</th>\n",
       "      <th>ub</th>\n",
       "    </tr>\n",
       "  </thead>\n",
       "  <tbody>\n",
       "    <tr>\n",
       "      <th>0</th>\n",
       "      <td>Friendly</td>\n",
       "      <td>0.341059</td>\n",
       "      <td>0.41545</td>\n",
       "    </tr>\n",
       "    <tr>\n",
       "      <th>1</th>\n",
       "      <td>Official</td>\n",
       "      <td>0.498958</td>\n",
       "      <td>0.57981</td>\n",
       "    </tr>\n",
       "  </tbody>\n",
       "</table>\n",
       "</div>"
      ],
      "text/plain": [
       "  Typematch        lb       ub\n",
       "0  Friendly  0.341059  0.41545\n",
       "1  Official  0.498958  0.57981"
      ]
     },
     "execution_count": 170,
     "metadata": {},
     "output_type": "execute_result"
    }
   ],
   "source": [
    " ci_uslose = {}\n",
    "ci_uslose['Typematch'] = ['Friendly','Official']\n",
    "ci_uslose['lb'] = [CI_uslose_friendly[0],CI_uslose_official[0]]\n",
    "ci_uslose['ub'] = [CI_uslose_friendly[1],CI_uslose_official[1]]\n",
    "df_cius= pd.DataFrame(ci_uslose)\n",
    "df_cius"
   ]
  },
  {
   "cell_type": "code",
   "execution_count": 171,
   "id": "a1dd401d",
   "metadata": {},
   "outputs": [
    {
     "data": {
      "text/plain": [
       "([<matplotlib.axis.YTick at 0x2186016dd00>,\n",
       "  <matplotlib.axis.YTick at 0x2185f60e1c0>],\n",
       " [Text(0, 0, 'Friendly'), Text(0, 1, 'Official')])"
      ]
     },
     "execution_count": 171,
     "metadata": {},
     "output_type": "execute_result"
    },
    {
     "data": {
      "image/png": "[encoded data removed]",
      "text/plain": [
       "<Figure size 432x288 with 1 Axes>"
      ]
     },
     "metadata": {
      "needs_background": "light"
     },
     "output_type": "display_data"
    }
   ],
   "source": [
    "for lb,ub,y in zip(df_cius['lb'],df_cius['ub'],range(len(df_cius))):\n",
    "    plt.plot((lb,ub),(y,y),'ro-')\n",
    "plt.yticks(range(len(df_cius)),list(df_cius['Typematch']))"
   ]
  },
  {
   "cell_type": "code",
   "execution_count": 172,
   "id": "fe8aa87b",
   "metadata": {},
   "outputs": [
    {
     "name": "stderr",
     "output_type": "stream",
     "text": [
      "C:\\Users\\Lenovo\\AppData\\Local\\Temp/ipykernel_21004/3054155073.py:1: SettingWithCopyWarning: \n",
      "A value is trying to be set on a copy of a slice from a DataFrame.\n",
      "Try using .loc[row_indexer,col_indexer] = value instead\n",
      "\n",
      "See the caveats in the documentation: https://pandas.pydata.org/pandas-docs/stable/user_guide/indexing.html#returning-a-view-versus-a-copy\n",
      "  dfus['home']=(dfus['home_team']=='United States')\n"
     ]
    }
   ],
   "source": [
    "dfus['home']=(dfus['home_team']=='United States')"
   ]
  },
  {
   "cell_type": "code",
   "execution_count": 173,
   "id": "9d786614",
   "metadata": {},
   "outputs": [
    {
     "data": {
      "text/html": [
       "<div>\n",
       "<style scoped>\n",
       "    .dataframe tbody tr th:only-of-type {\n",
       "        vertical-align: middle;\n",
       "    }\n",
       "\n",
       "    .dataframe tbody tr th {\n",
       "        vertical-align: top;\n",
       "    }\n",
       "\n",
       "    .dataframe thead th {\n",
       "        text-align: right;\n",
       "    }\n",
       "</style>\n",
       "<table border=\"1\" class=\"dataframe\">\n",
       "  <thead>\n",
       "    <tr style=\"text-align: right;\">\n",
       "      <th>result</th>\n",
       "      <th>draw</th>\n",
       "      <th>lose</th>\n",
       "      <th>win</th>\n",
       "      <th>All</th>\n",
       "    </tr>\n",
       "    <tr>\n",
       "      <th>home</th>\n",
       "      <th></th>\n",
       "      <th></th>\n",
       "      <th></th>\n",
       "      <th></th>\n",
       "    </tr>\n",
       "  </thead>\n",
       "  <tbody>\n",
       "    <tr>\n",
       "      <th>False</th>\n",
       "      <td>203</td>\n",
       "      <td>333</td>\n",
       "      <td>290</td>\n",
       "      <td>826</td>\n",
       "    </tr>\n",
       "    <tr>\n",
       "      <th>True</th>\n",
       "      <td>91</td>\n",
       "      <td>229</td>\n",
       "      <td>91</td>\n",
       "      <td>411</td>\n",
       "    </tr>\n",
       "    <tr>\n",
       "      <th>All</th>\n",
       "      <td>294</td>\n",
       "      <td>562</td>\n",
       "      <td>381</td>\n",
       "      <td>1237</td>\n",
       "    </tr>\n",
       "  </tbody>\n",
       "</table>\n",
       "</div>"
      ],
      "text/plain": [
       "result  draw  lose  win   All\n",
       "home                         \n",
       "False    203   333  290   826\n",
       "True      91   229   91   411\n",
       "All      294   562  381  1237"
      ]
     },
     "execution_count": 173,
     "metadata": {},
     "output_type": "execute_result"
    }
   ],
   "source": [
    "x=pd.crosstab(dfus['home'],dfus['result'],margins=True)\n",
    "x"
   ]
  },
  {
   "cell_type": "code",
   "execution_count": 174,
   "id": "51e0a47a",
   "metadata": {},
   "outputs": [
    {
     "data": {
      "text/plain": [
       "array([[ 203,  333,  290,  826],\n",
       "       [  91,  229,   91,  411],\n",
       "       [ 294,  562,  381, 1237]], dtype=int64)"
      ]
     },
     "execution_count": 174,
     "metadata": {},
     "output_type": "execute_result"
    }
   ],
   "source": [
    "x=np.array(x)\n",
    "x"
   ]
  },
  {
   "cell_type": "code",
   "execution_count": 175,
   "id": "135832d0",
   "metadata": {},
   "outputs": [
    {
     "data": {
      "text/plain": [
       "(0.1812708525133201, 0.26155153191490377)"
      ]
     },
     "execution_count": 175,
     "metadata": {},
     "output_type": "execute_result"
    }
   ],
   "source": [
    "CI_uswin_home=proportion_confint(count=x[1,2],nobs=x[1,3],alpha=(1-.95))\n",
    "CI_uswin_home"
   ]
  },
  {
   "cell_type": "code",
   "execution_count": 176,
   "id": "25e385d7",
   "metadata": {},
   "outputs": [
    {
     "data": {
      "text/plain": [
       "(0.31853895723001224, 0.3836402195254357)"
      ]
     },
     "execution_count": 176,
     "metadata": {},
     "output_type": "execute_result"
    }
   ],
   "source": [
    "CI_uswin_away=proportion_confint(count=x[0,2],nobs=x[0,3],alpha=(1-.95))\n",
    "CI_uswin_away"
   ]
  },
  {
   "cell_type": "code",
   "execution_count": 177,
   "id": "19e2bf9f",
   "metadata": {},
   "outputs": [
    {
     "data": {
      "text/html": [
       "<div>\n",
       "<style scoped>\n",
       "    .dataframe tbody tr th:only-of-type {\n",
       "        vertical-align: middle;\n",
       "    }\n",
       "\n",
       "    .dataframe tbody tr th {\n",
       "        vertical-align: top;\n",
       "    }\n",
       "\n",
       "    .dataframe thead th {\n",
       "        text-align: right;\n",
       "    }\n",
       "</style>\n",
       "<table border=\"1\" class=\"dataframe\">\n",
       "  <thead>\n",
       "    <tr style=\"text-align: right;\">\n",
       "      <th></th>\n",
       "      <th>home</th>\n",
       "      <th>lb</th>\n",
       "      <th>ub</th>\n",
       "    </tr>\n",
       "  </thead>\n",
       "  <tbody>\n",
       "    <tr>\n",
       "      <th>0</th>\n",
       "      <td>Yes</td>\n",
       "      <td>0.181271</td>\n",
       "      <td>0.261552</td>\n",
       "    </tr>\n",
       "    <tr>\n",
       "      <th>1</th>\n",
       "      <td>No</td>\n",
       "      <td>0.318539</td>\n",
       "      <td>0.383640</td>\n",
       "    </tr>\n",
       "  </tbody>\n",
       "</table>\n",
       "</div>"
      ],
      "text/plain": [
       "  home        lb        ub\n",
       "0  Yes  0.181271  0.261552\n",
       "1   No  0.318539  0.383640"
      ]
     },
     "execution_count": 177,
     "metadata": {},
     "output_type": "execute_result"
    }
   ],
   "source": [
    "ci_uswin = {}\n",
    "ci_uswin['home'] = ['Yes','No']\n",
    "ci_uswin['lb'] = [CI_uswin_home[0],CI_uswin_away[0]]\n",
    "ci_uswin['ub'] = [CI_uswin_home[1],CI_uswin_away[1]]\n",
    "df_ci= pd.DataFrame(ci_uswin)\n",
    "df_ci"
   ]
  },
  {
   "cell_type": "code",
   "execution_count": 178,
   "id": "0cdddca6",
   "metadata": {},
   "outputs": [
    {
     "data": {
      "text/plain": [
       "([<matplotlib.axis.YTick at 0x218601cc940>,\n",
       "  <matplotlib.axis.YTick at 0x218601cc1c0>],\n",
       " [Text(0, 0, 'Yes'), Text(0, 1, 'No')])"
      ]
     },
     "execution_count": 178,
     "metadata": {},
     "output_type": "execute_result"
    },
    {
     "data": {
      "image/png": "[encoded data removed]",
      "text/plain": [
       "<Figure size 432x288 with 1 Axes>"
      ]
     },
     "metadata": {
      "needs_background": "light"
     },
     "output_type": "display_data"
    }
   ],
   "source": [
    "for lb,ub,y in zip(df_ci['lb'],df_ci['ub'],range(len(df_ci))):\n",
    "    plt.plot((lb,ub),(y,y),'ro-')\n",
    "plt.yticks(range(len(df_ci)),list(df_ci['home']))"
   ]
  },
  {
   "cell_type": "code",
   "execution_count": 179,
   "id": "e36edabf",
   "metadata": {},
   "outputs": [
    {
     "data": {
      "text/plain": [
       "(0.5091557759095878, 0.6051994552339645)"
      ]
     },
     "execution_count": 179,
     "metadata": {},
     "output_type": "execute_result"
    }
   ],
   "source": [
    "CI_uslose_home=proportion_confint(count=x[1,1],nobs=x[1,3],alpha=(1-.95))\n",
    "CI_uslose_home"
   ]
  },
  {
   "cell_type": "code",
   "execution_count": 180,
   "id": "7e57cbff",
   "metadata": {},
   "outputs": [
    {
     "data": {
      "text/plain": [
       "(0.3696955835778047, 0.4365998159379338)"
      ]
     },
     "execution_count": 180,
     "metadata": {},
     "output_type": "execute_result"
    }
   ],
   "source": [
    "CI_uslose_away=proportion_confint(count=x[0,1],nobs=x[0,3],alpha=(1-.95))\n",
    "CI_uslose_away"
   ]
  },
  {
   "cell_type": "code",
   "execution_count": 181,
   "id": "eaac4edc",
   "metadata": {},
   "outputs": [
    {
     "data": {
      "text/html": [
       "<div>\n",
       "<style scoped>\n",
       "    .dataframe tbody tr th:only-of-type {\n",
       "        vertical-align: middle;\n",
       "    }\n",
       "\n",
       "    .dataframe tbody tr th {\n",
       "        vertical-align: top;\n",
       "    }\n",
       "\n",
       "    .dataframe thead th {\n",
       "        text-align: right;\n",
       "    }\n",
       "</style>\n",
       "<table border=\"1\" class=\"dataframe\">\n",
       "  <thead>\n",
       "    <tr style=\"text-align: right;\">\n",
       "      <th></th>\n",
       "      <th>home</th>\n",
       "      <th>lb</th>\n",
       "      <th>ub</th>\n",
       "    </tr>\n",
       "  </thead>\n",
       "  <tbody>\n",
       "    <tr>\n",
       "      <th>0</th>\n",
       "      <td>Yes</td>\n",
       "      <td>0.509156</td>\n",
       "      <td>0.605199</td>\n",
       "    </tr>\n",
       "    <tr>\n",
       "      <th>1</th>\n",
       "      <td>No</td>\n",
       "      <td>0.369696</td>\n",
       "      <td>0.436600</td>\n",
       "    </tr>\n",
       "  </tbody>\n",
       "</table>\n",
       "</div>"
      ],
      "text/plain": [
       "  home        lb        ub\n",
       "0  Yes  0.509156  0.605199\n",
       "1   No  0.369696  0.436600"
      ]
     },
     "execution_count": 181,
     "metadata": {},
     "output_type": "execute_result"
    }
   ],
   "source": [
    "ci_uslose = {}\n",
    "ci_uslose['home'] = ['Yes','No']\n",
    "ci_uslose['lb'] = [CI_uslose_home[0],CI_uslose_away[0]]\n",
    "ci_uslose['ub'] = [CI_uslose_home[1],CI_uslose_away[1]]\n",
    "df_ci= pd.DataFrame(ci_uslose)\n",
    "df_ci"
   ]
  },
  {
   "cell_type": "code",
   "execution_count": 182,
   "id": "b18fd2d6",
   "metadata": {},
   "outputs": [
    {
     "data": {
      "text/plain": [
       "([<matplotlib.axis.YTick at 0x2186022f640>,\n",
       "  <matplotlib.axis.YTick at 0x21860225e80>],\n",
       " [Text(0, 0, 'Yes'), Text(0, 1, 'No')])"
      ]
     },
     "execution_count": 182,
     "metadata": {},
     "output_type": "execute_result"
    },
    {
     "data": {
      "image/png": "[encoded data removed]",
      "text/plain": [
       "<Figure size 432x288 with 1 Axes>"
      ]
     },
     "metadata": {
      "needs_background": "light"
     },
     "output_type": "display_data"
    }
   ],
   "source": [
    "for lb,ub,y in zip(df_ci['lb'],df_ci['ub'],range(len(df_ci))):\n",
    "    plt.plot((lb,ub),(y,y),'ro-')\n",
    "plt.yticks(range(len(df_ci)),list(df_ci['home']))"
   ]
  },
  {
   "cell_type": "markdown",
   "id": "46a489a0",
   "metadata": {},
   "source": [
    "##### Country 3 : Malaysia"
   ]
  },
  {
   "cell_type": "code",
   "execution_count": 188,
   "id": "75c962a7",
   "metadata": {},
   "outputs": [],
   "source": [
    "dfus=df[df['country']=='Malaysia']"
   ]
  },
  {
   "cell_type": "code",
   "execution_count": 189,
   "id": "5903e932",
   "metadata": {},
   "outputs": [],
   "source": [
    "conditions = [(dfus['tournament']=='Friendly'),(dfus['tournament']!='Friendly')] \n",
    "values=['Friendly','Official']"
   ]
  },
  {
   "cell_type": "code",
   "execution_count": 190,
   "id": "2c1bb307",
   "metadata": {},
   "outputs": [
    {
     "name": "stderr",
     "output_type": "stream",
     "text": [
      "C:\\Users\\Lenovo\\AppData\\Local\\Temp/ipykernel_21004/327193532.py:1: SettingWithCopyWarning: \n",
      "A value is trying to be set on a copy of a slice from a DataFrame.\n",
      "Try using .loc[row_indexer,col_indexer] = value instead\n",
      "\n",
      "See the caveats in the documentation: https://pandas.pydata.org/pandas-docs/stable/user_guide/indexing.html#returning-a-view-versus-a-copy\n",
      "  dfus['Typematch'] = np.select(conditions, values)\n"
     ]
    }
   ],
   "source": [
    "dfus['Typematch'] = np.select(conditions, values)"
   ]
  },
  {
   "cell_type": "code",
   "execution_count": 191,
   "id": "f3bb5242",
   "metadata": {},
   "outputs": [
    {
     "data": {
      "text/html": [
       "<div>\n",
       "<style scoped>\n",
       "    .dataframe tbody tr th:only-of-type {\n",
       "        vertical-align: middle;\n",
       "    }\n",
       "\n",
       "    .dataframe tbody tr th {\n",
       "        vertical-align: top;\n",
       "    }\n",
       "\n",
       "    .dataframe thead th {\n",
       "        text-align: right;\n",
       "    }\n",
       "</style>\n",
       "<table border=\"1\" class=\"dataframe\">\n",
       "  <thead>\n",
       "    <tr style=\"text-align: right;\">\n",
       "      <th>result</th>\n",
       "      <th>draw</th>\n",
       "      <th>lose</th>\n",
       "      <th>win</th>\n",
       "      <th>All</th>\n",
       "    </tr>\n",
       "    <tr>\n",
       "      <th>typematch</th>\n",
       "      <th></th>\n",
       "      <th></th>\n",
       "      <th></th>\n",
       "      <th></th>\n",
       "    </tr>\n",
       "  </thead>\n",
       "  <tbody>\n",
       "    <tr>\n",
       "      <th>Friendly</th>\n",
       "      <td>26</td>\n",
       "      <td>38</td>\n",
       "      <td>23</td>\n",
       "      <td>87</td>\n",
       "    </tr>\n",
       "    <tr>\n",
       "      <th>Official</th>\n",
       "      <td>147</td>\n",
       "      <td>306</td>\n",
       "      <td>204</td>\n",
       "      <td>657</td>\n",
       "    </tr>\n",
       "    <tr>\n",
       "      <th>All</th>\n",
       "      <td>173</td>\n",
       "      <td>344</td>\n",
       "      <td>227</td>\n",
       "      <td>744</td>\n",
       "    </tr>\n",
       "  </tbody>\n",
       "</table>\n",
       "</div>"
      ],
      "text/plain": [
       "result     draw  lose  win  All\n",
       "typematch                      \n",
       "Friendly     26    38   23   87\n",
       "Official    147   306  204  657\n",
       "All         173   344  227  744"
      ]
     },
     "execution_count": 191,
     "metadata": {},
     "output_type": "execute_result"
    }
   ],
   "source": [
    "x=pd.crosstab(dfus['typematch'],dfus['result'],margins=True)\n",
    "x"
   ]
  },
  {
   "cell_type": "code",
   "execution_count": 192,
   "id": "fb343a54",
   "metadata": {},
   "outputs": [
    {
     "data": {
      "text/plain": [
       "array([[ 26,  38,  23,  87],\n",
       "       [147, 306, 204, 657],\n",
       "       [173, 344, 227, 744]], dtype=int64)"
      ]
     },
     "execution_count": 192,
     "metadata": {},
     "output_type": "execute_result"
    }
   ],
   "source": [
    "x=np.array(x)\n",
    "x"
   ]
  },
  {
   "cell_type": "code",
   "execution_count": 193,
   "id": "bf70c7fe",
   "metadata": {},
   "outputs": [
    {
     "data": {
      "text/plain": [
       "(0.2751217623066649, 0.3458828039033807)"
      ]
     },
     "execution_count": 193,
     "metadata": {},
     "output_type": "execute_result"
    }
   ],
   "source": [
    "CI_uswin_friendly=proportion_confint(count=x[1,2],nobs=x[1,3],alpha=(1-.95))\n",
    "CI_uswin_friendly"
   ]
  },
  {
   "cell_type": "code",
   "execution_count": 194,
   "id": "020ab2e4",
   "metadata": {},
   "outputs": [
    {
     "data": {
      "text/plain": [
       "(0.17170123991784997, 0.3570343922660581)"
      ]
     },
     "execution_count": 194,
     "metadata": {},
     "output_type": "execute_result"
    }
   ],
   "source": [
    "CI_uswin_official=proportion_confint(count=x[0,2],nobs=x[0,3],alpha=(1-.95))\n",
    "CI_uswin_official"
   ]
  },
  {
   "cell_type": "code",
   "execution_count": 195,
   "id": "705ed577",
   "metadata": {},
   "outputs": [
    {
     "data": {
      "text/html": [
       "<div>\n",
       "<style scoped>\n",
       "    .dataframe tbody tr th:only-of-type {\n",
       "        vertical-align: middle;\n",
       "    }\n",
       "\n",
       "    .dataframe tbody tr th {\n",
       "        vertical-align: top;\n",
       "    }\n",
       "\n",
       "    .dataframe thead th {\n",
       "        text-align: right;\n",
       "    }\n",
       "</style>\n",
       "<table border=\"1\" class=\"dataframe\">\n",
       "  <thead>\n",
       "    <tr style=\"text-align: right;\">\n",
       "      <th></th>\n",
       "      <th>Typematch</th>\n",
       "      <th>lb</th>\n",
       "      <th>ub</th>\n",
       "    </tr>\n",
       "  </thead>\n",
       "  <tbody>\n",
       "    <tr>\n",
       "      <th>0</th>\n",
       "      <td>Friendly</td>\n",
       "      <td>0.275122</td>\n",
       "      <td>0.345883</td>\n",
       "    </tr>\n",
       "    <tr>\n",
       "      <th>1</th>\n",
       "      <td>Official</td>\n",
       "      <td>0.171701</td>\n",
       "      <td>0.357034</td>\n",
       "    </tr>\n",
       "  </tbody>\n",
       "</table>\n",
       "</div>"
      ],
      "text/plain": [
       "  Typematch        lb        ub\n",
       "0  Friendly  0.275122  0.345883\n",
       "1  Official  0.171701  0.357034"
      ]
     },
     "execution_count": 195,
     "metadata": {},
     "output_type": "execute_result"
    }
   ],
   "source": [
    "ci_uswin = {}\n",
    "ci_uswin['Typematch'] = ['Friendly','Official']\n",
    "ci_uswin['lb'] = [CI_uswin_friendly[0],CI_uswin_official[0]]\n",
    "ci_uswin['ub'] = [CI_uswin_friendly[1],CI_uswin_official[1]]\n",
    "df_cius= pd.DataFrame(ci_uswin)\n",
    "df_cius"
   ]
  },
  {
   "cell_type": "code",
   "execution_count": 196,
   "id": "d45926a3",
   "metadata": {},
   "outputs": [
    {
     "data": {
      "text/plain": [
       "([<matplotlib.axis.YTick at 0x21860292370>,\n",
       "  <matplotlib.axis.YTick at 0x2186028abb0>],\n",
       " [Text(0, 0, 'Friendly'), Text(0, 1, 'Official')])"
      ]
     },
     "execution_count": 196,
     "metadata": {},
     "output_type": "execute_result"
    },
    {
     "data": {
      "image/png": "[encoded data removed]",
      "text/plain": [
       "<Figure size 432x288 with 1 Axes>"
      ]
     },
     "metadata": {
      "needs_background": "light"
     },
     "output_type": "display_data"
    }
   ],
   "source": [
    "for lb,ub,y in zip(df_cius['lb'],df_cius['ub'],range(len(df_cius))):\n",
    "    plt.plot((lb,ub),(y,y),'ro-')\n",
    "plt.yticks(range(len(df_cius)),list(df_cius['Typematch']))"
   ]
  },
  {
   "cell_type": "code",
   "execution_count": 197,
   "id": "5631243f",
   "metadata": {},
   "outputs": [
    {
     "data": {
      "text/plain": [
       "(0.3325596937938109, 0.5410035245969937)"
      ]
     },
     "execution_count": 197,
     "metadata": {},
     "output_type": "execute_result"
    }
   ],
   "source": [
    "CI_uslose_friendly=proportion_confint(count=x[0,1],nobs=x[0,3],alpha=(1-.95))\n",
    "CI_uslose_friendly"
   ]
  },
  {
   "cell_type": "code",
   "execution_count": 198,
   "id": "daf779ae",
   "metadata": {},
   "outputs": [
    {
     "data": {
      "text/plain": [
       "(0.42761047206364666, 0.5038963772514218)"
      ]
     },
     "execution_count": 198,
     "metadata": {},
     "output_type": "execute_result"
    }
   ],
   "source": [
    "CI_uslose_official=proportion_confint(count=x[1,1],nobs=x[1,3],alpha=(1-.95))\n",
    "CI_uslose_official"
   ]
  },
  {
   "cell_type": "code",
   "execution_count": 199,
   "id": "6286e035",
   "metadata": {},
   "outputs": [
    {
     "data": {
      "text/html": [
       "<div>\n",
       "<style scoped>\n",
       "    .dataframe tbody tr th:only-of-type {\n",
       "        vertical-align: middle;\n",
       "    }\n",
       "\n",
       "    .dataframe tbody tr th {\n",
       "        vertical-align: top;\n",
       "    }\n",
       "\n",
       "    .dataframe thead th {\n",
       "        text-align: right;\n",
       "    }\n",
       "</style>\n",
       "<table border=\"1\" class=\"dataframe\">\n",
       "  <thead>\n",
       "    <tr style=\"text-align: right;\">\n",
       "      <th></th>\n",
       "      <th>Typematch</th>\n",
       "      <th>lb</th>\n",
       "      <th>ub</th>\n",
       "    </tr>\n",
       "  </thead>\n",
       "  <tbody>\n",
       "    <tr>\n",
       "      <th>0</th>\n",
       "      <td>Friendly</td>\n",
       "      <td>0.33256</td>\n",
       "      <td>0.541004</td>\n",
       "    </tr>\n",
       "    <tr>\n",
       "      <th>1</th>\n",
       "      <td>Official</td>\n",
       "      <td>0.42761</td>\n",
       "      <td>0.503896</td>\n",
       "    </tr>\n",
       "  </tbody>\n",
       "</table>\n",
       "</div>"
      ],
      "text/plain": [
       "  Typematch       lb        ub\n",
       "0  Friendly  0.33256  0.541004\n",
       "1  Official  0.42761  0.503896"
      ]
     },
     "execution_count": 199,
     "metadata": {},
     "output_type": "execute_result"
    }
   ],
   "source": [
    "ci_uslose = {}\n",
    "ci_uslose['Typematch'] = ['Friendly','Official']\n",
    "ci_uslose['lb'] = [CI_uslose_friendly[0],CI_uslose_official[0]]\n",
    "ci_uslose['ub'] = [CI_uslose_friendly[1],CI_uslose_official[1]]\n",
    "df_cius= pd.DataFrame(ci_uslose)\n",
    "df_cius"
   ]
  },
  {
   "cell_type": "code",
   "execution_count": 203,
   "id": "691d83d0",
   "metadata": {},
   "outputs": [
    {
     "data": {
      "text/plain": [
       "([<matplotlib.axis.YTick at 0x2186037e9d0>,\n",
       "  <matplotlib.axis.YTick at 0x2186037e250>],\n",
       " [Text(0, 0, 'Friendly'), Text(0, 1, 'Official')])"
      ]
     },
     "execution_count": 203,
     "metadata": {},
     "output_type": "execute_result"
    },
    {
     "data": {
      "image/png": "[encoded data removed]",
      "text/plain": [
       "<Figure size 432x288 with 1 Axes>"
      ]
     },
     "metadata": {
      "needs_background": "light"
     },
     "output_type": "display_data"
    }
   ],
   "source": [
    "for lb,ub,y in zip(df_cius['lb'],df_cius['ub'],range(len(df_cius))):\n",
    "    plt.plot((lb,ub),(y,y),'ro-')\n",
    "plt.yticks(range(len(df_cius)),list(df_cius['Typematch']))"
   ]
  },
  {
   "cell_type": "code",
   "execution_count": 205,
   "id": "194c1ea0",
   "metadata": {},
   "outputs": [
    {
     "name": "stderr",
     "output_type": "stream",
     "text": [
      "C:\\Users\\Lenovo\\AppData\\Local\\Temp/ipykernel_21004/3556067377.py:1: SettingWithCopyWarning: \n",
      "A value is trying to be set on a copy of a slice from a DataFrame.\n",
      "Try using .loc[row_indexer,col_indexer] = value instead\n",
      "\n",
      "See the caveats in the documentation: https://pandas.pydata.org/pandas-docs/stable/user_guide/indexing.html#returning-a-view-versus-a-copy\n",
      "  dfus['home']=(dfus['home_team']=='Malaysia')\n"
     ]
    }
   ],
   "source": [
    " dfus['home']=(dfus['home_team']=='Malaysia')"
   ]
  },
  {
   "cell_type": "code",
   "execution_count": 206,
   "id": "fb8dfa58",
   "metadata": {},
   "outputs": [
    {
     "data": {
      "text/html": [
       "<div>\n",
       "<style scoped>\n",
       "    .dataframe tbody tr th:only-of-type {\n",
       "        vertical-align: middle;\n",
       "    }\n",
       "\n",
       "    .dataframe tbody tr th {\n",
       "        vertical-align: top;\n",
       "    }\n",
       "\n",
       "    .dataframe thead th {\n",
       "        text-align: right;\n",
       "    }\n",
       "</style>\n",
       "<table border=\"1\" class=\"dataframe\">\n",
       "  <thead>\n",
       "    <tr style=\"text-align: right;\">\n",
       "      <th>result</th>\n",
       "      <th>draw</th>\n",
       "      <th>lose</th>\n",
       "      <th>win</th>\n",
       "      <th>All</th>\n",
       "    </tr>\n",
       "    <tr>\n",
       "      <th>home</th>\n",
       "      <th></th>\n",
       "      <th></th>\n",
       "      <th></th>\n",
       "      <th></th>\n",
       "    </tr>\n",
       "  </thead>\n",
       "  <tbody>\n",
       "    <tr>\n",
       "      <th>False</th>\n",
       "      <td>104</td>\n",
       "      <td>215</td>\n",
       "      <td>151</td>\n",
       "      <td>470</td>\n",
       "    </tr>\n",
       "    <tr>\n",
       "      <th>True</th>\n",
       "      <td>69</td>\n",
       "      <td>129</td>\n",
       "      <td>76</td>\n",
       "      <td>274</td>\n",
       "    </tr>\n",
       "    <tr>\n",
       "      <th>All</th>\n",
       "      <td>173</td>\n",
       "      <td>344</td>\n",
       "      <td>227</td>\n",
       "      <td>744</td>\n",
       "    </tr>\n",
       "  </tbody>\n",
       "</table>\n",
       "</div>"
      ],
      "text/plain": [
       "result  draw  lose  win  All\n",
       "home                        \n",
       "False    104   215  151  470\n",
       "True      69   129   76  274\n",
       "All      173   344  227  744"
      ]
     },
     "execution_count": 206,
     "metadata": {},
     "output_type": "execute_result"
    }
   ],
   "source": [
    "x=pd.crosstab(dfus['home'],dfus['result'],margins=True)\n",
    "x"
   ]
  },
  {
   "cell_type": "code",
   "execution_count": 207,
   "id": "ff6d8d1c",
   "metadata": {},
   "outputs": [
    {
     "data": {
      "text/plain": [
       "array([[104, 215, 151, 470],\n",
       "       [ 69, 129,  76, 274],\n",
       "       [173, 344, 227, 744]], dtype=int64)"
      ]
     },
     "execution_count": 207,
     "metadata": {},
     "output_type": "execute_result"
    }
   ],
   "source": [
    "x=np.array(x)\n",
    "x"
   ]
  },
  {
   "cell_type": "code",
   "execution_count": 208,
   "id": "62e89ac0",
   "metadata": {},
   "outputs": [
    {
     "data": {
      "text/plain": [
       "(0.2243617948137066, 0.33038273073373864)"
      ]
     },
     "execution_count": 208,
     "metadata": {},
     "output_type": "execute_result"
    }
   ],
   "source": [
    "CI_uswin_home=proportion_confint(count=x[1,2],nobs=x[1,3],alpha=(1-.95))\n",
    "CI_uswin_home"
   ]
  },
  {
   "cell_type": "code",
   "execution_count": 209,
   "id": "2164e23b",
   "metadata": {},
   "outputs": [
    {
     "data": {
      "text/plain": [
       "(0.2790598143842422, 0.36349337710511953)"
      ]
     },
     "execution_count": 209,
     "metadata": {},
     "output_type": "execute_result"
    }
   ],
   "source": [
    "CI_uswin_away=proportion_confint(count=x[0,2],nobs=x[0,3],alpha=(1-.95))\n",
    "CI_uswin_away"
   ]
  },
  {
   "cell_type": "code",
   "execution_count": 210,
   "id": "49a45435",
   "metadata": {},
   "outputs": [
    {
     "data": {
      "text/html": [
       "<div>\n",
       "<style scoped>\n",
       "    .dataframe tbody tr th:only-of-type {\n",
       "        vertical-align: middle;\n",
       "    }\n",
       "\n",
       "    .dataframe tbody tr th {\n",
       "        vertical-align: top;\n",
       "    }\n",
       "\n",
       "    .dataframe thead th {\n",
       "        text-align: right;\n",
       "    }\n",
       "</style>\n",
       "<table border=\"1\" class=\"dataframe\">\n",
       "  <thead>\n",
       "    <tr style=\"text-align: right;\">\n",
       "      <th></th>\n",
       "      <th>home</th>\n",
       "      <th>lb</th>\n",
       "      <th>ub</th>\n",
       "    </tr>\n",
       "  </thead>\n",
       "  <tbody>\n",
       "    <tr>\n",
       "      <th>0</th>\n",
       "      <td>Yes</td>\n",
       "      <td>0.224362</td>\n",
       "      <td>0.330383</td>\n",
       "    </tr>\n",
       "    <tr>\n",
       "      <th>1</th>\n",
       "      <td>No</td>\n",
       "      <td>0.279060</td>\n",
       "      <td>0.363493</td>\n",
       "    </tr>\n",
       "  </tbody>\n",
       "</table>\n",
       "</div>"
      ],
      "text/plain": [
       "  home        lb        ub\n",
       "0  Yes  0.224362  0.330383\n",
       "1   No  0.279060  0.363493"
      ]
     },
     "execution_count": 210,
     "metadata": {},
     "output_type": "execute_result"
    }
   ],
   "source": [
    "ci_uswin = {}\n",
    "ci_uswin['home'] = ['Yes','No']\n",
    "ci_uswin['lb'] = [CI_uswin_home[0],CI_uswin_away[0]]\n",
    "ci_uswin['ub'] = [CI_uswin_home[1],CI_uswin_away[1]]\n",
    "df_ci= pd.DataFrame(ci_uswin)\n",
    "df_ci"
   ]
  },
  {
   "cell_type": "code",
   "execution_count": 211,
   "id": "7a2e8604",
   "metadata": {},
   "outputs": [
    {
     "data": {
      "text/plain": [
       "([<matplotlib.axis.YTick at 0x218603d5e50>,\n",
       "  <matplotlib.axis.YTick at 0x218603d5bb0>],\n",
       " [Text(0, 0, 'Yes'), Text(0, 1, 'No')])"
      ]
     },
     "execution_count": 211,
     "metadata": {},
     "output_type": "execute_result"
    },
    {
     "data": {
      "image/png": "[encoded data removed]",
      "text/plain": [
       "<Figure size 432x288 with 1 Axes>"
      ]
     },
     "metadata": {
      "needs_background": "light"
     },
     "output_type": "display_data"
    }
   ],
   "source": [
    "for lb,ub,y in zip(df_ci['lb'],df_ci['ub'],range(len(df_ci))):\n",
    "    plt.plot((lb,ub),(y,y),'ro-')\n",
    "plt.yticks(range(len(df_ci)),list(df_ci['home']))"
   ]
  },
  {
   "cell_type": "code",
   "execution_count": 212,
   "id": "db205bc1",
   "metadata": {},
   "outputs": [
    {
     "data": {
      "text/plain": [
       "(0.4117010659354705, 0.5299047734805878)"
      ]
     },
     "execution_count": 212,
     "metadata": {},
     "output_type": "execute_result"
    }
   ],
   "source": [
    "CI_uslose_home=proportion_confint(count=x[1,1],nobs=x[1,3],alpha=(1-.95))\n",
    "CI_uslose_home"
   ]
  },
  {
   "cell_type": "code",
   "execution_count": 213,
   "id": "f22780be",
   "metadata": {},
   "outputs": [
    {
     "data": {
      "text/plain": [
       "(0.41240761302700635, 0.5024860039942702)"
      ]
     },
     "execution_count": 213,
     "metadata": {},
     "output_type": "execute_result"
    }
   ],
   "source": [
    "CI_uslose_away=proportion_confint(count=x[0,1],nobs=x[0,3],alpha=(1-.95))\n",
    "CI_uslose_away"
   ]
  },
  {
   "cell_type": "code",
   "execution_count": 214,
   "id": "e1ccb84c",
   "metadata": {},
   "outputs": [
    {
     "data": {
      "text/html": [
       "<div>\n",
       "<style scoped>\n",
       "    .dataframe tbody tr th:only-of-type {\n",
       "        vertical-align: middle;\n",
       "    }\n",
       "\n",
       "    .dataframe tbody tr th {\n",
       "        vertical-align: top;\n",
       "    }\n",
       "\n",
       "    .dataframe thead th {\n",
       "        text-align: right;\n",
       "    }\n",
       "</style>\n",
       "<table border=\"1\" class=\"dataframe\">\n",
       "  <thead>\n",
       "    <tr style=\"text-align: right;\">\n",
       "      <th></th>\n",
       "      <th>home</th>\n",
       "      <th>lb</th>\n",
       "      <th>ub</th>\n",
       "    </tr>\n",
       "  </thead>\n",
       "  <tbody>\n",
       "    <tr>\n",
       "      <th>0</th>\n",
       "      <td>Yes</td>\n",
       "      <td>0.411701</td>\n",
       "      <td>0.529905</td>\n",
       "    </tr>\n",
       "    <tr>\n",
       "      <th>1</th>\n",
       "      <td>No</td>\n",
       "      <td>0.412408</td>\n",
       "      <td>0.502486</td>\n",
       "    </tr>\n",
       "  </tbody>\n",
       "</table>\n",
       "</div>"
      ],
      "text/plain": [
       "  home        lb        ub\n",
       "0  Yes  0.411701  0.529905\n",
       "1   No  0.412408  0.502486"
      ]
     },
     "execution_count": 214,
     "metadata": {},
     "output_type": "execute_result"
    }
   ],
   "source": [
    "ci_uslose = {}\n",
    "ci_uslose['home'] = ['Yes','No']\n",
    "ci_uslose['lb'] = [CI_uslose_home[0],CI_uslose_away[0]]\n",
    "ci_uslose['ub'] = [CI_uslose_home[1],CI_uslose_away[1]]\n",
    "df_ci= pd.DataFrame(ci_uslose)\n",
    "df_ci"
   ]
  },
  {
   "cell_type": "code",
   "execution_count": 216,
   "id": "ca30b9fa",
   "metadata": {
    "scrolled": false
   },
   "outputs": [
    {
     "data": {
      "text/plain": [
       "([<matplotlib.axis.YTick at 0x2185f60edc0>,\n",
       "  <matplotlib.axis.YTick at 0x2185f088f70>],\n",
       " [Text(0, 0, 'Yes'), Text(0, 1, 'No')])"
      ]
     },
     "execution_count": 216,
     "metadata": {},
     "output_type": "execute_result"
    },
    {
     "data": {
      "image/png": "[encoded data removed]",
      "text/plain": [
       "<Figure size 432x288 with 1 Axes>"
      ]
     },
     "metadata": {
      "needs_background": "light"
     },
     "output_type": "display_data"
    }
   ],
   "source": [
    "for lb,ub,y in zip(df_ci['lb'],df_ci['ub'],range(len(df_ci))):\n",
    "    plt.plot((lb,ub),(y,y),'ro-')\n",
    "plt.yticks(range(len(df_ci)),list(df_ci['home']))"
   ]
  },
  {
   "cell_type": "markdown",
   "id": "2e4f3b7e",
   "metadata": {},
   "source": [
    "To conclude, this code to calculate the 95 percent confidence interval for won and lost matches for friendly and official matches . After computing the different confidence intervals for the 3 countries France, Malaysia and the United States we can see that  both match styles, the confidence interval for winning was completely different. The interval for winning an official match is less than that in a friendly match. As a result, there is a large margin of error for winning a friendly match, and the chances of winning a friendly match are higher than the chances of winning an official match. Similarly, in friendly matchups, the likelihood of losing a match is higher as well as the margin of error."
   ]
  },
  {
   "cell_type": "markdown",
   "id": "2994d7ce",
   "metadata": {},
   "source": [
    "# Part 2 : Analysis for reported covid cases 2020-2021"
   ]
  },
  {
   "cell_type": "code",
   "execution_count": null,
   "id": "d6bfb786",
   "metadata": {},
   "outputs": [],
   "source": [
    "df=pd.read_csv('covid_data.csv',encoding='latin-1')"
   ]
  },
  {
   "cell_type": "code",
   "execution_count": null,
   "id": "4ca2dcf9",
   "metadata": {},
   "outputs": [],
   "source": [
    "df"
   ]
  },
  {
   "cell_type": "code",
   "execution_count": null,
   "id": "aa7bfbfd",
   "metadata": {},
   "outputs": [],
   "source": [
    "cats=['Jan','Feb','Mar','Apr','May','Jun','Jul','Aug','Sep','Oct','Nov','Dec']\n",
    "cat_type=CategoricalDtype(categories=cats,ordered=True)\n",
    "df['month']=df['month'].astype(cat_type)"
   ]
  },
  {
   "cell_type": "code",
   "execution_count": null,
   "id": "377f6a75",
   "metadata": {},
   "outputs": [],
   "source": [
    "def get_ci_lb(x, alpha=0.05):\n",
    "    sample_mean=np.mean(x)\n",
    "    sample_std=np.std(x)\n",
    "    sample_size=len(x)\n",
    "    margin_of_error = t.ppf(1 - alpha/2,sample_size-1)*sample_std/np.sqrt(sample_size-1)\n",
    "    return sample_mean - margin_of_error\n",
    "\n",
    "\n",
    "def get_ci_ub(x, alpha=0.05):\n",
    "    sample_mean=np.mean(x)\n",
    "    sample_std=np.std(x)\n",
    "    sample_size=len(x)\n",
    "    margin_of_error = t.ppf(1 - alpha/2,sample_size-1)*sample_std/np.sqrt(sample_size-1)\n",
    "    return sample_mean + margin_of_error"
   ]
  },
  {
   "cell_type": "code",
   "execution_count": null,
   "id": "7b615aba",
   "metadata": {},
   "outputs": [],
   "source": [
    " df['year']=pd.DatetimeIndex(df['date']).year\n",
    " df['year'][0]"
   ]
  },
  {
   "cell_type": "code",
   "execution_count": null,
   "id": "af4bf635",
   "metadata": {},
   "outputs": [],
   "source": [
    "df['date']=pd.to_datetime(df['date'],format='%Y-%m-%d')\n",
    "df['date'][0]"
   ]
  },
  {
   "cell_type": "code",
   "execution_count": null,
   "id": "d06f6028",
   "metadata": {},
   "outputs": [],
   "source": [
    "df['totcases'] = df.groupby(['iso3c'])['dcases'].cumsum() \n",
    "df['totdeaths'] = df.groupby(['iso3c'])['ddeaths'].cumsum()\n",
    "ratio=df['totdeaths']/df['totcases']\n",
    "df['ratio']=ratio"
   ]
  },
  {
   "cell_type": "code",
   "execution_count": null,
   "id": "5e929c5c",
   "metadata": {},
   "outputs": [],
   "source": [
    "df"
   ]
  },
  {
   "cell_type": "code",
   "execution_count": null,
   "id": "f85ae2dc",
   "metadata": {},
   "outputs": [],
   "source": [
    "continent_year=df.groupby(['continent','year']).agg({\"ratio\": [np.mean, np.std, np.size,get_ci_lb,get_ci_ub]})\n",
    "\n",
    "continent_year=continent_year.reset_index()\n",
    "\n",
    "continent_year= pd.DataFrame(continent_year)\n",
    "\n",
    "continent_year"
   ]
  },
  {
   "cell_type": "code",
   "execution_count": null,
   "id": "e3d44442",
   "metadata": {},
   "outputs": [],
   "source": [
    " income_year=df.groupby(['income','year']).agg({\"ratio\": [np.mean, np.std, np.size,get_ci_lb,get_ci_ub]})\n",
    "\n",
    "income_year=income_year.reset_index()\n",
    "\n",
    "income_year= pd.DataFrame(income_year)\n",
    "\n",
    "income_year"
   ]
  },
  {
   "cell_type": "code",
   "execution_count": null,
   "id": "727ea4d3",
   "metadata": {},
   "outputs": [],
   "source": [
    "region_year=df.groupby(['region','year']).agg({\"ratio\": [np.mean, np.std, np.size,get_ci_lb,get_ci_ub]})\n",
    "\n",
    "region_year=region_year.reset_index()\n",
    "\n",
    "region_year= pd.DataFrame(region_year)\n",
    "\n",
    "region_year"
   ]
  },
  {
   "cell_type": "code",
   "execution_count": null,
   "id": "63cd1ecc",
   "metadata": {},
   "outputs": [],
   "source": [
    "continent_year20=continent_year[(continent_year['year']==2020)]\n",
    "continent_year21=continent_year[(continent_year['year']==2021)]\n",
    "\n",
    "continent_year20.columns=['continent','year','mean','std','size','get_ci_lb','get_ci_ub']\n",
    "continent_year21.columns=['continent','year','mean','std','size','get_ci_lb','get_ci_ub']"
   ]
  },
  {
   "cell_type": "code",
   "execution_count": null,
   "id": "1b1d41ec",
   "metadata": {},
   "outputs": [],
   "source": [
    " for lb,ub,y in zip(continent_year20['get_ci_lb'],continent_year20['get_ci_ub'],range(len(continent_year))):\n",
    "    plt.plot((lb,ub),(y,y),'ro-')\n",
    "plt.yticks(range(len(continent_year20)),list(continent_year20['continent']))\n",
    "plt.xlabel(\"Ratio\")\n",
    "plt.ylabel(\"Continent\")\n",
    "plt.title(\"Continents ratio 2020\")"
   ]
  },
  {
   "cell_type": "code",
   "execution_count": null,
   "id": "7749e0a4",
   "metadata": {},
   "outputs": [],
   "source": [
    " for lb,ub,y in zip(continent_year21['get_ci_lb'],continent_year21['get_ci_ub'],range(len(continent_year))):\n",
    "    plt.plot((lb,ub),(y,y),'ro-')\n",
    "plt.yticks(range(len(continent_year21)),list(continent_year21['continent']))\n",
    "plt.xlabel(\"Ratio\")\n",
    "plt.ylabel(\"Continent\")\n",
    "plt.title(\"Continents ratio 2021\")"
   ]
  },
  {
   "cell_type": "code",
   "execution_count": null,
   "id": "18e166a4",
   "metadata": {},
   "outputs": [],
   "source": [
    "region_year20=region_year[(region_year['year']==2020)]\n",
    "region_year21=region_year[(region_year['year']==2021)]\n",
    "\n",
    "region_year20.columns=['continent','year','mean','std','size','get_ci_lb','get_ci_ub']\n",
    "region_year21.columns=['continent','year','mean','std','size','get_ci_lb','get_ci_ub']"
   ]
  },
  {
   "cell_type": "code",
   "execution_count": null,
   "id": "81b2bd7a",
   "metadata": {},
   "outputs": [],
   "source": [
    "for lb,ub,y in zip(region_year20['get_ci_lb'],region_year20['get_ci_ub'],range(len(region_year20))):\n",
    "    plt.plot((lb,ub),(y,y),'ro-')\n",
    "plt.yticks(range(len(region_year20)),list(region_year20['continent']))\n",
    "plt.xlabel(\"Ratio\")\n",
    "plt.ylabel(\"Region\")\n",
    "plt.title(\"Regions ratio 2020\")"
   ]
  },
  {
   "cell_type": "code",
   "execution_count": null,
   "id": "6e95ecba",
   "metadata": {},
   "outputs": [],
   "source": [
    "for lb,ub,y in zip(region_year21['get_ci_lb'],region_year21['get_ci_ub'],range(len(region_year21))):\n",
    "    plt.plot((lb,ub),(y,y),'ro-')\n",
    "plt.yticks(range(len(region_year21)),list(region_year21['continent']))\n",
    "plt.xlabel(\"Ratio\")\n",
    "plt.ylabel(\"Region\")\n",
    "plt.title(\"Regions ratio 2021\")"
   ]
  },
  {
   "cell_type": "code",
   "execution_count": null,
   "id": "1b05553d",
   "metadata": {},
   "outputs": [],
   "source": [
    "income_year20=income_year[(income_year['year']==2020)]\n",
    "income_year21=income_year[(income_year['year']==2021)]\n",
    "\n",
    " \n",
    "income_year20.columns=['continent','year','mean','std','size','get_ci_lb','get_ci_ub']\n",
    "income_year21.columns=['continent','year','mean','std','size','get_ci_lb','get_ci_ub']"
   ]
  },
  {
   "cell_type": "code",
   "execution_count": null,
   "id": "956a447d",
   "metadata": {},
   "outputs": [],
   "source": [
    " for lb,ub,y in zip(income_year20['get_ci_lb'],income_year20['get_ci_ub'],range(len(income_year20))):\n",
    "    plt.plot((lb,ub),(y,y),'ro-')\n",
    "plt.yticks(range(len(income_year20)),list(income_year20['continent']))\n",
    "plt.xlabel(\"Ratio\")\n",
    "plt.ylabel(\"Income\")\n",
    "plt.title(\"Income ratio 2020\")"
   ]
  },
  {
   "cell_type": "code",
   "execution_count": null,
   "id": "7af6f573",
   "metadata": {},
   "outputs": [],
   "source": [
    "for lb,ub,y in zip(income_year21['get_ci_lb'],income_year21['get_ci_ub'],range(len(income_year21))):\n",
    "    plt.plot((lb,ub),(y,y),'ro-')\n",
    "plt.yticks(range(len(income_year21)),list(income_year21['continent']))\n",
    "plt.xlabel(\"Ratio\")\n",
    "plt.ylabel(\"Income\")\n",
    "plt.title(\"Income ratio 2021\")"
   ]
  },
  {
   "cell_type": "markdown",
   "id": "39edcabb",
   "metadata": {},
   "source": [
    "To conclude,this code shows us the ratio between covid cases and death in 2020 and 2021. The comparisons where done based on the continent, region and income. We can see that the ratio for 2021 decreases comparing to the ratio in 2020.South America had the highest ratio by continent in 2020 and 2021, but the margin of error in 2020 was greater than in 2021 which justifies that it was affected the most.For income, the low income class had the highest ratio in both 2020 and 2021, but higher margin or error in 2020 justfying the high number of infections."
   ]
  }
 ],
 "metadata": {
  "kernelspec": {
   "display_name": "Python 3 (ipykernel)",
   "language": "python",
   "name": "python3"
  },
  "language_info": {
   "codemirror_mode": {
    "name": "ipython",
    "version": 3
   },
   "file_extension": ".py",
   "mimetype": "text/x-python",
   "name": "python",
   "nbconvert_exporter": "python",
   "pygments_lexer": "ipython3",
   "version": "3.9.7"
  }
 },
 "nbformat": 4,
 "nbformat_minor": 5
}
