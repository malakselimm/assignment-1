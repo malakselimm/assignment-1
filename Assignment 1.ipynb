{
 "cells": [
  {
   "cell_type": "markdown",
   "id": "1498de21",
   "metadata": {},
   "source": [
    "# Assignment 1"
   ]
  },
  {
   "cell_type": "markdown",
   "id": "84dbf07d",
   "metadata": {},
   "source": [
    "### By: Alia ElHalawany and Malak Selim"
   ]
  },
  {
   "cell_type": "code",
   "execution_count": null,
   "id": "cab5a12d",
   "metadata": {},
   "outputs": [],
   "source": [
    "import pandas as pd"
   ]
  },
  {
   "cell_type": "code",
   "execution_count": null,
   "id": "441c5349",
   "metadata": {},
   "outputs": [],
   "source": [
    "df = pd.read_csv(\"Life Expectancy Data.csv\")"
   ]
  },
  {
   "cell_type": "code",
   "execution_count": null,
   "id": "d1444a2a",
   "metadata": {
    "scrolled": true
   },
   "outputs": [],
   "source": [
    "df.head(20)"
   ]
  },
  {
   "cell_type": "code",
   "execution_count": null,
   "id": "bac5b412",
   "metadata": {},
   "outputs": [],
   "source": [
    "df.columns"
   ]
  },
  {
   "cell_type": "code",
   "execution_count": null,
   "id": "c1d2a00a",
   "metadata": {},
   "outputs": [],
   "source": [
    "df['Life expectancy '].mean()"
   ]
  },
  {
   "cell_type": "code",
   "execution_count": null,
   "id": "41440cb2",
   "metadata": {},
   "outputs": [],
   "source": [
    "df['Life expectancy '].median()"
   ]
  },
  {
   "cell_type": "code",
   "execution_count": null,
   "id": "73e2d78e",
   "metadata": {},
   "outputs": [],
   "source": [
    "df['Life expectancy '].quantile(.25)"
   ]
  },
  {
   "cell_type": "code",
   "execution_count": null,
   "id": "41abfcf7",
   "metadata": {},
   "outputs": [],
   "source": [
    "df['Life expectancy '].quantile(.5)"
   ]
  },
  {
   "cell_type": "code",
   "execution_count": null,
   "id": "0eaea4e8",
   "metadata": {},
   "outputs": [],
   "source": [
    "df['Life expectancy '].quantile(.75)"
   ]
  },
  {
   "cell_type": "code",
   "execution_count": null,
   "id": "8cc66c98",
   "metadata": {},
   "outputs": [],
   "source": [
    "df['Life expectancy '].var()"
   ]
  },
  {
   "cell_type": "code",
   "execution_count": null,
   "id": "789c3c1a",
   "metadata": {},
   "outputs": [],
   "source": [
    "df['Life expectancy '].std()"
   ]
  },
  {
   "cell_type": "code",
   "execution_count": null,
   "id": "cbc6cd6c",
   "metadata": {},
   "outputs": [],
   "source": [
    "df['Life expectancy '].max()-df['Life expectancy '].min()"
   ]
  },
  {
   "cell_type": "code",
   "execution_count": null,
   "id": "13957453",
   "metadata": {},
   "outputs": [],
   "source": [
    "df['percentage expenditure'].mean()"
   ]
  },
  {
   "cell_type": "code",
   "execution_count": null,
   "id": "b02eef37",
   "metadata": {},
   "outputs": [],
   "source": [
    "df['percentage expenditure'].median()"
   ]
  },
  {
   "cell_type": "code",
   "execution_count": null,
   "id": "ee371cea",
   "metadata": {},
   "outputs": [],
   "source": [
    "df['percentage expenditure'].quantile(.25)"
   ]
  },
  {
   "cell_type": "code",
   "execution_count": null,
   "id": "45c292f5",
   "metadata": {},
   "outputs": [],
   "source": [
    "df['percentage expenditure'].quantile(.75)"
   ]
  },
  {
   "cell_type": "code",
   "execution_count": null,
   "id": "806f54db",
   "metadata": {},
   "outputs": [],
   "source": [
    "df['percentage expenditure'].var()"
   ]
  },
  {
   "cell_type": "code",
   "execution_count": 603,
   "id": "7f3ef2bd",
   "metadata": {},
   "outputs": [
    {
     "data": {
      "text/plain": [
       "1987.9148580161984"
      ]
     },
     "execution_count": 603,
     "metadata": {},
     "output_type": "execute_result"
    }
   ],
   "source": [
    "df['percentage expenditure'].std()"
   ]
  },
  {
   "cell_type": "code",
   "execution_count": 604,
   "id": "135cf632",
   "metadata": {},
   "outputs": [
    {
     "data": {
      "text/plain": [
       "19479.91161"
      ]
     },
     "execution_count": 604,
     "metadata": {},
     "output_type": "execute_result"
    }
   ],
   "source": [
    "df['percentage expenditure'].max()-df['percentage expenditure'].min()"
   ]
  },
  {
   "cell_type": "code",
   "execution_count": 605,
   "id": "8df5c513",
   "metadata": {},
   "outputs": [
    {
     "data": {
      "text/plain": [
       "4.6028607871720375"
      ]
     },
     "execution_count": 605,
     "metadata": {},
     "output_type": "execute_result"
    }
   ],
   "source": [
    "df['Alcohol'].mean()"
   ]
  },
  {
   "cell_type": "code",
   "execution_count": 606,
   "id": "690c5f28",
   "metadata": {},
   "outputs": [
    {
     "data": {
      "text/plain": [
       "3.755"
      ]
     },
     "execution_count": 606,
     "metadata": {},
     "output_type": "execute_result"
    }
   ],
   "source": [
    "df['Alcohol'].median()"
   ]
  },
  {
   "cell_type": "code",
   "execution_count": 607,
   "id": "26184f5e",
   "metadata": {},
   "outputs": [
    {
     "data": {
      "text/plain": [
       "0.8775"
      ]
     },
     "execution_count": 607,
     "metadata": {},
     "output_type": "execute_result"
    }
   ],
   "source": [
    "df['Alcohol'].quantile(.25)"
   ]
  },
  {
   "cell_type": "code",
   "execution_count": 608,
   "id": "7cb471ba",
   "metadata": {},
   "outputs": [
    {
     "data": {
      "text/plain": [
       "7.702500000000001"
      ]
     },
     "execution_count": 608,
     "metadata": {},
     "output_type": "execute_result"
    }
   ],
   "source": [
    "df['Alcohol'].quantile(.75)"
   ]
  },
  {
   "cell_type": "code",
   "execution_count": 609,
   "id": "609c76aa",
   "metadata": {},
   "outputs": [
    {
     "data": {
      "text/plain": [
       "17.86"
      ]
     },
     "execution_count": 609,
     "metadata": {},
     "output_type": "execute_result"
    }
   ],
   "source": [
    "df['Alcohol'].max()-df['Alcohol'].min()"
   ]
  },
  {
   "cell_type": "code",
   "execution_count": 610,
   "id": "f40d9172",
   "metadata": {},
   "outputs": [
    {
     "data": {
      "text/plain": [
       "16.422048356843053"
      ]
     },
     "execution_count": 610,
     "metadata": {},
     "output_type": "execute_result"
    }
   ],
   "source": [
    "df['Alcohol'].var()"
   ]
  },
  {
   "cell_type": "code",
   "execution_count": 611,
   "id": "bd9bd2a0",
   "metadata": {},
   "outputs": [
    {
     "data": {
      "text/plain": [
       "4.052412658755652"
      ]
     },
     "execution_count": 611,
     "metadata": {},
     "output_type": "execute_result"
    }
   ],
   "source": [
    "df['Alcohol'].std()"
   ]
  },
  {
   "cell_type": "code",
   "execution_count": 612,
   "id": "1780a7a3",
   "metadata": {},
   "outputs": [
    {
     "data": {
      "text/plain": [
       "38.32124655647373"
      ]
     },
     "execution_count": 612,
     "metadata": {},
     "output_type": "execute_result"
    }
   ],
   "source": [
    "df[' BMI '].mean()"
   ]
  },
  {
   "cell_type": "code",
   "execution_count": 613,
   "id": "2a55058f",
   "metadata": {},
   "outputs": [
    {
     "data": {
      "text/plain": [
       "43.5"
      ]
     },
     "execution_count": 613,
     "metadata": {},
     "output_type": "execute_result"
    }
   ],
   "source": [
    "df[' BMI '].median()"
   ]
  },
  {
   "cell_type": "code",
   "execution_count": 614,
   "id": "9614039c",
   "metadata": {},
   "outputs": [
    {
     "data": {
      "text/plain": [
       "86.3"
      ]
     },
     "execution_count": 614,
     "metadata": {},
     "output_type": "execute_result"
    }
   ],
   "source": [
    "df[' BMI '].max()-df[' BMI '].min()"
   ]
  },
  {
   "cell_type": "code",
   "execution_count": 615,
   "id": "eef53340",
   "metadata": {},
   "outputs": [
    {
     "data": {
      "text/plain": [
       "19.3"
      ]
     },
     "execution_count": 615,
     "metadata": {},
     "output_type": "execute_result"
    }
   ],
   "source": [
    "df[' BMI '].quantile(.25)"
   ]
  },
  {
   "cell_type": "code",
   "execution_count": 616,
   "id": "c50ede1a",
   "metadata": {},
   "outputs": [
    {
     "data": {
      "text/plain": [
       "56.2"
      ]
     },
     "execution_count": 616,
     "metadata": {},
     "output_type": "execute_result"
    }
   ],
   "source": [
    "df[' BMI '].quantile(.75)"
   ]
  },
  {
   "cell_type": "code",
   "execution_count": 617,
   "id": "c75c427d",
   "metadata": {},
   "outputs": [
    {
     "data": {
      "text/plain": [
       "401.7632790518308"
      ]
     },
     "execution_count": 617,
     "metadata": {},
     "output_type": "execute_result"
    }
   ],
   "source": [
    "df[' BMI '].var()"
   ]
  },
  {
   "cell_type": "code",
   "execution_count": 618,
   "id": "743bc225",
   "metadata": {},
   "outputs": [
    {
     "data": {
      "text/plain": [
       "20.044033502562073"
      ]
     },
     "execution_count": 618,
     "metadata": {},
     "output_type": "execute_result"
    }
   ],
   "source": [
    "df[' BMI '].std()"
   ]
  },
  {
   "cell_type": "code",
   "execution_count": 619,
   "id": "888e6fec",
   "metadata": {},
   "outputs": [
    {
     "data": {
      "text/plain": [
       "5.9381895280235915"
      ]
     },
     "execution_count": 619,
     "metadata": {},
     "output_type": "execute_result"
    }
   ],
   "source": [
    "df['Total expenditure'].mean()"
   ]
  },
  {
   "cell_type": "code",
   "execution_count": 620,
   "id": "538c2690",
   "metadata": {},
   "outputs": [
    {
     "data": {
      "text/plain": [
       "5.755"
      ]
     },
     "execution_count": 620,
     "metadata": {},
     "output_type": "execute_result"
    }
   ],
   "source": [
    "df['Total expenditure'].median()"
   ]
  },
  {
   "cell_type": "code",
   "execution_count": 621,
   "id": "00fcf1e6",
   "metadata": {},
   "outputs": [
    {
     "data": {
      "text/plain": [
       "4.26"
      ]
     },
     "execution_count": 621,
     "metadata": {},
     "output_type": "execute_result"
    }
   ],
   "source": [
    "df['Total expenditure'].quantile(.25)"
   ]
  },
  {
   "cell_type": "code",
   "execution_count": 622,
   "id": "b030d56b",
   "metadata": {},
   "outputs": [
    {
     "data": {
      "text/plain": [
       "7.4925"
      ]
     },
     "execution_count": 622,
     "metadata": {},
     "output_type": "execute_result"
    }
   ],
   "source": [
    "df['Total expenditure'].quantile(.75)"
   ]
  },
  {
   "cell_type": "code",
   "execution_count": 623,
   "id": "b8c05cd5",
   "metadata": {},
   "outputs": [
    {
     "data": {
      "text/plain": [
       "17.23"
      ]
     },
     "execution_count": 623,
     "metadata": {},
     "output_type": "execute_result"
    }
   ],
   "source": [
    "df['Total expenditure'].max()-df['Total expenditure'].min()"
   ]
  },
  {
   "cell_type": "code",
   "execution_count": 624,
   "id": "2a949289",
   "metadata": {},
   "outputs": [
    {
     "data": {
      "text/plain": [
       "6.2416011842798165"
      ]
     },
     "execution_count": 624,
     "metadata": {},
     "output_type": "execute_result"
    }
   ],
   "source": [
    "df['Total expenditure'].var()"
   ]
  },
  {
   "cell_type": "code",
   "execution_count": 625,
   "id": "862d7a9f",
   "metadata": {},
   "outputs": [
    {
     "data": {
      "text/plain": [
       "2.4983196721556302"
      ]
     },
     "execution_count": 625,
     "metadata": {},
     "output_type": "execute_result"
    }
   ],
   "source": [
    "df['Total expenditure'].std()"
   ]
  },
  {
   "cell_type": "code",
   "execution_count": 626,
   "id": "1601bf92",
   "metadata": {},
   "outputs": [
    {
     "data": {
      "text/plain": [
       "1.7421034717494939"
      ]
     },
     "execution_count": 626,
     "metadata": {},
     "output_type": "execute_result"
    }
   ],
   "source": [
    "df[' HIV/AIDS'].mean()"
   ]
  },
  {
   "cell_type": "code",
   "execution_count": 627,
   "id": "d1bbdae6",
   "metadata": {},
   "outputs": [
    {
     "data": {
      "text/plain": [
       "0.1"
      ]
     },
     "execution_count": 627,
     "metadata": {},
     "output_type": "execute_result"
    }
   ],
   "source": [
    "df[' HIV/AIDS'].median()"
   ]
  },
  {
   "cell_type": "code",
   "execution_count": 628,
   "id": "8428dc18",
   "metadata": {},
   "outputs": [
    {
     "data": {
      "text/plain": [
       "50.5"
      ]
     },
     "execution_count": 628,
     "metadata": {},
     "output_type": "execute_result"
    }
   ],
   "source": [
    "df[' HIV/AIDS'].max()-df[' HIV/AIDS'].min()"
   ]
  },
  {
   "cell_type": "code",
   "execution_count": 629,
   "id": "52007b2c",
   "metadata": {},
   "outputs": [
    {
     "data": {
      "text/plain": [
       "0.1"
      ]
     },
     "execution_count": 629,
     "metadata": {},
     "output_type": "execute_result"
    }
   ],
   "source": [
    "df[' HIV/AIDS'].quantile(.25)"
   ]
  },
  {
   "cell_type": "code",
   "execution_count": 630,
   "id": "4ae55186",
   "metadata": {},
   "outputs": [
    {
     "data": {
      "text/plain": [
       "0.8"
      ]
     },
     "execution_count": 630,
     "metadata": {},
     "output_type": "execute_result"
    }
   ],
   "source": [
    "df[' HIV/AIDS'].quantile(.75)"
   ]
  },
  {
   "cell_type": "code",
   "execution_count": 631,
   "id": "827df451",
   "metadata": {},
   "outputs": [
    {
     "data": {
      "text/plain": [
       "7483.158469138481"
      ]
     },
     "execution_count": 631,
     "metadata": {},
     "output_type": "execute_result"
    }
   ],
   "source": [
    "df['GDP'].mean()"
   ]
  },
  {
   "cell_type": "code",
   "execution_count": 632,
   "id": "1522e6be",
   "metadata": {},
   "outputs": [
    {
     "data": {
      "text/plain": [
       "1766.947595"
      ]
     },
     "execution_count": 632,
     "metadata": {},
     "output_type": "execute_result"
    }
   ],
   "source": [
    "df['GDP'].median()"
   ]
  },
  {
   "cell_type": "code",
   "execution_count": 633,
   "id": "69bc275d",
   "metadata": {},
   "outputs": [
    {
     "data": {
      "text/plain": [
       "203637733.03554288"
      ]
     },
     "execution_count": 633,
     "metadata": {},
     "output_type": "execute_result"
    }
   ],
   "source": [
    "df['GDP'].var()"
   ]
  },
  {
   "cell_type": "code",
   "execution_count": 634,
   "id": "2f4b45d8",
   "metadata": {},
   "outputs": [
    {
     "data": {
      "text/plain": [
       "14270.16934151599"
      ]
     },
     "execution_count": 634,
     "metadata": {},
     "output_type": "execute_result"
    }
   ],
   "source": [
    "df['GDP'].std()"
   ]
  },
  {
   "cell_type": "code",
   "execution_count": 635,
   "id": "0885a905",
   "metadata": {},
   "outputs": [
    {
     "data": {
      "text/plain": [
       "463.935626"
      ]
     },
     "execution_count": 635,
     "metadata": {},
     "output_type": "execute_result"
    }
   ],
   "source": [
    "df['GDP'].quantile(.25)"
   ]
  },
  {
   "cell_type": "code",
   "execution_count": 636,
   "id": "d5509026",
   "metadata": {},
   "outputs": [
    {
     "data": {
      "text/plain": [
       "5910.806335"
      ]
     },
     "execution_count": 636,
     "metadata": {},
     "output_type": "execute_result"
    }
   ],
   "source": [
    "df['GDP'].quantile(.75)"
   ]
  },
  {
   "cell_type": "code",
   "execution_count": 637,
   "id": "37a2d9ff",
   "metadata": {},
   "outputs": [
    {
     "data": {
      "text/plain": [
       "119171.06045"
      ]
     },
     "execution_count": 637,
     "metadata": {},
     "output_type": "execute_result"
    }
   ],
   "source": [
    "df['GDP'].max()-df['GDP'].min()"
   ]
  },
  {
   "cell_type": "code",
   "execution_count": 638,
   "id": "b581687b",
   "metadata": {},
   "outputs": [
    {
     "data": {
      "text/plain": [
       "12753375.120052498"
      ]
     },
     "execution_count": 638,
     "metadata": {},
     "output_type": "execute_result"
    }
   ],
   "source": [
    "df['Population'].mean()"
   ]
  },
  {
   "cell_type": "code",
   "execution_count": 639,
   "id": "3ccb72ec",
   "metadata": {},
   "outputs": [
    {
     "data": {
      "text/plain": [
       "1386542.0"
      ]
     },
     "execution_count": 639,
     "metadata": {},
     "output_type": "execute_result"
    }
   ],
   "source": [
    "df['Population'].median()"
   ]
  },
  {
   "cell_type": "code",
   "execution_count": 640,
   "id": "d3473d1f",
   "metadata": {},
   "outputs": [
    {
     "data": {
      "text/plain": [
       "1293859260.0"
      ]
     },
     "execution_count": 640,
     "metadata": {},
     "output_type": "execute_result"
    }
   ],
   "source": [
    "df['Population'].max()-df['Population'].min()"
   ]
  },
  {
   "cell_type": "code",
   "execution_count": 641,
   "id": "ef7cd1cb",
   "metadata": {},
   "outputs": [
    {
     "data": {
      "text/plain": [
       "195793.25"
      ]
     },
     "execution_count": 641,
     "metadata": {},
     "output_type": "execute_result"
    }
   ],
   "source": [
    "df['Population'].quantile(.25)"
   ]
  },
  {
   "cell_type": "code",
   "execution_count": 642,
   "id": "d4242e51",
   "metadata": {},
   "outputs": [
    {
     "data": {
      "text/plain": [
       "7420359.0"
      ]
     },
     "execution_count": 642,
     "metadata": {},
     "output_type": "execute_result"
    }
   ],
   "source": [
    "df['Population'].quantile(.75)"
   ]
  },
  {
   "cell_type": "code",
   "execution_count": 643,
   "id": "a5a252a8",
   "metadata": {},
   "outputs": [
    {
     "data": {
      "text/plain": [
       "3722475920353729.0"
      ]
     },
     "execution_count": 643,
     "metadata": {},
     "output_type": "execute_result"
    }
   ],
   "source": [
    "df['Population'].var()"
   ]
  },
  {
   "cell_type": "code",
   "execution_count": 644,
   "id": "57364103",
   "metadata": {},
   "outputs": [
    {
     "data": {
      "text/plain": [
       "61012096.50842798"
      ]
     },
     "execution_count": 644,
     "metadata": {},
     "output_type": "execute_result"
    }
   ],
   "source": [
    "df['Population'].std()"
   ]
  },
  {
   "cell_type": "code",
   "execution_count": 645,
   "id": "cc718a87",
   "metadata": {},
   "outputs": [
    {
     "data": {
      "text/plain": [
       "0.6275510645976166"
      ]
     },
     "execution_count": 645,
     "metadata": {},
     "output_type": "execute_result"
    }
   ],
   "source": [
    "df['Income composition of resources'].mean()"
   ]
  },
  {
   "cell_type": "code",
   "execution_count": 646,
   "id": "008343d8",
   "metadata": {},
   "outputs": [
    {
     "data": {
      "text/plain": [
       "0.677"
      ]
     },
     "execution_count": 646,
     "metadata": {},
     "output_type": "execute_result"
    }
   ],
   "source": [
    "df['Income composition of resources'].median()"
   ]
  },
  {
   "cell_type": "code",
   "execution_count": 647,
   "id": "3d724b38",
   "metadata": {},
   "outputs": [
    {
     "data": {
      "text/plain": [
       "0.04448030957558118"
      ]
     },
     "execution_count": 647,
     "metadata": {},
     "output_type": "execute_result"
    }
   ],
   "source": [
    "df['Income composition of resources'].var()"
   ]
  },
  {
   "cell_type": "code",
   "execution_count": 648,
   "id": "b9321ad0",
   "metadata": {},
   "outputs": [
    {
     "data": {
      "text/plain": [
       "0.21090355515159337"
      ]
     },
     "execution_count": 648,
     "metadata": {},
     "output_type": "execute_result"
    }
   ],
   "source": [
    "df['Income composition of resources'].std()"
   ]
  },
  {
   "cell_type": "code",
   "execution_count": 649,
   "id": "73733171",
   "metadata": {},
   "outputs": [
    {
     "data": {
      "text/plain": [
       "0.493"
      ]
     },
     "execution_count": 649,
     "metadata": {},
     "output_type": "execute_result"
    }
   ],
   "source": [
    "df['Income composition of resources'].quantile(.25)"
   ]
  },
  {
   "cell_type": "code",
   "execution_count": 650,
   "id": "80ae9fa4",
   "metadata": {},
   "outputs": [
    {
     "data": {
      "text/plain": [
       "0.779"
      ]
     },
     "execution_count": 650,
     "metadata": {},
     "output_type": "execute_result"
    }
   ],
   "source": [
    "df['Income composition of resources'].quantile(.75)"
   ]
  },
  {
   "cell_type": "code",
   "execution_count": 651,
   "id": "e6550b47",
   "metadata": {},
   "outputs": [
    {
     "data": {
      "text/plain": [
       "0.948"
      ]
     },
     "execution_count": 651,
     "metadata": {},
     "output_type": "execute_result"
    }
   ],
   "source": [
    "df['Income composition of resources'].max()-df['Income composition of resources'].min()"
   ]
  },
  {
   "cell_type": "code",
   "execution_count": 652,
   "id": "42bd1e4b",
   "metadata": {},
   "outputs": [
    {
     "data": {
      "text/plain": [
       "4.8397038567493205"
      ]
     },
     "execution_count": 652,
     "metadata": {},
     "output_type": "execute_result"
    }
   ],
   "source": [
    "df[' thinness  1-19 years'].mean()"
   ]
  },
  {
   "cell_type": "code",
   "execution_count": 653,
   "id": "1d194983",
   "metadata": {},
   "outputs": [
    {
     "data": {
      "text/plain": [
       "3.3"
      ]
     },
     "execution_count": 653,
     "metadata": {},
     "output_type": "execute_result"
    }
   ],
   "source": [
    "df[' thinness  1-19 years'].median()"
   ]
  },
  {
   "cell_type": "code",
   "execution_count": 654,
   "id": "836b30d2",
   "metadata": {},
   "outputs": [
    {
     "data": {
      "text/plain": [
       "19.538123370760047"
      ]
     },
     "execution_count": 654,
     "metadata": {},
     "output_type": "execute_result"
    }
   ],
   "source": [
    "df[' thinness  1-19 years'].var()"
   ]
  },
  {
   "cell_type": "code",
   "execution_count": 655,
   "id": "16423030",
   "metadata": {},
   "outputs": [
    {
     "data": {
      "text/plain": [
       "4.420194947144306"
      ]
     },
     "execution_count": 655,
     "metadata": {},
     "output_type": "execute_result"
    }
   ],
   "source": [
    "df[' thinness  1-19 years'].std()"
   ]
  },
  {
   "cell_type": "code",
   "execution_count": 656,
   "id": "dbc40a99",
   "metadata": {},
   "outputs": [
    {
     "data": {
      "text/plain": [
       "1.6"
      ]
     },
     "execution_count": 656,
     "metadata": {},
     "output_type": "execute_result"
    }
   ],
   "source": [
    "df[' thinness  1-19 years'].quantile(.25)"
   ]
  },
  {
   "cell_type": "code",
   "execution_count": 657,
   "id": "de80a520",
   "metadata": {},
   "outputs": [
    {
     "data": {
      "text/plain": [
       "7.2"
      ]
     },
     "execution_count": 657,
     "metadata": {},
     "output_type": "execute_result"
    }
   ],
   "source": [
    "df[' thinness  1-19 years'].quantile(.75)"
   ]
  },
  {
   "cell_type": "code",
   "execution_count": 658,
   "id": "3e582ae7",
   "metadata": {},
   "outputs": [
    {
     "data": {
      "text/plain": [
       "27.599999999999998"
      ]
     },
     "execution_count": 658,
     "metadata": {},
     "output_type": "execute_result"
    }
   ],
   "source": [
    "df[' thinness  1-19 years'].max() - df[' thinness  1-19 years'].min()"
   ]
  },
  {
   "cell_type": "code",
   "execution_count": 659,
   "id": "69d9dc47",
   "metadata": {},
   "outputs": [
    {
     "data": {
      "text/plain": [
       "4.870316804407711"
      ]
     },
     "execution_count": 659,
     "metadata": {},
     "output_type": "execute_result"
    }
   ],
   "source": [
    "df[' thinness 5-9 years'].mean()"
   ]
  },
  {
   "cell_type": "code",
   "execution_count": 660,
   "id": "a66b9136",
   "metadata": {},
   "outputs": [
    {
     "data": {
      "text/plain": [
       "3.3"
      ]
     },
     "execution_count": 660,
     "metadata": {},
     "output_type": "execute_result"
    }
   ],
   "source": [
    "df[' thinness 5-9 years'].median()"
   ]
  },
  {
   "cell_type": "code",
   "execution_count": 661,
   "id": "1fcb3388",
   "metadata": {},
   "outputs": [
    {
     "data": {
      "text/plain": [
       "20.330017674316203"
      ]
     },
     "execution_count": 661,
     "metadata": {},
     "output_type": "execute_result"
    }
   ],
   "source": [
    "df[' thinness 5-9 years'].var()"
   ]
  },
  {
   "cell_type": "code",
   "execution_count": 662,
   "id": "de231cbf",
   "metadata": {},
   "outputs": [
    {
     "data": {
      "text/plain": [
       "4.508882086983003"
      ]
     },
     "execution_count": 662,
     "metadata": {},
     "output_type": "execute_result"
    }
   ],
   "source": [
    "df[' thinness 5-9 years'].std()"
   ]
  },
  {
   "cell_type": "code",
   "execution_count": 663,
   "id": "0b95ba5f",
   "metadata": {},
   "outputs": [
    {
     "data": {
      "text/plain": [
       "28.5"
      ]
     },
     "execution_count": 663,
     "metadata": {},
     "output_type": "execute_result"
    }
   ],
   "source": [
    "df[' thinness 5-9 years'].max()-df[' thinness 5-9 years'].min()"
   ]
  },
  {
   "cell_type": "code",
   "execution_count": 664,
   "id": "13f315e0",
   "metadata": {},
   "outputs": [
    {
     "data": {
      "text/plain": [
       "1.5"
      ]
     },
     "execution_count": 664,
     "metadata": {},
     "output_type": "execute_result"
    }
   ],
   "source": [
    "df[' thinness 5-9 years'].quantile(.25)"
   ]
  },
  {
   "cell_type": "code",
   "execution_count": 665,
   "id": "4e176e81",
   "metadata": {},
   "outputs": [
    {
     "data": {
      "text/plain": [
       "7.2"
      ]
     },
     "execution_count": 665,
     "metadata": {},
     "output_type": "execute_result"
    }
   ],
   "source": [
    "df[' thinness 5-9 years'].quantile(.75)"
   ]
  },
  {
   "cell_type": "code",
   "execution_count": 666,
   "id": "caf4a713",
   "metadata": {},
   "outputs": [
    {
     "data": {
      "text/plain": [
       "11.992792792792786"
      ]
     },
     "execution_count": 666,
     "metadata": {},
     "output_type": "execute_result"
    }
   ],
   "source": [
    "df['Schooling'].mean()"
   ]
  },
  {
   "cell_type": "code",
   "execution_count": 667,
   "id": "ee97b223",
   "metadata": {},
   "outputs": [
    {
     "data": {
      "text/plain": [
       "12.3"
      ]
     },
     "execution_count": 667,
     "metadata": {},
     "output_type": "execute_result"
    }
   ],
   "source": [
    "df['Schooling'].median()"
   ]
  },
  {
   "cell_type": "code",
   "execution_count": 668,
   "id": "61a32f4f",
   "metadata": {},
   "outputs": [
    {
     "data": {
      "text/plain": [
       "20.7"
      ]
     },
     "execution_count": 668,
     "metadata": {},
     "output_type": "execute_result"
    }
   ],
   "source": [
    "df['Schooling'].max()-df['Schooling'].min()"
   ]
  },
  {
   "cell_type": "code",
   "execution_count": 669,
   "id": "e3b68faf",
   "metadata": {},
   "outputs": [
    {
     "data": {
      "text/plain": [
       "10.1"
      ]
     },
     "execution_count": 669,
     "metadata": {},
     "output_type": "execute_result"
    }
   ],
   "source": [
    "df['Schooling'].quantile(.25)"
   ]
  },
  {
   "cell_type": "code",
   "execution_count": 670,
   "id": "1d1c3e87",
   "metadata": {},
   "outputs": [
    {
     "data": {
      "text/plain": [
       "Year                               2.012000e+03\n",
       "Life expectancy                    7.570000e+01\n",
       "Adult Mortality                    2.280000e+02\n",
       "infant deaths                      2.200000e+01\n",
       "Alcohol                            7.702500e+00\n",
       "percentage expenditure             4.415341e+02\n",
       "Hepatitis B                        9.700000e+01\n",
       "Measles                            3.602500e+02\n",
       " BMI                               5.620000e+01\n",
       "under-five deaths                  2.800000e+01\n",
       "Polio                              9.700000e+01\n",
       "Total expenditure                  7.492500e+00\n",
       "Diphtheria                         9.700000e+01\n",
       " HIV/AIDS                          8.000000e-01\n",
       "GDP                                5.910806e+03\n",
       "Population                         7.420359e+06\n",
       " thinness  1-19 years              7.200000e+00\n",
       " thinness 5-9 years                7.200000e+00\n",
       "Income composition of resources    7.790000e-01\n",
       "Schooling                          1.430000e+01\n",
       "Name: 0.75, dtype: float64"
      ]
     },
     "execution_count": 670,
     "metadata": {},
     "output_type": "execute_result"
    }
   ],
   "source": [
    "df.quantile(.75)"
   ]
  },
  {
   "cell_type": "code",
   "execution_count": 671,
   "id": "128a94ce",
   "metadata": {},
   "outputs": [
    {
     "data": {
      "text/plain": [
       "14.3"
      ]
     },
     "execution_count": 671,
     "metadata": {},
     "output_type": "execute_result"
    }
   ],
   "source": [
    "df['Schooling'].quantile(.75)"
   ]
  },
  {
   "cell_type": "code",
   "execution_count": 672,
   "id": "c0b64f8d",
   "metadata": {},
   "outputs": [
    {
     "data": {
      "text/plain": [
       "11.282341692810395"
      ]
     },
     "execution_count": 672,
     "metadata": {},
     "output_type": "execute_result"
    }
   ],
   "source": [
    "df['Schooling'].var()"
   ]
  },
  {
   "cell_type": "code",
   "execution_count": 673,
   "id": "bebf2f93",
   "metadata": {},
   "outputs": [
    {
     "data": {
      "text/plain": [
       "3.3589197211023656"
      ]
     },
     "execution_count": 673,
     "metadata": {},
     "output_type": "execute_result"
    }
   ],
   "source": [
    "df['Schooling'].std()"
   ]
  },
  {
   "cell_type": "code",
   "execution_count": 674,
   "id": "76ff98f1",
   "metadata": {
    "scrolled": true
   },
   "outputs": [
    {
     "data": {
      "text/html": [
       "<div>\n",
       "<style scoped>\n",
       "    .dataframe tbody tr th:only-of-type {\n",
       "        vertical-align: middle;\n",
       "    }\n",
       "\n",
       "    .dataframe tbody tr th {\n",
       "        vertical-align: top;\n",
       "    }\n",
       "\n",
       "    .dataframe thead th {\n",
       "        text-align: right;\n",
       "    }\n",
       "</style>\n",
       "<table border=\"1\" class=\"dataframe\">\n",
       "  <thead>\n",
       "    <tr style=\"text-align: right;\">\n",
       "      <th></th>\n",
       "      <th>Year</th>\n",
       "      <th>Life expectancy</th>\n",
       "      <th>Adult Mortality</th>\n",
       "      <th>infant deaths</th>\n",
       "      <th>Alcohol</th>\n",
       "      <th>percentage expenditure</th>\n",
       "      <th>Hepatitis B</th>\n",
       "      <th>Measles</th>\n",
       "      <th>BMI</th>\n",
       "      <th>under-five deaths</th>\n",
       "      <th>Polio</th>\n",
       "      <th>Total expenditure</th>\n",
       "      <th>Diphtheria</th>\n",
       "      <th>HIV/AIDS</th>\n",
       "      <th>GDP</th>\n",
       "      <th>Population</th>\n",
       "      <th>thinness  1-19 years</th>\n",
       "      <th>thinness 5-9 years</th>\n",
       "      <th>Income composition of resources</th>\n",
       "      <th>Schooling</th>\n",
       "    </tr>\n",
       "  </thead>\n",
       "  <tbody>\n",
       "    <tr>\n",
       "      <th>Year</th>\n",
       "      <td>1.000</td>\n",
       "      <td>0.170</td>\n",
       "      <td>-0.079</td>\n",
       "      <td>-0.037</td>\n",
       "      <td>-0.053</td>\n",
       "      <td>0.031</td>\n",
       "      <td>0.104</td>\n",
       "      <td>-0.082</td>\n",
       "      <td>0.109</td>\n",
       "      <td>-0.043</td>\n",
       "      <td>0.094</td>\n",
       "      <td>0.091</td>\n",
       "      <td>0.134</td>\n",
       "      <td>-0.140</td>\n",
       "      <td>0.102</td>\n",
       "      <td>0.017</td>\n",
       "      <td>-0.048</td>\n",
       "      <td>-0.051</td>\n",
       "      <td>0.243</td>\n",
       "      <td>0.209</td>\n",
       "    </tr>\n",
       "    <tr>\n",
       "      <th>Life expectancy</th>\n",
       "      <td>0.170</td>\n",
       "      <td>1.000</td>\n",
       "      <td>-0.696</td>\n",
       "      <td>-0.197</td>\n",
       "      <td>0.405</td>\n",
       "      <td>0.382</td>\n",
       "      <td>0.257</td>\n",
       "      <td>-0.158</td>\n",
       "      <td>0.568</td>\n",
       "      <td>-0.223</td>\n",
       "      <td>0.466</td>\n",
       "      <td>0.218</td>\n",
       "      <td>0.479</td>\n",
       "      <td>-0.557</td>\n",
       "      <td>0.461</td>\n",
       "      <td>-0.022</td>\n",
       "      <td>-0.477</td>\n",
       "      <td>-0.472</td>\n",
       "      <td>0.725</td>\n",
       "      <td>0.752</td>\n",
       "    </tr>\n",
       "    <tr>\n",
       "      <th>Adult Mortality</th>\n",
       "      <td>-0.079</td>\n",
       "      <td>-0.696</td>\n",
       "      <td>1.000</td>\n",
       "      <td>0.079</td>\n",
       "      <td>-0.196</td>\n",
       "      <td>-0.243</td>\n",
       "      <td>-0.162</td>\n",
       "      <td>0.031</td>\n",
       "      <td>-0.387</td>\n",
       "      <td>0.094</td>\n",
       "      <td>-0.275</td>\n",
       "      <td>-0.115</td>\n",
       "      <td>-0.275</td>\n",
       "      <td>0.524</td>\n",
       "      <td>-0.296</td>\n",
       "      <td>-0.014</td>\n",
       "      <td>0.303</td>\n",
       "      <td>0.308</td>\n",
       "      <td>-0.458</td>\n",
       "      <td>-0.455</td>\n",
       "    </tr>\n",
       "    <tr>\n",
       "      <th>infant deaths</th>\n",
       "      <td>-0.037</td>\n",
       "      <td>-0.197</td>\n",
       "      <td>0.079</td>\n",
       "      <td>1.000</td>\n",
       "      <td>-0.116</td>\n",
       "      <td>-0.086</td>\n",
       "      <td>-0.224</td>\n",
       "      <td>0.501</td>\n",
       "      <td>-0.227</td>\n",
       "      <td>0.997</td>\n",
       "      <td>-0.171</td>\n",
       "      <td>-0.129</td>\n",
       "      <td>-0.175</td>\n",
       "      <td>0.025</td>\n",
       "      <td>-0.108</td>\n",
       "      <td>0.557</td>\n",
       "      <td>0.466</td>\n",
       "      <td>0.471</td>\n",
       "      <td>-0.145</td>\n",
       "      <td>-0.194</td>\n",
       "    </tr>\n",
       "    <tr>\n",
       "      <th>Alcohol</th>\n",
       "      <td>-0.053</td>\n",
       "      <td>0.405</td>\n",
       "      <td>-0.196</td>\n",
       "      <td>-0.116</td>\n",
       "      <td>1.000</td>\n",
       "      <td>0.341</td>\n",
       "      <td>0.088</td>\n",
       "      <td>-0.052</td>\n",
       "      <td>0.330</td>\n",
       "      <td>-0.112</td>\n",
       "      <td>0.222</td>\n",
       "      <td>0.297</td>\n",
       "      <td>0.222</td>\n",
       "      <td>-0.049</td>\n",
       "      <td>0.355</td>\n",
       "      <td>-0.035</td>\n",
       "      <td>-0.429</td>\n",
       "      <td>-0.417</td>\n",
       "      <td>0.450</td>\n",
       "      <td>0.547</td>\n",
       "    </tr>\n",
       "    <tr>\n",
       "      <th>percentage expenditure</th>\n",
       "      <td>0.031</td>\n",
       "      <td>0.382</td>\n",
       "      <td>-0.243</td>\n",
       "      <td>-0.086</td>\n",
       "      <td>0.341</td>\n",
       "      <td>1.000</td>\n",
       "      <td>0.016</td>\n",
       "      <td>-0.057</td>\n",
       "      <td>0.229</td>\n",
       "      <td>-0.088</td>\n",
       "      <td>0.147</td>\n",
       "      <td>0.174</td>\n",
       "      <td>0.144</td>\n",
       "      <td>-0.098</td>\n",
       "      <td>0.899</td>\n",
       "      <td>-0.026</td>\n",
       "      <td>-0.251</td>\n",
       "      <td>-0.253</td>\n",
       "      <td>0.382</td>\n",
       "      <td>0.390</td>\n",
       "    </tr>\n",
       "    <tr>\n",
       "      <th>Hepatitis B</th>\n",
       "      <td>0.104</td>\n",
       "      <td>0.257</td>\n",
       "      <td>-0.162</td>\n",
       "      <td>-0.224</td>\n",
       "      <td>0.088</td>\n",
       "      <td>0.016</td>\n",
       "      <td>1.000</td>\n",
       "      <td>-0.121</td>\n",
       "      <td>0.150</td>\n",
       "      <td>-0.233</td>\n",
       "      <td>0.486</td>\n",
       "      <td>0.058</td>\n",
       "      <td>0.611</td>\n",
       "      <td>-0.113</td>\n",
       "      <td>0.084</td>\n",
       "      <td>-0.123</td>\n",
       "      <td>-0.120</td>\n",
       "      <td>-0.125</td>\n",
       "      <td>0.200</td>\n",
       "      <td>0.231</td>\n",
       "    </tr>\n",
       "    <tr>\n",
       "      <th>Measles</th>\n",
       "      <td>-0.082</td>\n",
       "      <td>-0.158</td>\n",
       "      <td>0.031</td>\n",
       "      <td>0.501</td>\n",
       "      <td>-0.052</td>\n",
       "      <td>-0.057</td>\n",
       "      <td>-0.121</td>\n",
       "      <td>1.000</td>\n",
       "      <td>-0.176</td>\n",
       "      <td>0.508</td>\n",
       "      <td>-0.136</td>\n",
       "      <td>-0.106</td>\n",
       "      <td>-0.142</td>\n",
       "      <td>0.031</td>\n",
       "      <td>-0.076</td>\n",
       "      <td>0.266</td>\n",
       "      <td>0.225</td>\n",
       "      <td>0.221</td>\n",
       "      <td>-0.130</td>\n",
       "      <td>-0.137</td>\n",
       "    </tr>\n",
       "    <tr>\n",
       "      <th>BMI</th>\n",
       "      <td>0.109</td>\n",
       "      <td>0.568</td>\n",
       "      <td>-0.387</td>\n",
       "      <td>-0.227</td>\n",
       "      <td>0.330</td>\n",
       "      <td>0.229</td>\n",
       "      <td>0.150</td>\n",
       "      <td>-0.176</td>\n",
       "      <td>1.000</td>\n",
       "      <td>-0.238</td>\n",
       "      <td>0.285</td>\n",
       "      <td>0.243</td>\n",
       "      <td>0.283</td>\n",
       "      <td>-0.244</td>\n",
       "      <td>0.302</td>\n",
       "      <td>-0.072</td>\n",
       "      <td>-0.532</td>\n",
       "      <td>-0.539</td>\n",
       "      <td>0.509</td>\n",
       "      <td>0.547</td>\n",
       "    </tr>\n",
       "    <tr>\n",
       "      <th>under-five deaths</th>\n",
       "      <td>-0.043</td>\n",
       "      <td>-0.223</td>\n",
       "      <td>0.094</td>\n",
       "      <td>0.997</td>\n",
       "      <td>-0.112</td>\n",
       "      <td>-0.088</td>\n",
       "      <td>-0.233</td>\n",
       "      <td>0.508</td>\n",
       "      <td>-0.238</td>\n",
       "      <td>1.000</td>\n",
       "      <td>-0.189</td>\n",
       "      <td>-0.130</td>\n",
       "      <td>-0.196</td>\n",
       "      <td>0.038</td>\n",
       "      <td>-0.112</td>\n",
       "      <td>0.544</td>\n",
       "      <td>0.468</td>\n",
       "      <td>0.472</td>\n",
       "      <td>-0.163</td>\n",
       "      <td>-0.209</td>\n",
       "    </tr>\n",
       "    <tr>\n",
       "      <th>Polio</th>\n",
       "      <td>0.094</td>\n",
       "      <td>0.466</td>\n",
       "      <td>-0.275</td>\n",
       "      <td>-0.171</td>\n",
       "      <td>0.222</td>\n",
       "      <td>0.147</td>\n",
       "      <td>0.486</td>\n",
       "      <td>-0.136</td>\n",
       "      <td>0.285</td>\n",
       "      <td>-0.189</td>\n",
       "      <td>1.000</td>\n",
       "      <td>0.137</td>\n",
       "      <td>0.674</td>\n",
       "      <td>-0.160</td>\n",
       "      <td>0.212</td>\n",
       "      <td>-0.039</td>\n",
       "      <td>-0.222</td>\n",
       "      <td>-0.223</td>\n",
       "      <td>0.381</td>\n",
       "      <td>0.418</td>\n",
       "    </tr>\n",
       "    <tr>\n",
       "      <th>Total expenditure</th>\n",
       "      <td>0.091</td>\n",
       "      <td>0.218</td>\n",
       "      <td>-0.115</td>\n",
       "      <td>-0.129</td>\n",
       "      <td>0.297</td>\n",
       "      <td>0.174</td>\n",
       "      <td>0.058</td>\n",
       "      <td>-0.106</td>\n",
       "      <td>0.243</td>\n",
       "      <td>-0.130</td>\n",
       "      <td>0.137</td>\n",
       "      <td>1.000</td>\n",
       "      <td>0.153</td>\n",
       "      <td>-0.001</td>\n",
       "      <td>0.138</td>\n",
       "      <td>-0.080</td>\n",
       "      <td>-0.277</td>\n",
       "      <td>-0.284</td>\n",
       "      <td>0.167</td>\n",
       "      <td>0.246</td>\n",
       "    </tr>\n",
       "    <tr>\n",
       "      <th>Diphtheria</th>\n",
       "      <td>0.134</td>\n",
       "      <td>0.479</td>\n",
       "      <td>-0.275</td>\n",
       "      <td>-0.175</td>\n",
       "      <td>0.222</td>\n",
       "      <td>0.144</td>\n",
       "      <td>0.611</td>\n",
       "      <td>-0.142</td>\n",
       "      <td>0.283</td>\n",
       "      <td>-0.196</td>\n",
       "      <td>0.674</td>\n",
       "      <td>0.153</td>\n",
       "      <td>1.000</td>\n",
       "      <td>-0.165</td>\n",
       "      <td>0.201</td>\n",
       "      <td>-0.028</td>\n",
       "      <td>-0.230</td>\n",
       "      <td>-0.223</td>\n",
       "      <td>0.401</td>\n",
       "      <td>0.425</td>\n",
       "    </tr>\n",
       "    <tr>\n",
       "      <th>HIV/AIDS</th>\n",
       "      <td>-0.140</td>\n",
       "      <td>-0.557</td>\n",
       "      <td>0.524</td>\n",
       "      <td>0.025</td>\n",
       "      <td>-0.049</td>\n",
       "      <td>-0.098</td>\n",
       "      <td>-0.113</td>\n",
       "      <td>0.031</td>\n",
       "      <td>-0.244</td>\n",
       "      <td>0.038</td>\n",
       "      <td>-0.160</td>\n",
       "      <td>-0.001</td>\n",
       "      <td>-0.165</td>\n",
       "      <td>1.000</td>\n",
       "      <td>-0.136</td>\n",
       "      <td>-0.028</td>\n",
       "      <td>0.204</td>\n",
       "      <td>0.207</td>\n",
       "      <td>-0.250</td>\n",
       "      <td>-0.220</td>\n",
       "    </tr>\n",
       "    <tr>\n",
       "      <th>GDP</th>\n",
       "      <td>0.102</td>\n",
       "      <td>0.461</td>\n",
       "      <td>-0.296</td>\n",
       "      <td>-0.108</td>\n",
       "      <td>0.355</td>\n",
       "      <td>0.899</td>\n",
       "      <td>0.084</td>\n",
       "      <td>-0.076</td>\n",
       "      <td>0.302</td>\n",
       "      <td>-0.112</td>\n",
       "      <td>0.212</td>\n",
       "      <td>0.138</td>\n",
       "      <td>0.201</td>\n",
       "      <td>-0.136</td>\n",
       "      <td>1.000</td>\n",
       "      <td>-0.028</td>\n",
       "      <td>-0.286</td>\n",
       "      <td>-0.291</td>\n",
       "      <td>0.460</td>\n",
       "      <td>0.448</td>\n",
       "    </tr>\n",
       "    <tr>\n",
       "      <th>Population</th>\n",
       "      <td>0.017</td>\n",
       "      <td>-0.022</td>\n",
       "      <td>-0.014</td>\n",
       "      <td>0.557</td>\n",
       "      <td>-0.035</td>\n",
       "      <td>-0.026</td>\n",
       "      <td>-0.123</td>\n",
       "      <td>0.266</td>\n",
       "      <td>-0.072</td>\n",
       "      <td>0.544</td>\n",
       "      <td>-0.039</td>\n",
       "      <td>-0.080</td>\n",
       "      <td>-0.028</td>\n",
       "      <td>-0.028</td>\n",
       "      <td>-0.028</td>\n",
       "      <td>1.000</td>\n",
       "      <td>0.254</td>\n",
       "      <td>0.251</td>\n",
       "      <td>-0.009</td>\n",
       "      <td>-0.032</td>\n",
       "    </tr>\n",
       "    <tr>\n",
       "      <th>thinness  1-19 years</th>\n",
       "      <td>-0.048</td>\n",
       "      <td>-0.477</td>\n",
       "      <td>0.303</td>\n",
       "      <td>0.466</td>\n",
       "      <td>-0.429</td>\n",
       "      <td>-0.251</td>\n",
       "      <td>-0.120</td>\n",
       "      <td>0.225</td>\n",
       "      <td>-0.532</td>\n",
       "      <td>0.468</td>\n",
       "      <td>-0.222</td>\n",
       "      <td>-0.277</td>\n",
       "      <td>-0.230</td>\n",
       "      <td>0.204</td>\n",
       "      <td>-0.286</td>\n",
       "      <td>0.254</td>\n",
       "      <td>1.000</td>\n",
       "      <td>0.939</td>\n",
       "      <td>-0.422</td>\n",
       "      <td>-0.472</td>\n",
       "    </tr>\n",
       "    <tr>\n",
       "      <th>thinness 5-9 years</th>\n",
       "      <td>-0.051</td>\n",
       "      <td>-0.472</td>\n",
       "      <td>0.308</td>\n",
       "      <td>0.471</td>\n",
       "      <td>-0.417</td>\n",
       "      <td>-0.253</td>\n",
       "      <td>-0.125</td>\n",
       "      <td>0.221</td>\n",
       "      <td>-0.539</td>\n",
       "      <td>0.472</td>\n",
       "      <td>-0.223</td>\n",
       "      <td>-0.284</td>\n",
       "      <td>-0.223</td>\n",
       "      <td>0.207</td>\n",
       "      <td>-0.291</td>\n",
       "      <td>0.251</td>\n",
       "      <td>0.939</td>\n",
       "      <td>1.000</td>\n",
       "      <td>-0.411</td>\n",
       "      <td>-0.461</td>\n",
       "    </tr>\n",
       "    <tr>\n",
       "      <th>Income composition of resources</th>\n",
       "      <td>0.243</td>\n",
       "      <td>0.725</td>\n",
       "      <td>-0.458</td>\n",
       "      <td>-0.145</td>\n",
       "      <td>0.450</td>\n",
       "      <td>0.382</td>\n",
       "      <td>0.200</td>\n",
       "      <td>-0.130</td>\n",
       "      <td>0.509</td>\n",
       "      <td>-0.163</td>\n",
       "      <td>0.381</td>\n",
       "      <td>0.167</td>\n",
       "      <td>0.401</td>\n",
       "      <td>-0.250</td>\n",
       "      <td>0.460</td>\n",
       "      <td>-0.009</td>\n",
       "      <td>-0.422</td>\n",
       "      <td>-0.411</td>\n",
       "      <td>1.000</td>\n",
       "      <td>0.800</td>\n",
       "    </tr>\n",
       "    <tr>\n",
       "      <th>Schooling</th>\n",
       "      <td>0.209</td>\n",
       "      <td>0.752</td>\n",
       "      <td>-0.455</td>\n",
       "      <td>-0.194</td>\n",
       "      <td>0.547</td>\n",
       "      <td>0.390</td>\n",
       "      <td>0.231</td>\n",
       "      <td>-0.137</td>\n",
       "      <td>0.547</td>\n",
       "      <td>-0.209</td>\n",
       "      <td>0.418</td>\n",
       "      <td>0.246</td>\n",
       "      <td>0.425</td>\n",
       "      <td>-0.220</td>\n",
       "      <td>0.448</td>\n",
       "      <td>-0.032</td>\n",
       "      <td>-0.472</td>\n",
       "      <td>-0.461</td>\n",
       "      <td>0.800</td>\n",
       "      <td>1.000</td>\n",
       "    </tr>\n",
       "  </tbody>\n",
       "</table>\n",
       "</div>"
      ],
      "text/plain": [
       "                                  Year  Life expectancy   Adult Mortality  \\\n",
       "Year                             1.000             0.170           -0.079   \n",
       "Life expectancy                  0.170             1.000           -0.696   \n",
       "Adult Mortality                 -0.079            -0.696            1.000   \n",
       "infant deaths                   -0.037            -0.197            0.079   \n",
       "Alcohol                         -0.053             0.405           -0.196   \n",
       "percentage expenditure           0.031             0.382           -0.243   \n",
       "Hepatitis B                      0.104             0.257           -0.162   \n",
       "Measles                         -0.082            -0.158            0.031   \n",
       " BMI                             0.109             0.568           -0.387   \n",
       "under-five deaths               -0.043            -0.223            0.094   \n",
       "Polio                            0.094             0.466           -0.275   \n",
       "Total expenditure                0.091             0.218           -0.115   \n",
       "Diphtheria                       0.134             0.479           -0.275   \n",
       " HIV/AIDS                       -0.140            -0.557            0.524   \n",
       "GDP                              0.102             0.461           -0.296   \n",
       "Population                       0.017            -0.022           -0.014   \n",
       " thinness  1-19 years           -0.048            -0.477            0.303   \n",
       " thinness 5-9 years             -0.051            -0.472            0.308   \n",
       "Income composition of resources  0.243             0.725           -0.458   \n",
       "Schooling                        0.209             0.752           -0.455   \n",
       "\n",
       "                                 infant deaths  Alcohol  \\\n",
       "Year                                    -0.037   -0.053   \n",
       "Life expectancy                         -0.197    0.405   \n",
       "Adult Mortality                          0.079   -0.196   \n",
       "infant deaths                            1.000   -0.116   \n",
       "Alcohol                                 -0.116    1.000   \n",
       "percentage expenditure                  -0.086    0.341   \n",
       "Hepatitis B                             -0.224    0.088   \n",
       "Measles                                  0.501   -0.052   \n",
       " BMI                                    -0.227    0.330   \n",
       "under-five deaths                        0.997   -0.112   \n",
       "Polio                                   -0.171    0.222   \n",
       "Total expenditure                       -0.129    0.297   \n",
       "Diphtheria                              -0.175    0.222   \n",
       " HIV/AIDS                                0.025   -0.049   \n",
       "GDP                                     -0.108    0.355   \n",
       "Population                               0.557   -0.035   \n",
       " thinness  1-19 years                    0.466   -0.429   \n",
       " thinness 5-9 years                      0.471   -0.417   \n",
       "Income composition of resources         -0.145    0.450   \n",
       "Schooling                               -0.194    0.547   \n",
       "\n",
       "                                 percentage expenditure  Hepatitis B  \\\n",
       "Year                                              0.031        0.104   \n",
       "Life expectancy                                   0.382        0.257   \n",
       "Adult Mortality                                  -0.243       -0.162   \n",
       "infant deaths                                    -0.086       -0.224   \n",
       "Alcohol                                           0.341        0.088   \n",
       "percentage expenditure                            1.000        0.016   \n",
       "Hepatitis B                                       0.016        1.000   \n",
       "Measles                                          -0.057       -0.121   \n",
       " BMI                                              0.229        0.150   \n",
       "under-five deaths                                -0.088       -0.233   \n",
       "Polio                                             0.147        0.486   \n",
       "Total expenditure                                 0.174        0.058   \n",
       "Diphtheria                                        0.144        0.611   \n",
       " HIV/AIDS                                        -0.098       -0.113   \n",
       "GDP                                               0.899        0.084   \n",
       "Population                                       -0.026       -0.123   \n",
       " thinness  1-19 years                            -0.251       -0.120   \n",
       " thinness 5-9 years                              -0.253       -0.125   \n",
       "Income composition of resources                   0.382        0.200   \n",
       "Schooling                                         0.390        0.231   \n",
       "\n",
       "                                 Measles    BMI   under-five deaths   Polio  \\\n",
       "Year                               -0.082  0.109              -0.043  0.094   \n",
       "Life expectancy                    -0.158  0.568              -0.223  0.466   \n",
       "Adult Mortality                     0.031 -0.387               0.094 -0.275   \n",
       "infant deaths                       0.501 -0.227               0.997 -0.171   \n",
       "Alcohol                            -0.052  0.330              -0.112  0.222   \n",
       "percentage expenditure             -0.057  0.229              -0.088  0.147   \n",
       "Hepatitis B                        -0.121  0.150              -0.233  0.486   \n",
       "Measles                             1.000 -0.176               0.508 -0.136   \n",
       " BMI                               -0.176  1.000              -0.238  0.285   \n",
       "under-five deaths                   0.508 -0.238               1.000 -0.189   \n",
       "Polio                              -0.136  0.285              -0.189  1.000   \n",
       "Total expenditure                  -0.106  0.243              -0.130  0.137   \n",
       "Diphtheria                         -0.142  0.283              -0.196  0.674   \n",
       " HIV/AIDS                           0.031 -0.244               0.038 -0.160   \n",
       "GDP                                -0.076  0.302              -0.112  0.212   \n",
       "Population                          0.266 -0.072               0.544 -0.039   \n",
       " thinness  1-19 years               0.225 -0.532               0.468 -0.222   \n",
       " thinness 5-9 years                 0.221 -0.539               0.472 -0.223   \n",
       "Income composition of resources    -0.130  0.509              -0.163  0.381   \n",
       "Schooling                          -0.137  0.547              -0.209  0.418   \n",
       "\n",
       "                                 Total expenditure  Diphtheria    HIV/AIDS  \\\n",
       "Year                                         0.091        0.134     -0.140   \n",
       "Life expectancy                              0.218        0.479     -0.557   \n",
       "Adult Mortality                             -0.115       -0.275      0.524   \n",
       "infant deaths                               -0.129       -0.175      0.025   \n",
       "Alcohol                                      0.297        0.222     -0.049   \n",
       "percentage expenditure                       0.174        0.144     -0.098   \n",
       "Hepatitis B                                  0.058        0.611     -0.113   \n",
       "Measles                                     -0.106       -0.142      0.031   \n",
       " BMI                                         0.243        0.283     -0.244   \n",
       "under-five deaths                           -0.130       -0.196      0.038   \n",
       "Polio                                        0.137        0.674     -0.160   \n",
       "Total expenditure                            1.000        0.153     -0.001   \n",
       "Diphtheria                                   0.153        1.000     -0.165   \n",
       " HIV/AIDS                                   -0.001       -0.165      1.000   \n",
       "GDP                                          0.138        0.201     -0.136   \n",
       "Population                                  -0.080       -0.028     -0.028   \n",
       " thinness  1-19 years                       -0.277       -0.230      0.204   \n",
       " thinness 5-9 years                         -0.284       -0.223      0.207   \n",
       "Income composition of resources              0.167        0.401     -0.250   \n",
       "Schooling                                    0.246        0.425     -0.220   \n",
       "\n",
       "                                   GDP  Population   thinness  1-19 years  \\\n",
       "Year                             0.102       0.017                 -0.048   \n",
       "Life expectancy                  0.461      -0.022                 -0.477   \n",
       "Adult Mortality                 -0.296      -0.014                  0.303   \n",
       "infant deaths                   -0.108       0.557                  0.466   \n",
       "Alcohol                          0.355      -0.035                 -0.429   \n",
       "percentage expenditure           0.899      -0.026                 -0.251   \n",
       "Hepatitis B                      0.084      -0.123                 -0.120   \n",
       "Measles                         -0.076       0.266                  0.225   \n",
       " BMI                             0.302      -0.072                 -0.532   \n",
       "under-five deaths               -0.112       0.544                  0.468   \n",
       "Polio                            0.212      -0.039                 -0.222   \n",
       "Total expenditure                0.138      -0.080                 -0.277   \n",
       "Diphtheria                       0.201      -0.028                 -0.230   \n",
       " HIV/AIDS                       -0.136      -0.028                  0.204   \n",
       "GDP                              1.000      -0.028                 -0.286   \n",
       "Population                      -0.028       1.000                  0.254   \n",
       " thinness  1-19 years           -0.286       0.254                  1.000   \n",
       " thinness 5-9 years             -0.291       0.251                  0.939   \n",
       "Income composition of resources  0.460      -0.009                 -0.422   \n",
       "Schooling                        0.448      -0.032                 -0.472   \n",
       "\n",
       "                                  thinness 5-9 years  \\\n",
       "Year                                          -0.051   \n",
       "Life expectancy                               -0.472   \n",
       "Adult Mortality                                0.308   \n",
       "infant deaths                                  0.471   \n",
       "Alcohol                                       -0.417   \n",
       "percentage expenditure                        -0.253   \n",
       "Hepatitis B                                   -0.125   \n",
       "Measles                                        0.221   \n",
       " BMI                                          -0.539   \n",
       "under-five deaths                              0.472   \n",
       "Polio                                         -0.223   \n",
       "Total expenditure                             -0.284   \n",
       "Diphtheria                                    -0.223   \n",
       " HIV/AIDS                                      0.207   \n",
       "GDP                                           -0.291   \n",
       "Population                                     0.251   \n",
       " thinness  1-19 years                          0.939   \n",
       " thinness 5-9 years                            1.000   \n",
       "Income composition of resources               -0.411   \n",
       "Schooling                                     -0.461   \n",
       "\n",
       "                                 Income composition of resources  Schooling  \n",
       "Year                                                       0.243      0.209  \n",
       "Life expectancy                                            0.725      0.752  \n",
       "Adult Mortality                                           -0.458     -0.455  \n",
       "infant deaths                                             -0.145     -0.194  \n",
       "Alcohol                                                    0.450      0.547  \n",
       "percentage expenditure                                     0.382      0.390  \n",
       "Hepatitis B                                                0.200      0.231  \n",
       "Measles                                                   -0.130     -0.137  \n",
       " BMI                                                       0.509      0.547  \n",
       "under-five deaths                                         -0.163     -0.209  \n",
       "Polio                                                      0.381      0.418  \n",
       "Total expenditure                                          0.167      0.246  \n",
       "Diphtheria                                                 0.401      0.425  \n",
       " HIV/AIDS                                                 -0.250     -0.220  \n",
       "GDP                                                        0.460      0.448  \n",
       "Population                                                -0.009     -0.032  \n",
       " thinness  1-19 years                                     -0.422     -0.472  \n",
       " thinness 5-9 years                                       -0.411     -0.461  \n",
       "Income composition of resources                            1.000      0.800  \n",
       "Schooling                                                  0.800      1.000  "
      ]
     },
     "execution_count": 674,
     "metadata": {},
     "output_type": "execute_result"
    }
   ],
   "source": [
    "df.corr().round(3)"
   ]
  },
  {
   "cell_type": "code",
   "execution_count": 675,
   "id": "0ec3f229",
   "metadata": {
    "scrolled": true
   },
   "outputs": [
    {
     "data": {
      "text/html": [
       "<div>\n",
       "<style scoped>\n",
       "    .dataframe tbody tr th:only-of-type {\n",
       "        vertical-align: middle;\n",
       "    }\n",
       "\n",
       "    .dataframe tbody tr th {\n",
       "        vertical-align: top;\n",
       "    }\n",
       "\n",
       "    .dataframe thead th {\n",
       "        text-align: right;\n",
       "    }\n",
       "</style>\n",
       "<table border=\"1\" class=\"dataframe\">\n",
       "  <thead>\n",
       "    <tr style=\"text-align: right;\">\n",
       "      <th></th>\n",
       "      <th></th>\n",
       "      <th>Year</th>\n",
       "      <th>Life expectancy</th>\n",
       "      <th>Adult Mortality</th>\n",
       "      <th>infant deaths</th>\n",
       "      <th>Alcohol</th>\n",
       "      <th>percentage expenditure</th>\n",
       "      <th>Hepatitis B</th>\n",
       "      <th>Measles</th>\n",
       "      <th>BMI</th>\n",
       "      <th>under-five deaths</th>\n",
       "      <th>Polio</th>\n",
       "      <th>Total expenditure</th>\n",
       "      <th>Diphtheria</th>\n",
       "      <th>HIV/AIDS</th>\n",
       "      <th>GDP</th>\n",
       "      <th>Population</th>\n",
       "      <th>thinness  1-19 years</th>\n",
       "      <th>thinness 5-9 years</th>\n",
       "      <th>Income composition of resources</th>\n",
       "      <th>Schooling</th>\n",
       "    </tr>\n",
       "    <tr>\n",
       "      <th>Status</th>\n",
       "      <th></th>\n",
       "      <th></th>\n",
       "      <th></th>\n",
       "      <th></th>\n",
       "      <th></th>\n",
       "      <th></th>\n",
       "      <th></th>\n",
       "      <th></th>\n",
       "      <th></th>\n",
       "      <th></th>\n",
       "      <th></th>\n",
       "      <th></th>\n",
       "      <th></th>\n",
       "      <th></th>\n",
       "      <th></th>\n",
       "      <th></th>\n",
       "      <th></th>\n",
       "      <th></th>\n",
       "      <th></th>\n",
       "      <th></th>\n",
       "      <th></th>\n",
       "    </tr>\n",
       "  </thead>\n",
       "  <tbody>\n",
       "    <tr>\n",
       "      <th rowspan=\"20\" valign=\"top\">Developed</th>\n",
       "      <th>Year</th>\n",
       "      <td>1.000</td>\n",
       "      <td>0.333</td>\n",
       "      <td>-0.146</td>\n",
       "      <td>-0.041</td>\n",
       "      <td>-0.128</td>\n",
       "      <td>0.030</td>\n",
       "      <td>0.126</td>\n",
       "      <td>-0.088</td>\n",
       "      <td>0.098</td>\n",
       "      <td>-0.039</td>\n",
       "      <td>0.090</td>\n",
       "      <td>0.132</td>\n",
       "      <td>0.138</td>\n",
       "      <td>NaN</td>\n",
       "      <td>0.117</td>\n",
       "      <td>-0.009</td>\n",
       "      <td>-0.086</td>\n",
       "      <td>-0.089</td>\n",
       "      <td>0.385</td>\n",
       "      <td>0.259</td>\n",
       "    </tr>\n",
       "    <tr>\n",
       "      <th>Life expectancy</th>\n",
       "      <td>0.333</td>\n",
       "      <td>1.000</td>\n",
       "      <td>-0.485</td>\n",
       "      <td>-0.055</td>\n",
       "      <td>-0.288</td>\n",
       "      <td>0.350</td>\n",
       "      <td>-0.086</td>\n",
       "      <td>0.038</td>\n",
       "      <td>-0.044</td>\n",
       "      <td>-0.048</td>\n",
       "      <td>0.018</td>\n",
       "      <td>0.072</td>\n",
       "      <td>-0.020</td>\n",
       "      <td>NaN</td>\n",
       "      <td>0.353</td>\n",
       "      <td>0.080</td>\n",
       "      <td>-0.588</td>\n",
       "      <td>-0.597</td>\n",
       "      <td>0.724</td>\n",
       "      <td>0.395</td>\n",
       "    </tr>\n",
       "    <tr>\n",
       "      <th>Adult Mortality</th>\n",
       "      <td>-0.146</td>\n",
       "      <td>-0.485</td>\n",
       "      <td>1.000</td>\n",
       "      <td>-0.048</td>\n",
       "      <td>0.136</td>\n",
       "      <td>-0.204</td>\n",
       "      <td>0.118</td>\n",
       "      <td>-0.036</td>\n",
       "      <td>-0.010</td>\n",
       "      <td>-0.049</td>\n",
       "      <td>0.023</td>\n",
       "      <td>-0.155</td>\n",
       "      <td>0.010</td>\n",
       "      <td>NaN</td>\n",
       "      <td>-0.250</td>\n",
       "      <td>-0.040</td>\n",
       "      <td>0.472</td>\n",
       "      <td>0.481</td>\n",
       "      <td>-0.481</td>\n",
       "      <td>-0.243</td>\n",
       "    </tr>\n",
       "    <tr>\n",
       "      <th>infant deaths</th>\n",
       "      <td>-0.041</td>\n",
       "      <td>-0.055</td>\n",
       "      <td>-0.048</td>\n",
       "      <td>1.000</td>\n",
       "      <td>-0.078</td>\n",
       "      <td>-0.151</td>\n",
       "      <td>-0.072</td>\n",
       "      <td>0.051</td>\n",
       "      <td>0.048</td>\n",
       "      <td>0.998</td>\n",
       "      <td>-0.188</td>\n",
       "      <td>0.463</td>\n",
       "      <td>0.035</td>\n",
       "      <td>NaN</td>\n",
       "      <td>-0.122</td>\n",
       "      <td>0.429</td>\n",
       "      <td>-0.107</td>\n",
       "      <td>-0.119</td>\n",
       "      <td>-0.163</td>\n",
       "      <td>-0.096</td>\n",
       "    </tr>\n",
       "    <tr>\n",
       "      <th>Alcohol</th>\n",
       "      <td>-0.128</td>\n",
       "      <td>-0.288</td>\n",
       "      <td>0.136</td>\n",
       "      <td>-0.078</td>\n",
       "      <td>1.000</td>\n",
       "      <td>-0.012</td>\n",
       "      <td>-0.029</td>\n",
       "      <td>-0.058</td>\n",
       "      <td>0.145</td>\n",
       "      <td>-0.077</td>\n",
       "      <td>-0.020</td>\n",
       "      <td>-0.021</td>\n",
       "      <td>0.003</td>\n",
       "      <td>NaN</td>\n",
       "      <td>-0.046</td>\n",
       "      <td>0.027</td>\n",
       "      <td>0.003</td>\n",
       "      <td>0.023</td>\n",
       "      <td>-0.208</td>\n",
       "      <td>-0.003</td>\n",
       "    </tr>\n",
       "    <tr>\n",
       "      <th>percentage expenditure</th>\n",
       "      <td>0.030</td>\n",
       "      <td>0.350</td>\n",
       "      <td>-0.204</td>\n",
       "      <td>-0.151</td>\n",
       "      <td>-0.012</td>\n",
       "      <td>1.000</td>\n",
       "      <td>-0.073</td>\n",
       "      <td>0.050</td>\n",
       "      <td>-0.018</td>\n",
       "      <td>-0.153</td>\n",
       "      <td>0.000</td>\n",
       "      <td>0.035</td>\n",
       "      <td>-0.045</td>\n",
       "      <td>NaN</td>\n",
       "      <td>0.913</td>\n",
       "      <td>0.017</td>\n",
       "      <td>-0.291</td>\n",
       "      <td>-0.291</td>\n",
       "      <td>0.464</td>\n",
       "      <td>0.195</td>\n",
       "    </tr>\n",
       "    <tr>\n",
       "      <th>Hepatitis B</th>\n",
       "      <td>0.126</td>\n",
       "      <td>-0.086</td>\n",
       "      <td>0.118</td>\n",
       "      <td>-0.072</td>\n",
       "      <td>-0.029</td>\n",
       "      <td>-0.073</td>\n",
       "      <td>1.000</td>\n",
       "      <td>0.036</td>\n",
       "      <td>0.071</td>\n",
       "      <td>-0.067</td>\n",
       "      <td>0.213</td>\n",
       "      <td>-0.045</td>\n",
       "      <td>0.244</td>\n",
       "      <td>NaN</td>\n",
       "      <td>-0.039</td>\n",
       "      <td>-0.070</td>\n",
       "      <td>0.195</td>\n",
       "      <td>0.194</td>\n",
       "      <td>-0.189</td>\n",
       "      <td>-0.226</td>\n",
       "    </tr>\n",
       "    <tr>\n",
       "      <th>Measles</th>\n",
       "      <td>-0.088</td>\n",
       "      <td>0.038</td>\n",
       "      <td>-0.036</td>\n",
       "      <td>0.051</td>\n",
       "      <td>-0.058</td>\n",
       "      <td>0.050</td>\n",
       "      <td>0.036</td>\n",
       "      <td>1.000</td>\n",
       "      <td>-0.102</td>\n",
       "      <td>0.064</td>\n",
       "      <td>-0.008</td>\n",
       "      <td>-0.018</td>\n",
       "      <td>0.009</td>\n",
       "      <td>NaN</td>\n",
       "      <td>0.034</td>\n",
       "      <td>0.066</td>\n",
       "      <td>0.044</td>\n",
       "      <td>0.018</td>\n",
       "      <td>-0.017</td>\n",
       "      <td>-0.078</td>\n",
       "    </tr>\n",
       "    <tr>\n",
       "      <th>BMI</th>\n",
       "      <td>0.098</td>\n",
       "      <td>-0.044</td>\n",
       "      <td>-0.010</td>\n",
       "      <td>0.048</td>\n",
       "      <td>0.145</td>\n",
       "      <td>-0.018</td>\n",
       "      <td>0.071</td>\n",
       "      <td>-0.102</td>\n",
       "      <td>1.000</td>\n",
       "      <td>0.044</td>\n",
       "      <td>0.059</td>\n",
       "      <td>0.152</td>\n",
       "      <td>0.072</td>\n",
       "      <td>NaN</td>\n",
       "      <td>-0.039</td>\n",
       "      <td>0.108</td>\n",
       "      <td>-0.131</td>\n",
       "      <td>-0.103</td>\n",
       "      <td>-0.012</td>\n",
       "      <td>0.120</td>\n",
       "    </tr>\n",
       "    <tr>\n",
       "      <th>under-five deaths</th>\n",
       "      <td>-0.039</td>\n",
       "      <td>-0.048</td>\n",
       "      <td>-0.049</td>\n",
       "      <td>0.998</td>\n",
       "      <td>-0.077</td>\n",
       "      <td>-0.153</td>\n",
       "      <td>-0.067</td>\n",
       "      <td>0.064</td>\n",
       "      <td>0.044</td>\n",
       "      <td>1.000</td>\n",
       "      <td>-0.187</td>\n",
       "      <td>0.459</td>\n",
       "      <td>0.035</td>\n",
       "      <td>NaN</td>\n",
       "      <td>-0.141</td>\n",
       "      <td>0.386</td>\n",
       "      <td>-0.107</td>\n",
       "      <td>-0.120</td>\n",
       "      <td>-0.136</td>\n",
       "      <td>-0.084</td>\n",
       "    </tr>\n",
       "    <tr>\n",
       "      <th>Polio</th>\n",
       "      <td>0.090</td>\n",
       "      <td>0.018</td>\n",
       "      <td>0.023</td>\n",
       "      <td>-0.188</td>\n",
       "      <td>-0.020</td>\n",
       "      <td>0.000</td>\n",
       "      <td>0.213</td>\n",
       "      <td>-0.008</td>\n",
       "      <td>0.059</td>\n",
       "      <td>-0.187</td>\n",
       "      <td>1.000</td>\n",
       "      <td>-0.089</td>\n",
       "      <td>0.584</td>\n",
       "      <td>NaN</td>\n",
       "      <td>0.019</td>\n",
       "      <td>0.060</td>\n",
       "      <td>0.088</td>\n",
       "      <td>0.090</td>\n",
       "      <td>-0.089</td>\n",
       "      <td>-0.209</td>\n",
       "    </tr>\n",
       "    <tr>\n",
       "      <th>Total expenditure</th>\n",
       "      <td>0.132</td>\n",
       "      <td>0.072</td>\n",
       "      <td>-0.155</td>\n",
       "      <td>0.463</td>\n",
       "      <td>-0.021</td>\n",
       "      <td>0.035</td>\n",
       "      <td>-0.045</td>\n",
       "      <td>-0.018</td>\n",
       "      <td>0.152</td>\n",
       "      <td>0.459</td>\n",
       "      <td>-0.089</td>\n",
       "      <td>1.000</td>\n",
       "      <td>0.014</td>\n",
       "      <td>NaN</td>\n",
       "      <td>0.089</td>\n",
       "      <td>-0.156</td>\n",
       "      <td>-0.311</td>\n",
       "      <td>-0.318</td>\n",
       "      <td>0.162</td>\n",
       "      <td>0.261</td>\n",
       "    </tr>\n",
       "    <tr>\n",
       "      <th>Diphtheria</th>\n",
       "      <td>0.138</td>\n",
       "      <td>-0.020</td>\n",
       "      <td>0.010</td>\n",
       "      <td>0.035</td>\n",
       "      <td>0.003</td>\n",
       "      <td>-0.045</td>\n",
       "      <td>0.244</td>\n",
       "      <td>0.009</td>\n",
       "      <td>0.072</td>\n",
       "      <td>0.035</td>\n",
       "      <td>0.584</td>\n",
       "      <td>0.014</td>\n",
       "      <td>1.000</td>\n",
       "      <td>NaN</td>\n",
       "      <td>0.006</td>\n",
       "      <td>0.050</td>\n",
       "      <td>0.168</td>\n",
       "      <td>0.158</td>\n",
       "      <td>-0.117</td>\n",
       "      <td>-0.214</td>\n",
       "    </tr>\n",
       "    <tr>\n",
       "      <th>HIV/AIDS</th>\n",
       "      <td>NaN</td>\n",
       "      <td>NaN</td>\n",
       "      <td>NaN</td>\n",
       "      <td>NaN</td>\n",
       "      <td>NaN</td>\n",
       "      <td>NaN</td>\n",
       "      <td>NaN</td>\n",
       "      <td>NaN</td>\n",
       "      <td>NaN</td>\n",
       "      <td>NaN</td>\n",
       "      <td>NaN</td>\n",
       "      <td>NaN</td>\n",
       "      <td>NaN</td>\n",
       "      <td>NaN</td>\n",
       "      <td>NaN</td>\n",
       "      <td>NaN</td>\n",
       "      <td>NaN</td>\n",
       "      <td>NaN</td>\n",
       "      <td>NaN</td>\n",
       "      <td>NaN</td>\n",
       "    </tr>\n",
       "    <tr>\n",
       "      <th>GDP</th>\n",
       "      <td>0.117</td>\n",
       "      <td>0.353</td>\n",
       "      <td>-0.250</td>\n",
       "      <td>-0.122</td>\n",
       "      <td>-0.046</td>\n",
       "      <td>0.913</td>\n",
       "      <td>-0.039</td>\n",
       "      <td>0.034</td>\n",
       "      <td>-0.039</td>\n",
       "      <td>-0.141</td>\n",
       "      <td>0.019</td>\n",
       "      <td>0.089</td>\n",
       "      <td>0.006</td>\n",
       "      <td>NaN</td>\n",
       "      <td>1.000</td>\n",
       "      <td>0.036</td>\n",
       "      <td>-0.303</td>\n",
       "      <td>-0.308</td>\n",
       "      <td>0.488</td>\n",
       "      <td>0.157</td>\n",
       "    </tr>\n",
       "    <tr>\n",
       "      <th>Population</th>\n",
       "      <td>-0.009</td>\n",
       "      <td>0.080</td>\n",
       "      <td>-0.040</td>\n",
       "      <td>0.429</td>\n",
       "      <td>0.027</td>\n",
       "      <td>0.017</td>\n",
       "      <td>-0.070</td>\n",
       "      <td>0.066</td>\n",
       "      <td>0.108</td>\n",
       "      <td>0.386</td>\n",
       "      <td>0.060</td>\n",
       "      <td>-0.156</td>\n",
       "      <td>0.050</td>\n",
       "      <td>NaN</td>\n",
       "      <td>0.036</td>\n",
       "      <td>1.000</td>\n",
       "      <td>-0.093</td>\n",
       "      <td>-0.073</td>\n",
       "      <td>0.061</td>\n",
       "      <td>0.063</td>\n",
       "    </tr>\n",
       "    <tr>\n",
       "      <th>thinness  1-19 years</th>\n",
       "      <td>-0.086</td>\n",
       "      <td>-0.588</td>\n",
       "      <td>0.472</td>\n",
       "      <td>-0.107</td>\n",
       "      <td>0.003</td>\n",
       "      <td>-0.291</td>\n",
       "      <td>0.195</td>\n",
       "      <td>0.044</td>\n",
       "      <td>-0.131</td>\n",
       "      <td>-0.107</td>\n",
       "      <td>0.088</td>\n",
       "      <td>-0.311</td>\n",
       "      <td>0.168</td>\n",
       "      <td>NaN</td>\n",
       "      <td>-0.303</td>\n",
       "      <td>-0.093</td>\n",
       "      <td>1.000</td>\n",
       "      <td>0.990</td>\n",
       "      <td>-0.610</td>\n",
       "      <td>-0.468</td>\n",
       "    </tr>\n",
       "    <tr>\n",
       "      <th>thinness 5-9 years</th>\n",
       "      <td>-0.089</td>\n",
       "      <td>-0.597</td>\n",
       "      <td>0.481</td>\n",
       "      <td>-0.119</td>\n",
       "      <td>0.023</td>\n",
       "      <td>-0.291</td>\n",
       "      <td>0.194</td>\n",
       "      <td>0.018</td>\n",
       "      <td>-0.103</td>\n",
       "      <td>-0.120</td>\n",
       "      <td>0.090</td>\n",
       "      <td>-0.318</td>\n",
       "      <td>0.158</td>\n",
       "      <td>NaN</td>\n",
       "      <td>-0.308</td>\n",
       "      <td>-0.073</td>\n",
       "      <td>0.990</td>\n",
       "      <td>1.000</td>\n",
       "      <td>-0.626</td>\n",
       "      <td>-0.473</td>\n",
       "    </tr>\n",
       "    <tr>\n",
       "      <th>Income composition of resources</th>\n",
       "      <td>0.385</td>\n",
       "      <td>0.724</td>\n",
       "      <td>-0.481</td>\n",
       "      <td>-0.163</td>\n",
       "      <td>-0.208</td>\n",
       "      <td>0.464</td>\n",
       "      <td>-0.189</td>\n",
       "      <td>-0.017</td>\n",
       "      <td>-0.012</td>\n",
       "      <td>-0.136</td>\n",
       "      <td>-0.089</td>\n",
       "      <td>0.162</td>\n",
       "      <td>-0.117</td>\n",
       "      <td>NaN</td>\n",
       "      <td>0.488</td>\n",
       "      <td>0.061</td>\n",
       "      <td>-0.610</td>\n",
       "      <td>-0.626</td>\n",
       "      <td>1.000</td>\n",
       "      <td>0.676</td>\n",
       "    </tr>\n",
       "    <tr>\n",
       "      <th>Schooling</th>\n",
       "      <td>0.259</td>\n",
       "      <td>0.395</td>\n",
       "      <td>-0.243</td>\n",
       "      <td>-0.096</td>\n",
       "      <td>-0.003</td>\n",
       "      <td>0.195</td>\n",
       "      <td>-0.226</td>\n",
       "      <td>-0.078</td>\n",
       "      <td>0.120</td>\n",
       "      <td>-0.084</td>\n",
       "      <td>-0.209</td>\n",
       "      <td>0.261</td>\n",
       "      <td>-0.214</td>\n",
       "      <td>NaN</td>\n",
       "      <td>0.157</td>\n",
       "      <td>0.063</td>\n",
       "      <td>-0.468</td>\n",
       "      <td>-0.473</td>\n",
       "      <td>0.676</td>\n",
       "      <td>1.000</td>\n",
       "    </tr>\n",
       "    <tr>\n",
       "      <th rowspan=\"20\" valign=\"top\">Developing</th>\n",
       "      <th>Year</th>\n",
       "      <td>1.000</td>\n",
       "      <td>0.187</td>\n",
       "      <td>-0.081</td>\n",
       "      <td>-0.041</td>\n",
       "      <td>-0.058</td>\n",
       "      <td>0.063</td>\n",
       "      <td>0.107</td>\n",
       "      <td>-0.088</td>\n",
       "      <td>0.119</td>\n",
       "      <td>-0.048</td>\n",
       "      <td>0.101</td>\n",
       "      <td>0.087</td>\n",
       "      <td>0.142</td>\n",
       "      <td>-0.156</td>\n",
       "      <td>0.136</td>\n",
       "      <td>0.019</td>\n",
       "      <td>-0.054</td>\n",
       "      <td>-0.058</td>\n",
       "      <td>0.286</td>\n",
       "      <td>0.247</td>\n",
       "    </tr>\n",
       "    <tr>\n",
       "      <th>Life expectancy</th>\n",
       "      <td>0.187</td>\n",
       "      <td>1.000</td>\n",
       "      <td>-0.661</td>\n",
       "      <td>-0.166</td>\n",
       "      <td>0.203</td>\n",
       "      <td>0.344</td>\n",
       "      <td>0.254</td>\n",
       "      <td>-0.142</td>\n",
       "      <td>0.556</td>\n",
       "      <td>-0.195</td>\n",
       "      <td>0.437</td>\n",
       "      <td>0.094</td>\n",
       "      <td>0.460</td>\n",
       "      <td>-0.571</td>\n",
       "      <td>0.390</td>\n",
       "      <td>0.000</td>\n",
       "      <td>-0.367</td>\n",
       "      <td>-0.360</td>\n",
       "      <td>0.644</td>\n",
       "      <td>0.688</td>\n",
       "    </tr>\n",
       "    <tr>\n",
       "      <th>Adult Mortality</th>\n",
       "      <td>-0.081</td>\n",
       "      <td>-0.661</td>\n",
       "      <td>1.000</td>\n",
       "      <td>0.047</td>\n",
       "      <td>-0.022</td>\n",
       "      <td>-0.203</td>\n",
       "      <td>-0.153</td>\n",
       "      <td>0.008</td>\n",
       "      <td>-0.351</td>\n",
       "      <td>0.062</td>\n",
       "      <td>-0.230</td>\n",
       "      <td>-0.010</td>\n",
       "      <td>-0.233</td>\n",
       "      <td>0.516</td>\n",
       "      <td>-0.234</td>\n",
       "      <td>-0.030</td>\n",
       "      <td>0.209</td>\n",
       "      <td>0.216</td>\n",
       "      <td>-0.374</td>\n",
       "      <td>-0.374</td>\n",
       "    </tr>\n",
       "    <tr>\n",
       "      <th>infant deaths</th>\n",
       "      <td>-0.041</td>\n",
       "      <td>-0.166</td>\n",
       "      <td>0.047</td>\n",
       "      <td>1.000</td>\n",
       "      <td>-0.065</td>\n",
       "      <td>-0.085</td>\n",
       "      <td>-0.225</td>\n",
       "      <td>0.499</td>\n",
       "      <td>-0.221</td>\n",
       "      <td>0.997</td>\n",
       "      <td>-0.153</td>\n",
       "      <td>-0.122</td>\n",
       "      <td>-0.160</td>\n",
       "      <td>0.009</td>\n",
       "      <td>-0.097</td>\n",
       "      <td>0.559</td>\n",
       "      <td>0.461</td>\n",
       "      <td>0.467</td>\n",
       "      <td>-0.108</td>\n",
       "      <td>-0.168</td>\n",
       "    </tr>\n",
       "    <tr>\n",
       "      <th>Alcohol</th>\n",
       "      <td>-0.058</td>\n",
       "      <td>0.203</td>\n",
       "      <td>-0.022</td>\n",
       "      <td>-0.065</td>\n",
       "      <td>1.000</td>\n",
       "      <td>0.223</td>\n",
       "      <td>0.033</td>\n",
       "      <td>-0.005</td>\n",
       "      <td>0.194</td>\n",
       "      <td>-0.058</td>\n",
       "      <td>0.128</td>\n",
       "      <td>0.199</td>\n",
       "      <td>0.130</td>\n",
       "      <td>0.055</td>\n",
       "      <td>0.184</td>\n",
       "      <td>-0.008</td>\n",
       "      <td>-0.300</td>\n",
       "      <td>-0.286</td>\n",
       "      <td>0.264</td>\n",
       "      <td>0.387</td>\n",
       "    </tr>\n",
       "    <tr>\n",
       "      <th>percentage expenditure</th>\n",
       "      <td>0.063</td>\n",
       "      <td>0.344</td>\n",
       "      <td>-0.203</td>\n",
       "      <td>-0.085</td>\n",
       "      <td>0.223</td>\n",
       "      <td>1.000</td>\n",
       "      <td>-0.026</td>\n",
       "      <td>-0.066</td>\n",
       "      <td>0.273</td>\n",
       "      <td>-0.088</td>\n",
       "      <td>0.128</td>\n",
       "      <td>0.063</td>\n",
       "      <td>0.145</td>\n",
       "      <td>-0.079</td>\n",
       "      <td>0.839</td>\n",
       "      <td>-0.012</td>\n",
       "      <td>-0.189</td>\n",
       "      <td>-0.191</td>\n",
       "      <td>0.335</td>\n",
       "      <td>0.335</td>\n",
       "    </tr>\n",
       "    <tr>\n",
       "      <th>Hepatitis B</th>\n",
       "      <td>0.107</td>\n",
       "      <td>0.254</td>\n",
       "      <td>-0.153</td>\n",
       "      <td>-0.225</td>\n",
       "      <td>0.033</td>\n",
       "      <td>-0.026</td>\n",
       "      <td>1.000</td>\n",
       "      <td>-0.121</td>\n",
       "      <td>0.133</td>\n",
       "      <td>-0.235</td>\n",
       "      <td>0.496</td>\n",
       "      <td>0.046</td>\n",
       "      <td>0.633</td>\n",
       "      <td>-0.106</td>\n",
       "      <td>0.077</td>\n",
       "      <td>-0.124</td>\n",
       "      <td>-0.099</td>\n",
       "      <td>-0.104</td>\n",
       "      <td>0.186</td>\n",
       "      <td>0.243</td>\n",
       "    </tr>\n",
       "    <tr>\n",
       "      <th>Measles</th>\n",
       "      <td>-0.088</td>\n",
       "      <td>-0.142</td>\n",
       "      <td>0.008</td>\n",
       "      <td>0.499</td>\n",
       "      <td>-0.005</td>\n",
       "      <td>-0.066</td>\n",
       "      <td>-0.121</td>\n",
       "      <td>1.000</td>\n",
       "      <td>-0.170</td>\n",
       "      <td>0.506</td>\n",
       "      <td>-0.125</td>\n",
       "      <td>-0.102</td>\n",
       "      <td>-0.133</td>\n",
       "      <td>0.020</td>\n",
       "      <td>-0.076</td>\n",
       "      <td>0.266</td>\n",
       "      <td>0.213</td>\n",
       "      <td>0.209</td>\n",
       "      <td>-0.110</td>\n",
       "      <td>-0.120</td>\n",
       "    </tr>\n",
       "    <tr>\n",
       "      <th>BMI</th>\n",
       "      <td>0.119</td>\n",
       "      <td>0.556</td>\n",
       "      <td>-0.351</td>\n",
       "      <td>-0.221</td>\n",
       "      <td>0.194</td>\n",
       "      <td>0.273</td>\n",
       "      <td>0.133</td>\n",
       "      <td>-0.170</td>\n",
       "      <td>1.000</td>\n",
       "      <td>-0.231</td>\n",
       "      <td>0.252</td>\n",
       "      <td>0.171</td>\n",
       "      <td>0.251</td>\n",
       "      <td>-0.227</td>\n",
       "      <td>0.339</td>\n",
       "      <td>-0.070</td>\n",
       "      <td>-0.508</td>\n",
       "      <td>-0.517</td>\n",
       "      <td>0.477</td>\n",
       "      <td>0.527</td>\n",
       "    </tr>\n",
       "    <tr>\n",
       "      <th>under-five deaths</th>\n",
       "      <td>-0.048</td>\n",
       "      <td>-0.195</td>\n",
       "      <td>0.062</td>\n",
       "      <td>0.997</td>\n",
       "      <td>-0.058</td>\n",
       "      <td>-0.088</td>\n",
       "      <td>-0.235</td>\n",
       "      <td>0.506</td>\n",
       "      <td>-0.231</td>\n",
       "      <td>1.000</td>\n",
       "      <td>-0.171</td>\n",
       "      <td>-0.123</td>\n",
       "      <td>-0.181</td>\n",
       "      <td>0.021</td>\n",
       "      <td>-0.102</td>\n",
       "      <td>0.546</td>\n",
       "      <td>0.462</td>\n",
       "      <td>0.467</td>\n",
       "      <td>-0.128</td>\n",
       "      <td>-0.186</td>\n",
       "    </tr>\n",
       "    <tr>\n",
       "      <th>Polio</th>\n",
       "      <td>0.101</td>\n",
       "      <td>0.437</td>\n",
       "      <td>-0.230</td>\n",
       "      <td>-0.153</td>\n",
       "      <td>0.128</td>\n",
       "      <td>0.128</td>\n",
       "      <td>0.496</td>\n",
       "      <td>-0.125</td>\n",
       "      <td>0.252</td>\n",
       "      <td>-0.171</td>\n",
       "      <td>1.000</td>\n",
       "      <td>0.104</td>\n",
       "      <td>0.661</td>\n",
       "      <td>-0.134</td>\n",
       "      <td>0.188</td>\n",
       "      <td>-0.030</td>\n",
       "      <td>-0.160</td>\n",
       "      <td>-0.162</td>\n",
       "      <td>0.332</td>\n",
       "      <td>0.394</td>\n",
       "    </tr>\n",
       "    <tr>\n",
       "      <th>Total expenditure</th>\n",
       "      <td>0.087</td>\n",
       "      <td>0.094</td>\n",
       "      <td>-0.010</td>\n",
       "      <td>-0.122</td>\n",
       "      <td>0.199</td>\n",
       "      <td>0.063</td>\n",
       "      <td>0.046</td>\n",
       "      <td>-0.102</td>\n",
       "      <td>0.171</td>\n",
       "      <td>-0.123</td>\n",
       "      <td>0.104</td>\n",
       "      <td>1.000</td>\n",
       "      <td>0.113</td>\n",
       "      <td>0.055</td>\n",
       "      <td>-0.042</td>\n",
       "      <td>-0.072</td>\n",
       "      <td>-0.207</td>\n",
       "      <td>-0.215</td>\n",
       "      <td>0.045</td>\n",
       "      <td>0.122</td>\n",
       "    </tr>\n",
       "    <tr>\n",
       "      <th>Diphtheria</th>\n",
       "      <td>0.142</td>\n",
       "      <td>0.460</td>\n",
       "      <td>-0.233</td>\n",
       "      <td>-0.160</td>\n",
       "      <td>0.130</td>\n",
       "      <td>0.145</td>\n",
       "      <td>0.633</td>\n",
       "      <td>-0.133</td>\n",
       "      <td>0.251</td>\n",
       "      <td>-0.181</td>\n",
       "      <td>0.661</td>\n",
       "      <td>0.113</td>\n",
       "      <td>1.000</td>\n",
       "      <td>-0.141</td>\n",
       "      <td>0.186</td>\n",
       "      <td>-0.019</td>\n",
       "      <td>-0.173</td>\n",
       "      <td>-0.166</td>\n",
       "      <td>0.370</td>\n",
       "      <td>0.421</td>\n",
       "    </tr>\n",
       "    <tr>\n",
       "      <th>HIV/AIDS</th>\n",
       "      <td>-0.156</td>\n",
       "      <td>-0.571</td>\n",
       "      <td>0.516</td>\n",
       "      <td>0.009</td>\n",
       "      <td>0.055</td>\n",
       "      <td>-0.079</td>\n",
       "      <td>-0.106</td>\n",
       "      <td>0.020</td>\n",
       "      <td>-0.227</td>\n",
       "      <td>0.021</td>\n",
       "      <td>-0.134</td>\n",
       "      <td>0.055</td>\n",
       "      <td>-0.141</td>\n",
       "      <td>1.000</td>\n",
       "      <td>-0.114</td>\n",
       "      <td>-0.036</td>\n",
       "      <td>0.163</td>\n",
       "      <td>0.167</td>\n",
       "      <td>-0.210</td>\n",
       "      <td>-0.179</td>\n",
       "    </tr>\n",
       "    <tr>\n",
       "      <th>GDP</th>\n",
       "      <td>0.136</td>\n",
       "      <td>0.390</td>\n",
       "      <td>-0.234</td>\n",
       "      <td>-0.097</td>\n",
       "      <td>0.184</td>\n",
       "      <td>0.839</td>\n",
       "      <td>0.077</td>\n",
       "      <td>-0.076</td>\n",
       "      <td>0.339</td>\n",
       "      <td>-0.102</td>\n",
       "      <td>0.188</td>\n",
       "      <td>-0.042</td>\n",
       "      <td>0.186</td>\n",
       "      <td>-0.114</td>\n",
       "      <td>1.000</td>\n",
       "      <td>-0.015</td>\n",
       "      <td>-0.185</td>\n",
       "      <td>-0.193</td>\n",
       "      <td>0.397</td>\n",
       "      <td>0.379</td>\n",
       "    </tr>\n",
       "    <tr>\n",
       "      <th>Population</th>\n",
       "      <td>0.019</td>\n",
       "      <td>0.000</td>\n",
       "      <td>-0.030</td>\n",
       "      <td>0.559</td>\n",
       "      <td>-0.008</td>\n",
       "      <td>-0.012</td>\n",
       "      <td>-0.124</td>\n",
       "      <td>0.266</td>\n",
       "      <td>-0.070</td>\n",
       "      <td>0.546</td>\n",
       "      <td>-0.030</td>\n",
       "      <td>-0.072</td>\n",
       "      <td>-0.019</td>\n",
       "      <td>-0.036</td>\n",
       "      <td>-0.015</td>\n",
       "      <td>1.000</td>\n",
       "      <td>0.258</td>\n",
       "      <td>0.255</td>\n",
       "      <td>0.017</td>\n",
       "      <td>-0.010</td>\n",
       "    </tr>\n",
       "    <tr>\n",
       "      <th>thinness  1-19 years</th>\n",
       "      <td>-0.054</td>\n",
       "      <td>-0.367</td>\n",
       "      <td>0.209</td>\n",
       "      <td>0.461</td>\n",
       "      <td>-0.300</td>\n",
       "      <td>-0.189</td>\n",
       "      <td>-0.099</td>\n",
       "      <td>0.213</td>\n",
       "      <td>-0.508</td>\n",
       "      <td>0.462</td>\n",
       "      <td>-0.160</td>\n",
       "      <td>-0.207</td>\n",
       "      <td>-0.173</td>\n",
       "      <td>0.163</td>\n",
       "      <td>-0.185</td>\n",
       "      <td>0.258</td>\n",
       "      <td>1.000</td>\n",
       "      <td>0.929</td>\n",
       "      <td>-0.304</td>\n",
       "      <td>-0.363</td>\n",
       "    </tr>\n",
       "    <tr>\n",
       "      <th>thinness 5-9 years</th>\n",
       "      <td>-0.058</td>\n",
       "      <td>-0.360</td>\n",
       "      <td>0.216</td>\n",
       "      <td>0.467</td>\n",
       "      <td>-0.286</td>\n",
       "      <td>-0.191</td>\n",
       "      <td>-0.104</td>\n",
       "      <td>0.209</td>\n",
       "      <td>-0.517</td>\n",
       "      <td>0.467</td>\n",
       "      <td>-0.162</td>\n",
       "      <td>-0.215</td>\n",
       "      <td>-0.166</td>\n",
       "      <td>0.167</td>\n",
       "      <td>-0.193</td>\n",
       "      <td>0.255</td>\n",
       "      <td>0.929</td>\n",
       "      <td>1.000</td>\n",
       "      <td>-0.290</td>\n",
       "      <td>-0.349</td>\n",
       "    </tr>\n",
       "    <tr>\n",
       "      <th>Income composition of resources</th>\n",
       "      <td>0.286</td>\n",
       "      <td>0.644</td>\n",
       "      <td>-0.374</td>\n",
       "      <td>-0.108</td>\n",
       "      <td>0.264</td>\n",
       "      <td>0.335</td>\n",
       "      <td>0.186</td>\n",
       "      <td>-0.110</td>\n",
       "      <td>0.477</td>\n",
       "      <td>-0.128</td>\n",
       "      <td>0.332</td>\n",
       "      <td>0.045</td>\n",
       "      <td>0.370</td>\n",
       "      <td>-0.210</td>\n",
       "      <td>0.397</td>\n",
       "      <td>0.017</td>\n",
       "      <td>-0.304</td>\n",
       "      <td>-0.290</td>\n",
       "      <td>1.000</td>\n",
       "      <td>0.745</td>\n",
       "    </tr>\n",
       "    <tr>\n",
       "      <th>Schooling</th>\n",
       "      <td>0.247</td>\n",
       "      <td>0.688</td>\n",
       "      <td>-0.374</td>\n",
       "      <td>-0.168</td>\n",
       "      <td>0.387</td>\n",
       "      <td>0.335</td>\n",
       "      <td>0.243</td>\n",
       "      <td>-0.120</td>\n",
       "      <td>0.527</td>\n",
       "      <td>-0.186</td>\n",
       "      <td>0.394</td>\n",
       "      <td>0.122</td>\n",
       "      <td>0.421</td>\n",
       "      <td>-0.179</td>\n",
       "      <td>0.379</td>\n",
       "      <td>-0.010</td>\n",
       "      <td>-0.363</td>\n",
       "      <td>-0.349</td>\n",
       "      <td>0.745</td>\n",
       "      <td>1.000</td>\n",
       "    </tr>\n",
       "  </tbody>\n",
       "</table>\n",
       "</div>"
      ],
      "text/plain": [
       "                                             Year  Life expectancy   \\\n",
       "Status                                                                \n",
       "Developed  Year                             1.000             0.333   \n",
       "           Life expectancy                  0.333             1.000   \n",
       "           Adult Mortality                 -0.146            -0.485   \n",
       "           infant deaths                   -0.041            -0.055   \n",
       "           Alcohol                         -0.128            -0.288   \n",
       "           percentage expenditure           0.030             0.350   \n",
       "           Hepatitis B                      0.126            -0.086   \n",
       "           Measles                         -0.088             0.038   \n",
       "            BMI                             0.098            -0.044   \n",
       "           under-five deaths               -0.039            -0.048   \n",
       "           Polio                            0.090             0.018   \n",
       "           Total expenditure                0.132             0.072   \n",
       "           Diphtheria                       0.138            -0.020   \n",
       "            HIV/AIDS                          NaN               NaN   \n",
       "           GDP                              0.117             0.353   \n",
       "           Population                      -0.009             0.080   \n",
       "            thinness  1-19 years           -0.086            -0.588   \n",
       "            thinness 5-9 years             -0.089            -0.597   \n",
       "           Income composition of resources  0.385             0.724   \n",
       "           Schooling                        0.259             0.395   \n",
       "Developing Year                             1.000             0.187   \n",
       "           Life expectancy                  0.187             1.000   \n",
       "           Adult Mortality                 -0.081            -0.661   \n",
       "           infant deaths                   -0.041            -0.166   \n",
       "           Alcohol                         -0.058             0.203   \n",
       "           percentage expenditure           0.063             0.344   \n",
       "           Hepatitis B                      0.107             0.254   \n",
       "           Measles                         -0.088            -0.142   \n",
       "            BMI                             0.119             0.556   \n",
       "           under-five deaths               -0.048            -0.195   \n",
       "           Polio                            0.101             0.437   \n",
       "           Total expenditure                0.087             0.094   \n",
       "           Diphtheria                       0.142             0.460   \n",
       "            HIV/AIDS                       -0.156            -0.571   \n",
       "           GDP                              0.136             0.390   \n",
       "           Population                       0.019             0.000   \n",
       "            thinness  1-19 years           -0.054            -0.367   \n",
       "            thinness 5-9 years             -0.058            -0.360   \n",
       "           Income composition of resources  0.286             0.644   \n",
       "           Schooling                        0.247             0.688   \n",
       "\n",
       "                                            Adult Mortality  infant deaths  \\\n",
       "Status                                                                       \n",
       "Developed  Year                                      -0.146         -0.041   \n",
       "           Life expectancy                           -0.485         -0.055   \n",
       "           Adult Mortality                            1.000         -0.048   \n",
       "           infant deaths                             -0.048          1.000   \n",
       "           Alcohol                                    0.136         -0.078   \n",
       "           percentage expenditure                    -0.204         -0.151   \n",
       "           Hepatitis B                                0.118         -0.072   \n",
       "           Measles                                   -0.036          0.051   \n",
       "            BMI                                      -0.010          0.048   \n",
       "           under-five deaths                         -0.049          0.998   \n",
       "           Polio                                      0.023         -0.188   \n",
       "           Total expenditure                         -0.155          0.463   \n",
       "           Diphtheria                                 0.010          0.035   \n",
       "            HIV/AIDS                                    NaN            NaN   \n",
       "           GDP                                       -0.250         -0.122   \n",
       "           Population                                -0.040          0.429   \n",
       "            thinness  1-19 years                      0.472         -0.107   \n",
       "            thinness 5-9 years                        0.481         -0.119   \n",
       "           Income composition of resources           -0.481         -0.163   \n",
       "           Schooling                                 -0.243         -0.096   \n",
       "Developing Year                                      -0.081         -0.041   \n",
       "           Life expectancy                           -0.661         -0.166   \n",
       "           Adult Mortality                            1.000          0.047   \n",
       "           infant deaths                              0.047          1.000   \n",
       "           Alcohol                                   -0.022         -0.065   \n",
       "           percentage expenditure                    -0.203         -0.085   \n",
       "           Hepatitis B                               -0.153         -0.225   \n",
       "           Measles                                    0.008          0.499   \n",
       "            BMI                                      -0.351         -0.221   \n",
       "           under-five deaths                          0.062          0.997   \n",
       "           Polio                                     -0.230         -0.153   \n",
       "           Total expenditure                         -0.010         -0.122   \n",
       "           Diphtheria                                -0.233         -0.160   \n",
       "            HIV/AIDS                                  0.516          0.009   \n",
       "           GDP                                       -0.234         -0.097   \n",
       "           Population                                -0.030          0.559   \n",
       "            thinness  1-19 years                      0.209          0.461   \n",
       "            thinness 5-9 years                        0.216          0.467   \n",
       "           Income composition of resources           -0.374         -0.108   \n",
       "           Schooling                                 -0.374         -0.168   \n",
       "\n",
       "                                            Alcohol  percentage expenditure  \\\n",
       "Status                                                                        \n",
       "Developed  Year                              -0.128                   0.030   \n",
       "           Life expectancy                   -0.288                   0.350   \n",
       "           Adult Mortality                    0.136                  -0.204   \n",
       "           infant deaths                     -0.078                  -0.151   \n",
       "           Alcohol                            1.000                  -0.012   \n",
       "           percentage expenditure            -0.012                   1.000   \n",
       "           Hepatitis B                       -0.029                  -0.073   \n",
       "           Measles                           -0.058                   0.050   \n",
       "            BMI                               0.145                  -0.018   \n",
       "           under-five deaths                 -0.077                  -0.153   \n",
       "           Polio                             -0.020                   0.000   \n",
       "           Total expenditure                 -0.021                   0.035   \n",
       "           Diphtheria                         0.003                  -0.045   \n",
       "            HIV/AIDS                            NaN                     NaN   \n",
       "           GDP                               -0.046                   0.913   \n",
       "           Population                         0.027                   0.017   \n",
       "            thinness  1-19 years              0.003                  -0.291   \n",
       "            thinness 5-9 years                0.023                  -0.291   \n",
       "           Income composition of resources   -0.208                   0.464   \n",
       "           Schooling                         -0.003                   0.195   \n",
       "Developing Year                              -0.058                   0.063   \n",
       "           Life expectancy                    0.203                   0.344   \n",
       "           Adult Mortality                   -0.022                  -0.203   \n",
       "           infant deaths                     -0.065                  -0.085   \n",
       "           Alcohol                            1.000                   0.223   \n",
       "           percentage expenditure             0.223                   1.000   \n",
       "           Hepatitis B                        0.033                  -0.026   \n",
       "           Measles                           -0.005                  -0.066   \n",
       "            BMI                               0.194                   0.273   \n",
       "           under-five deaths                 -0.058                  -0.088   \n",
       "           Polio                              0.128                   0.128   \n",
       "           Total expenditure                  0.199                   0.063   \n",
       "           Diphtheria                         0.130                   0.145   \n",
       "            HIV/AIDS                          0.055                  -0.079   \n",
       "           GDP                                0.184                   0.839   \n",
       "           Population                        -0.008                  -0.012   \n",
       "            thinness  1-19 years             -0.300                  -0.189   \n",
       "            thinness 5-9 years               -0.286                  -0.191   \n",
       "           Income composition of resources    0.264                   0.335   \n",
       "           Schooling                          0.387                   0.335   \n",
       "\n",
       "                                            Hepatitis B  Measles    BMI   \\\n",
       "Status                                                                     \n",
       "Developed  Year                                   0.126    -0.088  0.098   \n",
       "           Life expectancy                       -0.086     0.038 -0.044   \n",
       "           Adult Mortality                        0.118    -0.036 -0.010   \n",
       "           infant deaths                         -0.072     0.051  0.048   \n",
       "           Alcohol                               -0.029    -0.058  0.145   \n",
       "           percentage expenditure                -0.073     0.050 -0.018   \n",
       "           Hepatitis B                            1.000     0.036  0.071   \n",
       "           Measles                                0.036     1.000 -0.102   \n",
       "            BMI                                   0.071    -0.102  1.000   \n",
       "           under-five deaths                     -0.067     0.064  0.044   \n",
       "           Polio                                  0.213    -0.008  0.059   \n",
       "           Total expenditure                     -0.045    -0.018  0.152   \n",
       "           Diphtheria                             0.244     0.009  0.072   \n",
       "            HIV/AIDS                                NaN       NaN    NaN   \n",
       "           GDP                                   -0.039     0.034 -0.039   \n",
       "           Population                            -0.070     0.066  0.108   \n",
       "            thinness  1-19 years                  0.195     0.044 -0.131   \n",
       "            thinness 5-9 years                    0.194     0.018 -0.103   \n",
       "           Income composition of resources       -0.189    -0.017 -0.012   \n",
       "           Schooling                             -0.226    -0.078  0.120   \n",
       "Developing Year                                   0.107    -0.088  0.119   \n",
       "           Life expectancy                        0.254    -0.142  0.556   \n",
       "           Adult Mortality                       -0.153     0.008 -0.351   \n",
       "           infant deaths                         -0.225     0.499 -0.221   \n",
       "           Alcohol                                0.033    -0.005  0.194   \n",
       "           percentage expenditure                -0.026    -0.066  0.273   \n",
       "           Hepatitis B                            1.000    -0.121  0.133   \n",
       "           Measles                               -0.121     1.000 -0.170   \n",
       "            BMI                                   0.133    -0.170  1.000   \n",
       "           under-five deaths                     -0.235     0.506 -0.231   \n",
       "           Polio                                  0.496    -0.125  0.252   \n",
       "           Total expenditure                      0.046    -0.102  0.171   \n",
       "           Diphtheria                             0.633    -0.133  0.251   \n",
       "            HIV/AIDS                             -0.106     0.020 -0.227   \n",
       "           GDP                                    0.077    -0.076  0.339   \n",
       "           Population                            -0.124     0.266 -0.070   \n",
       "            thinness  1-19 years                 -0.099     0.213 -0.508   \n",
       "            thinness 5-9 years                   -0.104     0.209 -0.517   \n",
       "           Income composition of resources        0.186    -0.110  0.477   \n",
       "           Schooling                              0.243    -0.120  0.527   \n",
       "\n",
       "                                            under-five deaths   Polio  \\\n",
       "Status                                                                  \n",
       "Developed  Year                                         -0.039  0.090   \n",
       "           Life expectancy                              -0.048  0.018   \n",
       "           Adult Mortality                              -0.049  0.023   \n",
       "           infant deaths                                 0.998 -0.188   \n",
       "           Alcohol                                      -0.077 -0.020   \n",
       "           percentage expenditure                       -0.153  0.000   \n",
       "           Hepatitis B                                  -0.067  0.213   \n",
       "           Measles                                       0.064 -0.008   \n",
       "            BMI                                          0.044  0.059   \n",
       "           under-five deaths                             1.000 -0.187   \n",
       "           Polio                                        -0.187  1.000   \n",
       "           Total expenditure                             0.459 -0.089   \n",
       "           Diphtheria                                    0.035  0.584   \n",
       "            HIV/AIDS                                       NaN    NaN   \n",
       "           GDP                                          -0.141  0.019   \n",
       "           Population                                    0.386  0.060   \n",
       "            thinness  1-19 years                        -0.107  0.088   \n",
       "            thinness 5-9 years                          -0.120  0.090   \n",
       "           Income composition of resources              -0.136 -0.089   \n",
       "           Schooling                                    -0.084 -0.209   \n",
       "Developing Year                                         -0.048  0.101   \n",
       "           Life expectancy                              -0.195  0.437   \n",
       "           Adult Mortality                               0.062 -0.230   \n",
       "           infant deaths                                 0.997 -0.153   \n",
       "           Alcohol                                      -0.058  0.128   \n",
       "           percentage expenditure                       -0.088  0.128   \n",
       "           Hepatitis B                                  -0.235  0.496   \n",
       "           Measles                                       0.506 -0.125   \n",
       "            BMI                                         -0.231  0.252   \n",
       "           under-five deaths                             1.000 -0.171   \n",
       "           Polio                                        -0.171  1.000   \n",
       "           Total expenditure                            -0.123  0.104   \n",
       "           Diphtheria                                   -0.181  0.661   \n",
       "            HIV/AIDS                                     0.021 -0.134   \n",
       "           GDP                                          -0.102  0.188   \n",
       "           Population                                    0.546 -0.030   \n",
       "            thinness  1-19 years                         0.462 -0.160   \n",
       "            thinness 5-9 years                           0.467 -0.162   \n",
       "           Income composition of resources              -0.128  0.332   \n",
       "           Schooling                                    -0.186  0.394   \n",
       "\n",
       "                                            Total expenditure  Diphtheria   \\\n",
       "Status                                                                       \n",
       "Developed  Year                                         0.132        0.138   \n",
       "           Life expectancy                              0.072       -0.020   \n",
       "           Adult Mortality                             -0.155        0.010   \n",
       "           infant deaths                                0.463        0.035   \n",
       "           Alcohol                                     -0.021        0.003   \n",
       "           percentage expenditure                       0.035       -0.045   \n",
       "           Hepatitis B                                 -0.045        0.244   \n",
       "           Measles                                     -0.018        0.009   \n",
       "            BMI                                         0.152        0.072   \n",
       "           under-five deaths                            0.459        0.035   \n",
       "           Polio                                       -0.089        0.584   \n",
       "           Total expenditure                            1.000        0.014   \n",
       "           Diphtheria                                   0.014        1.000   \n",
       "            HIV/AIDS                                      NaN          NaN   \n",
       "           GDP                                          0.089        0.006   \n",
       "           Population                                  -0.156        0.050   \n",
       "            thinness  1-19 years                       -0.311        0.168   \n",
       "            thinness 5-9 years                         -0.318        0.158   \n",
       "           Income composition of resources              0.162       -0.117   \n",
       "           Schooling                                    0.261       -0.214   \n",
       "Developing Year                                         0.087        0.142   \n",
       "           Life expectancy                              0.094        0.460   \n",
       "           Adult Mortality                             -0.010       -0.233   \n",
       "           infant deaths                               -0.122       -0.160   \n",
       "           Alcohol                                      0.199        0.130   \n",
       "           percentage expenditure                       0.063        0.145   \n",
       "           Hepatitis B                                  0.046        0.633   \n",
       "           Measles                                     -0.102       -0.133   \n",
       "            BMI                                         0.171        0.251   \n",
       "           under-five deaths                           -0.123       -0.181   \n",
       "           Polio                                        0.104        0.661   \n",
       "           Total expenditure                            1.000        0.113   \n",
       "           Diphtheria                                   0.113        1.000   \n",
       "            HIV/AIDS                                    0.055       -0.141   \n",
       "           GDP                                         -0.042        0.186   \n",
       "           Population                                  -0.072       -0.019   \n",
       "            thinness  1-19 years                       -0.207       -0.173   \n",
       "            thinness 5-9 years                         -0.215       -0.166   \n",
       "           Income composition of resources              0.045        0.370   \n",
       "           Schooling                                    0.122        0.421   \n",
       "\n",
       "                                             HIV/AIDS    GDP  Population  \\\n",
       "Status                                                                     \n",
       "Developed  Year                                   NaN  0.117      -0.009   \n",
       "           Life expectancy                        NaN  0.353       0.080   \n",
       "           Adult Mortality                        NaN -0.250      -0.040   \n",
       "           infant deaths                          NaN -0.122       0.429   \n",
       "           Alcohol                                NaN -0.046       0.027   \n",
       "           percentage expenditure                 NaN  0.913       0.017   \n",
       "           Hepatitis B                            NaN -0.039      -0.070   \n",
       "           Measles                                NaN  0.034       0.066   \n",
       "            BMI                                   NaN -0.039       0.108   \n",
       "           under-five deaths                      NaN -0.141       0.386   \n",
       "           Polio                                  NaN  0.019       0.060   \n",
       "           Total expenditure                      NaN  0.089      -0.156   \n",
       "           Diphtheria                             NaN  0.006       0.050   \n",
       "            HIV/AIDS                              NaN    NaN         NaN   \n",
       "           GDP                                    NaN  1.000       0.036   \n",
       "           Population                             NaN  0.036       1.000   \n",
       "            thinness  1-19 years                  NaN -0.303      -0.093   \n",
       "            thinness 5-9 years                    NaN -0.308      -0.073   \n",
       "           Income composition of resources        NaN  0.488       0.061   \n",
       "           Schooling                              NaN  0.157       0.063   \n",
       "Developing Year                                -0.156  0.136       0.019   \n",
       "           Life expectancy                     -0.571  0.390       0.000   \n",
       "           Adult Mortality                      0.516 -0.234      -0.030   \n",
       "           infant deaths                        0.009 -0.097       0.559   \n",
       "           Alcohol                              0.055  0.184      -0.008   \n",
       "           percentage expenditure              -0.079  0.839      -0.012   \n",
       "           Hepatitis B                         -0.106  0.077      -0.124   \n",
       "           Measles                              0.020 -0.076       0.266   \n",
       "            BMI                                -0.227  0.339      -0.070   \n",
       "           under-five deaths                    0.021 -0.102       0.546   \n",
       "           Polio                               -0.134  0.188      -0.030   \n",
       "           Total expenditure                    0.055 -0.042      -0.072   \n",
       "           Diphtheria                          -0.141  0.186      -0.019   \n",
       "            HIV/AIDS                            1.000 -0.114      -0.036   \n",
       "           GDP                                 -0.114  1.000      -0.015   \n",
       "           Population                          -0.036 -0.015       1.000   \n",
       "            thinness  1-19 years                0.163 -0.185       0.258   \n",
       "            thinness 5-9 years                  0.167 -0.193       0.255   \n",
       "           Income composition of resources     -0.210  0.397       0.017   \n",
       "           Schooling                           -0.179  0.379      -0.010   \n",
       "\n",
       "                                             thinness  1-19 years  \\\n",
       "Status                                                              \n",
       "Developed  Year                                            -0.086   \n",
       "           Life expectancy                                 -0.588   \n",
       "           Adult Mortality                                  0.472   \n",
       "           infant deaths                                   -0.107   \n",
       "           Alcohol                                          0.003   \n",
       "           percentage expenditure                          -0.291   \n",
       "           Hepatitis B                                      0.195   \n",
       "           Measles                                          0.044   \n",
       "            BMI                                            -0.131   \n",
       "           under-five deaths                               -0.107   \n",
       "           Polio                                            0.088   \n",
       "           Total expenditure                               -0.311   \n",
       "           Diphtheria                                       0.168   \n",
       "            HIV/AIDS                                          NaN   \n",
       "           GDP                                             -0.303   \n",
       "           Population                                      -0.093   \n",
       "            thinness  1-19 years                            1.000   \n",
       "            thinness 5-9 years                              0.990   \n",
       "           Income composition of resources                 -0.610   \n",
       "           Schooling                                       -0.468   \n",
       "Developing Year                                            -0.054   \n",
       "           Life expectancy                                 -0.367   \n",
       "           Adult Mortality                                  0.209   \n",
       "           infant deaths                                    0.461   \n",
       "           Alcohol                                         -0.300   \n",
       "           percentage expenditure                          -0.189   \n",
       "           Hepatitis B                                     -0.099   \n",
       "           Measles                                          0.213   \n",
       "            BMI                                            -0.508   \n",
       "           under-five deaths                                0.462   \n",
       "           Polio                                           -0.160   \n",
       "           Total expenditure                               -0.207   \n",
       "           Diphtheria                                      -0.173   \n",
       "            HIV/AIDS                                        0.163   \n",
       "           GDP                                             -0.185   \n",
       "           Population                                       0.258   \n",
       "            thinness  1-19 years                            1.000   \n",
       "            thinness 5-9 years                              0.929   \n",
       "           Income composition of resources                 -0.304   \n",
       "           Schooling                                       -0.363   \n",
       "\n",
       "                                             thinness 5-9 years  \\\n",
       "Status                                                            \n",
       "Developed  Year                                          -0.089   \n",
       "           Life expectancy                               -0.597   \n",
       "           Adult Mortality                                0.481   \n",
       "           infant deaths                                 -0.119   \n",
       "           Alcohol                                        0.023   \n",
       "           percentage expenditure                        -0.291   \n",
       "           Hepatitis B                                    0.194   \n",
       "           Measles                                        0.018   \n",
       "            BMI                                          -0.103   \n",
       "           under-five deaths                             -0.120   \n",
       "           Polio                                          0.090   \n",
       "           Total expenditure                             -0.318   \n",
       "           Diphtheria                                     0.158   \n",
       "            HIV/AIDS                                        NaN   \n",
       "           GDP                                           -0.308   \n",
       "           Population                                    -0.073   \n",
       "            thinness  1-19 years                          0.990   \n",
       "            thinness 5-9 years                            1.000   \n",
       "           Income composition of resources               -0.626   \n",
       "           Schooling                                     -0.473   \n",
       "Developing Year                                          -0.058   \n",
       "           Life expectancy                               -0.360   \n",
       "           Adult Mortality                                0.216   \n",
       "           infant deaths                                  0.467   \n",
       "           Alcohol                                       -0.286   \n",
       "           percentage expenditure                        -0.191   \n",
       "           Hepatitis B                                   -0.104   \n",
       "           Measles                                        0.209   \n",
       "            BMI                                          -0.517   \n",
       "           under-five deaths                              0.467   \n",
       "           Polio                                         -0.162   \n",
       "           Total expenditure                             -0.215   \n",
       "           Diphtheria                                    -0.166   \n",
       "            HIV/AIDS                                      0.167   \n",
       "           GDP                                           -0.193   \n",
       "           Population                                     0.255   \n",
       "            thinness  1-19 years                          0.929   \n",
       "            thinness 5-9 years                            1.000   \n",
       "           Income composition of resources               -0.290   \n",
       "           Schooling                                     -0.349   \n",
       "\n",
       "                                            Income composition of resources  \\\n",
       "Status                                                                        \n",
       "Developed  Year                                                       0.385   \n",
       "           Life expectancy                                            0.724   \n",
       "           Adult Mortality                                           -0.481   \n",
       "           infant deaths                                             -0.163   \n",
       "           Alcohol                                                   -0.208   \n",
       "           percentage expenditure                                     0.464   \n",
       "           Hepatitis B                                               -0.189   \n",
       "           Measles                                                   -0.017   \n",
       "            BMI                                                      -0.012   \n",
       "           under-five deaths                                         -0.136   \n",
       "           Polio                                                     -0.089   \n",
       "           Total expenditure                                          0.162   \n",
       "           Diphtheria                                                -0.117   \n",
       "            HIV/AIDS                                                    NaN   \n",
       "           GDP                                                        0.488   \n",
       "           Population                                                 0.061   \n",
       "            thinness  1-19 years                                     -0.610   \n",
       "            thinness 5-9 years                                       -0.626   \n",
       "           Income composition of resources                            1.000   \n",
       "           Schooling                                                  0.676   \n",
       "Developing Year                                                       0.286   \n",
       "           Life expectancy                                            0.644   \n",
       "           Adult Mortality                                           -0.374   \n",
       "           infant deaths                                             -0.108   \n",
       "           Alcohol                                                    0.264   \n",
       "           percentage expenditure                                     0.335   \n",
       "           Hepatitis B                                                0.186   \n",
       "           Measles                                                   -0.110   \n",
       "            BMI                                                       0.477   \n",
       "           under-five deaths                                         -0.128   \n",
       "           Polio                                                      0.332   \n",
       "           Total expenditure                                          0.045   \n",
       "           Diphtheria                                                 0.370   \n",
       "            HIV/AIDS                                                 -0.210   \n",
       "           GDP                                                        0.397   \n",
       "           Population                                                 0.017   \n",
       "            thinness  1-19 years                                     -0.304   \n",
       "            thinness 5-9 years                                       -0.290   \n",
       "           Income composition of resources                            1.000   \n",
       "           Schooling                                                  0.745   \n",
       "\n",
       "                                            Schooling  \n",
       "Status                                                 \n",
       "Developed  Year                                 0.259  \n",
       "           Life expectancy                      0.395  \n",
       "           Adult Mortality                     -0.243  \n",
       "           infant deaths                       -0.096  \n",
       "           Alcohol                             -0.003  \n",
       "           percentage expenditure               0.195  \n",
       "           Hepatitis B                         -0.226  \n",
       "           Measles                             -0.078  \n",
       "            BMI                                 0.120  \n",
       "           under-five deaths                   -0.084  \n",
       "           Polio                               -0.209  \n",
       "           Total expenditure                    0.261  \n",
       "           Diphtheria                          -0.214  \n",
       "            HIV/AIDS                              NaN  \n",
       "           GDP                                  0.157  \n",
       "           Population                           0.063  \n",
       "            thinness  1-19 years               -0.468  \n",
       "            thinness 5-9 years                 -0.473  \n",
       "           Income composition of resources      0.676  \n",
       "           Schooling                            1.000  \n",
       "Developing Year                                 0.247  \n",
       "           Life expectancy                      0.688  \n",
       "           Adult Mortality                     -0.374  \n",
       "           infant deaths                       -0.168  \n",
       "           Alcohol                              0.387  \n",
       "           percentage expenditure               0.335  \n",
       "           Hepatitis B                          0.243  \n",
       "           Measles                             -0.120  \n",
       "            BMI                                 0.527  \n",
       "           under-five deaths                   -0.186  \n",
       "           Polio                                0.394  \n",
       "           Total expenditure                    0.122  \n",
       "           Diphtheria                           0.421  \n",
       "            HIV/AIDS                           -0.179  \n",
       "           GDP                                  0.379  \n",
       "           Population                          -0.010  \n",
       "            thinness  1-19 years               -0.363  \n",
       "            thinness 5-9 years                 -0.349  \n",
       "           Income composition of resources      0.745  \n",
       "           Schooling                            1.000  "
      ]
     },
     "execution_count": 675,
     "metadata": {},
     "output_type": "execute_result"
    }
   ],
   "source": [
    "df.groupby('Status').corr().round(3)"
   ]
  },
  {
   "cell_type": "code",
   "execution_count": 676,
   "id": "09751dc4",
   "metadata": {},
   "outputs": [
    {
     "data": {
      "text/html": [
       "<div>\n",
       "<style scoped>\n",
       "    .dataframe tbody tr th:only-of-type {\n",
       "        vertical-align: middle;\n",
       "    }\n",
       "\n",
       "    .dataframe tbody tr th {\n",
       "        vertical-align: top;\n",
       "    }\n",
       "\n",
       "    .dataframe thead th {\n",
       "        text-align: right;\n",
       "    }\n",
       "</style>\n",
       "<table border=\"1\" class=\"dataframe\">\n",
       "  <thead>\n",
       "    <tr style=\"text-align: right;\">\n",
       "      <th></th>\n",
       "      <th>Life expectancy</th>\n",
       "      <th>Income composition of resources</th>\n",
       "      <th>Schooling</th>\n",
       "    </tr>\n",
       "  </thead>\n",
       "  <tbody>\n",
       "    <tr>\n",
       "      <th>Life expectancy</th>\n",
       "      <td>1.000</td>\n",
       "      <td>0.725</td>\n",
       "      <td>0.752</td>\n",
       "    </tr>\n",
       "    <tr>\n",
       "      <th>Income composition of resources</th>\n",
       "      <td>0.725</td>\n",
       "      <td>1.000</td>\n",
       "      <td>0.800</td>\n",
       "    </tr>\n",
       "    <tr>\n",
       "      <th>Schooling</th>\n",
       "      <td>0.752</td>\n",
       "      <td>0.800</td>\n",
       "      <td>1.000</td>\n",
       "    </tr>\n",
       "  </tbody>\n",
       "</table>\n",
       "</div>"
      ],
      "text/plain": [
       "                                 Life expectancy   \\\n",
       "Life expectancy                             1.000   \n",
       "Income composition of resources             0.725   \n",
       "Schooling                                   0.752   \n",
       "\n",
       "                                 Income composition of resources  Schooling  \n",
       "Life expectancy                                            0.725      0.752  \n",
       "Income composition of resources                            1.000      0.800  \n",
       "Schooling                                                  0.800      1.000  "
      ]
     },
     "execution_count": 676,
     "metadata": {},
     "output_type": "execute_result"
    }
   ],
   "source": [
    "df[['Life expectancy ', 'Income composition of resources', 'Schooling']].corr().round(3)"
   ]
  },
  {
   "cell_type": "code",
   "execution_count": 677,
   "id": "b43f1224",
   "metadata": {},
   "outputs": [],
   "source": [
    "cormat = df[['Life expectancy ', 'Income composition of resources', 'Schooling']].corr().round(3)"
   ]
  },
  {
   "cell_type": "code",
   "execution_count": 678,
   "id": "7f3afab6",
   "metadata": {},
   "outputs": [],
   "source": [
    "import seaborn as sns"
   ]
  },
  {
   "cell_type": "code",
   "execution_count": 679,
   "id": "c4b28d9a",
   "metadata": {},
   "outputs": [
    {
     "data": {
      "text/plain": [
       "<AxesSubplot:>"
      ]
     },
     "execution_count": 679,
     "metadata": {},
     "output_type": "execute_result"
    },
    {
     "data": {
      "image/png": "[encoded data removed]",
      "text/plain": [
       "<Figure size 432x288 with 2 Axes>"
      ]
     },
     "metadata": {
      "needs_background": "light"
     },
     "output_type": "display_data"
    }
   ],
   "source": [
    "sns.heatmap(cormat, annot=True)"
   ]
  },
  {
   "cell_type": "code",
   "execution_count": 680,
   "id": "169b8413",
   "metadata": {},
   "outputs": [
    {
     "data": {
      "text/html": [
       "<div>\n",
       "<style scoped>\n",
       "    .dataframe tbody tr th:only-of-type {\n",
       "        vertical-align: middle;\n",
       "    }\n",
       "\n",
       "    .dataframe tbody tr th {\n",
       "        vertical-align: top;\n",
       "    }\n",
       "\n",
       "    .dataframe thead th {\n",
       "        text-align: right;\n",
       "    }\n",
       "</style>\n",
       "<table border=\"1\" class=\"dataframe\">\n",
       "  <thead>\n",
       "    <tr style=\"text-align: right;\">\n",
       "      <th></th>\n",
       "      <th>Life expectancy</th>\n",
       "      <th>GDP</th>\n",
       "    </tr>\n",
       "  </thead>\n",
       "  <tbody>\n",
       "    <tr>\n",
       "      <th>Life expectancy</th>\n",
       "      <td>1.000</td>\n",
       "      <td>0.461</td>\n",
       "    </tr>\n",
       "    <tr>\n",
       "      <th>GDP</th>\n",
       "      <td>0.461</td>\n",
       "      <td>1.000</td>\n",
       "    </tr>\n",
       "  </tbody>\n",
       "</table>\n",
       "</div>"
      ],
      "text/plain": [
       "                  Life expectancy     GDP\n",
       "Life expectancy              1.000  0.461\n",
       "GDP                          0.461  1.000"
      ]
     },
     "execution_count": 680,
     "metadata": {},
     "output_type": "execute_result"
    }
   ],
   "source": [
    "df[['Life expectancy ', 'GDP']].corr().round(3)"
   ]
  },
  {
   "cell_type": "code",
   "execution_count": 681,
   "id": "a1ba59f3",
   "metadata": {},
   "outputs": [],
   "source": [
    "import matplotlib.pyplot as plt"
   ]
  },
  {
   "cell_type": "code",
   "execution_count": 682,
   "id": "e0d9f842",
   "metadata": {},
   "outputs": [
    {
     "data": {
      "text/plain": [
       "<matplotlib.collections.PathCollection at 0x1e166dd4490>"
      ]
     },
     "execution_count": 682,
     "metadata": {},
     "output_type": "execute_result"
    },
    {
     "data": {
      "image/png": "[encoded data removed]",
      "text/plain": [
       "<Figure size 432x288 with 1 Axes>"
      ]
     },
     "metadata": {
      "needs_background": "light"
     },
     "output_type": "display_data"
    }
   ],
   "source": [
    "plt.scatter(df['Life expectancy '],df['GDP'])"
   ]
  },
  {
   "cell_type": "code",
   "execution_count": 683,
   "id": "b5944d76",
   "metadata": {},
   "outputs": [],
   "source": [
    "import pandas as pd"
   ]
  },
  {
   "cell_type": "code",
   "execution_count": 684,
   "id": "d3c41a6b",
   "metadata": {},
   "outputs": [],
   "source": [
    "import numpy as np"
   ]
  },
  {
   "cell_type": "code",
   "execution_count": 685,
   "id": "164bc7e8",
   "metadata": {},
   "outputs": [
    {
     "data": {
      "text/plain": [
       "73.0    0.015369\n",
       "75.0    0.011270\n",
       "78.0    0.010587\n",
       "73.6    0.009563\n",
       "73.9    0.008538\n",
       "          ...   \n",
       "43.1    0.000342\n",
       "49.5    0.000342\n",
       "49.0    0.000342\n",
       "55.1    0.000342\n",
       "45.4    0.000342\n",
       "Name: Life expectancy , Length: 362, dtype: float64"
      ]
     },
     "execution_count": 685,
     "metadata": {},
     "output_type": "execute_result"
    }
   ],
   "source": [
    "df[ 'Life expectancy '].value_counts(normalize=True)"
   ]
  },
  {
   "cell_type": "code",
   "execution_count": 686,
   "id": "ab40e4ad",
   "metadata": {},
   "outputs": [],
   "source": [
    " average_life_expectancy=df[\"Life expectancy \"].mean()"
   ]
  },
  {
   "cell_type": "code",
   "execution_count": 687,
   "id": "989bafb0",
   "metadata": {},
   "outputs": [],
   "source": [
    "average_adult_mortality=df[\"Adult Mortality\"].mean()"
   ]
  },
  {
   "cell_type": "code",
   "execution_count": 727,
   "id": "3f6f724b",
   "metadata": {},
   "outputs": [],
   "source": [
    "my_crosstab=pd.crosstab(index=df[\"Status\"],columns=[ \"average_life_expectancy\"],normalize=True)\n",
    " "
   ]
  },
  {
   "cell_type": "code",
   "execution_count": 728,
   "id": "709d0507",
   "metadata": {},
   "outputs": [
    {
     "data": {
      "text/html": [
       "<div>\n",
       "<style scoped>\n",
       "    .dataframe tbody tr th:only-of-type {\n",
       "        vertical-align: middle;\n",
       "    }\n",
       "\n",
       "    .dataframe tbody tr th {\n",
       "        vertical-align: top;\n",
       "    }\n",
       "\n",
       "    .dataframe thead th {\n",
       "        text-align: right;\n",
       "    }\n",
       "</style>\n",
       "<table border=\"1\" class=\"dataframe\">\n",
       "  <thead>\n",
       "    <tr style=\"text-align: right;\">\n",
       "      <th>col_0</th>\n",
       "      <th>average_life_expectancy</th>\n",
       "    </tr>\n",
       "    <tr>\n",
       "      <th>Status</th>\n",
       "      <th></th>\n",
       "    </tr>\n",
       "  </thead>\n",
       "  <tbody>\n",
       "    <tr>\n",
       "      <th>Developed</th>\n",
       "      <td>0.174268</td>\n",
       "    </tr>\n",
       "    <tr>\n",
       "      <th>Developing</th>\n",
       "      <td>0.825732</td>\n",
       "    </tr>\n",
       "  </tbody>\n",
       "</table>\n",
       "</div>"
      ],
      "text/plain": [
       "col_0       average_life_expectancy\n",
       "Status                             \n",
       "Developed                  0.174268\n",
       "Developing                 0.825732"
      ]
     },
     "execution_count": 728,
     "metadata": {},
     "output_type": "execute_result"
    }
   ],
   "source": [
    "my_crosstab"
   ]
  },
  {
   "cell_type": "code",
   "execution_count": 690,
   "id": "0e29b603",
   "metadata": {},
   "outputs": [
    {
     "data": {
      "text/plain": [
       "Index(['Country', 'Year', 'Status', 'Life expectancy ', 'Adult Mortality',\n",
       "       'infant deaths', 'Alcohol', 'percentage expenditure', 'Hepatitis B',\n",
       "       'Measles ', ' BMI ', 'under-five deaths ', 'Polio', 'Total expenditure',\n",
       "       'Diphtheria ', ' HIV/AIDS', 'GDP', 'Population',\n",
       "       ' thinness  1-19 years', ' thinness 5-9 years',\n",
       "       'Income composition of resources', 'Schooling'],\n",
       "      dtype='object')"
      ]
     },
     "execution_count": 690,
     "metadata": {},
     "output_type": "execute_result"
    }
   ],
   "source": [
    " df.columns"
   ]
  },
  {
   "cell_type": "code",
   "execution_count": 691,
   "id": "9261a3e3",
   "metadata": {},
   "outputs": [],
   "source": [
    "myfield1=df['Status']\n",
    "myfield2=df['Life expectancy ']\n",
    " \n"
   ]
  },
  {
   "cell_type": "markdown",
   "id": "f7d683e8",
   "metadata": {},
   "source": [
    "mycrosstable=pd.crosstab(myfield1,myfield2)\n",
    "nycrosstable"
   ]
  },
  {
   "cell_type": "code",
   "execution_count": 692,
   "id": "3329f050",
   "metadata": {},
   "outputs": [
    {
     "data": {
      "text/html": [
       "<div>\n",
       "<style scoped>\n",
       "    .dataframe tbody tr th:only-of-type {\n",
       "        vertical-align: middle;\n",
       "    }\n",
       "\n",
       "    .dataframe tbody tr th {\n",
       "        vertical-align: top;\n",
       "    }\n",
       "\n",
       "    .dataframe thead th {\n",
       "        text-align: right;\n",
       "    }\n",
       "</style>\n",
       "<table border=\"1\" class=\"dataframe\">\n",
       "  <thead>\n",
       "    <tr style=\"text-align: right;\">\n",
       "      <th>Life expectancy</th>\n",
       "      <th>36.3</th>\n",
       "      <th>39.0</th>\n",
       "      <th>41.0</th>\n",
       "      <th>41.5</th>\n",
       "      <th>42.3</th>\n",
       "      <th>43.1</th>\n",
       "      <th>43.3</th>\n",
       "      <th>43.5</th>\n",
       "      <th>43.8</th>\n",
       "      <th>44.0</th>\n",
       "      <th>...</th>\n",
       "      <th>83.3</th>\n",
       "      <th>83.4</th>\n",
       "      <th>83.5</th>\n",
       "      <th>83.7</th>\n",
       "      <th>84.0</th>\n",
       "      <th>85.0</th>\n",
       "      <th>86.0</th>\n",
       "      <th>87.0</th>\n",
       "      <th>88.0</th>\n",
       "      <th>89.0</th>\n",
       "    </tr>\n",
       "    <tr>\n",
       "      <th>Status</th>\n",
       "      <th></th>\n",
       "      <th></th>\n",
       "      <th></th>\n",
       "      <th></th>\n",
       "      <th></th>\n",
       "      <th></th>\n",
       "      <th></th>\n",
       "      <th></th>\n",
       "      <th></th>\n",
       "      <th></th>\n",
       "      <th></th>\n",
       "      <th></th>\n",
       "      <th></th>\n",
       "      <th></th>\n",
       "      <th></th>\n",
       "      <th></th>\n",
       "      <th></th>\n",
       "      <th></th>\n",
       "      <th></th>\n",
       "      <th></th>\n",
       "      <th></th>\n",
       "    </tr>\n",
       "  </thead>\n",
       "  <tbody>\n",
       "    <tr>\n",
       "      <th>Developed</th>\n",
       "      <td>0</td>\n",
       "      <td>0</td>\n",
       "      <td>0</td>\n",
       "      <td>0</td>\n",
       "      <td>0</td>\n",
       "      <td>0</td>\n",
       "      <td>0</td>\n",
       "      <td>0</td>\n",
       "      <td>0</td>\n",
       "      <td>0</td>\n",
       "      <td>...</td>\n",
       "      <td>1</td>\n",
       "      <td>1</td>\n",
       "      <td>2</td>\n",
       "      <td>1</td>\n",
       "      <td>7</td>\n",
       "      <td>8</td>\n",
       "      <td>12</td>\n",
       "      <td>6</td>\n",
       "      <td>9</td>\n",
       "      <td>8</td>\n",
       "    </tr>\n",
       "    <tr>\n",
       "      <th>Developing</th>\n",
       "      <td>1</td>\n",
       "      <td>1</td>\n",
       "      <td>1</td>\n",
       "      <td>1</td>\n",
       "      <td>1</td>\n",
       "      <td>1</td>\n",
       "      <td>1</td>\n",
       "      <td>1</td>\n",
       "      <td>1</td>\n",
       "      <td>1</td>\n",
       "      <td>...</td>\n",
       "      <td>0</td>\n",
       "      <td>0</td>\n",
       "      <td>0</td>\n",
       "      <td>0</td>\n",
       "      <td>4</td>\n",
       "      <td>4</td>\n",
       "      <td>3</td>\n",
       "      <td>3</td>\n",
       "      <td>1</td>\n",
       "      <td>3</td>\n",
       "    </tr>\n",
       "  </tbody>\n",
       "</table>\n",
       "<p>2 rows × 362 columns</p>\n",
       "</div>"
      ],
      "text/plain": [
       "Life expectancy   36.3  39.0  41.0  41.5  42.3  43.1  43.3  43.5  43.8  44.0  \\\n",
       "Status                                                                         \n",
       "Developed            0     0     0     0     0     0     0     0     0     0   \n",
       "Developing           1     1     1     1     1     1     1     1     1     1   \n",
       "\n",
       "Life expectancy   ...  83.3  83.4  83.5  83.7  84.0  85.0  86.0  87.0  88.0  \\\n",
       "Status            ...                                                         \n",
       "Developed         ...     1     1     2     1     7     8    12     6     9   \n",
       "Developing        ...     0     0     0     0     4     4     3     3     1   \n",
       "\n",
       "Life expectancy   89.0  \n",
       "Status                  \n",
       "Developed            8  \n",
       "Developing           3  \n",
       "\n",
       "[2 rows x 362 columns]"
      ]
     },
     "execution_count": 692,
     "metadata": {},
     "output_type": "execute_result"
    }
   ],
   "source": [
    "mycrosstable=pd.crosstab(myfield1,myfield2)\n",
    "mycrosstable"
   ]
  },
  {
   "cell_type": "markdown",
   "id": "87dcbe01",
   "metadata": {},
   "source": [
    "pVal is< 0.05 meaning that there is a significant association between the countries status and the life expactancy"
   ]
  },
  {
   "cell_type": "code",
   "execution_count": 693,
   "id": "40f6b0d0",
   "metadata": {},
   "outputs": [],
   "source": [
    "from scipy.stats import chi2_contingency"
   ]
  },
  {
   "cell_type": "code",
   "execution_count": 694,
   "id": "598191ff",
   "metadata": {},
   "outputs": [
    {
     "data": {
      "text/plain": [
       "(1404.3457667322757,\n",
       " 8.7055409500588e-123,\n",
       " 361,\n",
       " array([[ 0.17486339,  0.17486339,  0.17486339,  0.17486339,  0.17486339,\n",
       "          0.17486339,  0.17486339,  0.17486339,  0.17486339,  0.17486339,\n",
       "          0.34972678,  0.34972678,  0.52459016,  0.34972678,  0.17486339,\n",
       "          0.87431694,  0.17486339,  0.34972678,  0.52459016,  0.52459016,\n",
       "          0.34972678,  0.87431694,  0.34972678,  0.17486339,  0.69945355,\n",
       "          0.17486339,  0.34972678,  0.17486339,  0.34972678,  0.87431694,\n",
       "          0.34972678,  0.34972678,  0.69945355,  0.87431694,  0.34972678,\n",
       "          0.52459016,  0.87431694,  0.52459016,  0.17486339,  0.34972678,\n",
       "          0.69945355,  0.52459016,  0.34972678,  0.17486339,  0.34972678,\n",
       "          0.17486339,  0.17486339,  0.52459016,  0.34972678,  0.52459016,\n",
       "          0.17486339,  0.69945355,  0.17486339,  0.69945355,  0.34972678,\n",
       "          0.87431694,  1.22404372,  0.52459016,  0.87431694,  0.52459016,\n",
       "          0.69945355,  1.3989071 ,  0.87431694,  0.52459016,  0.52459016,\n",
       "          1.04918033,  1.04918033,  1.3989071 ,  0.69945355,  0.52459016,\n",
       "          0.87431694,  1.04918033,  0.87431694,  0.52459016,  0.87431694,\n",
       "          0.69945355,  0.52459016,  1.04918033,  0.87431694,  0.69945355,\n",
       "          0.34972678,  0.52459016,  0.87431694,  0.52459016,  0.52459016,\n",
       "          0.17486339,  1.57377049,  0.87431694,  0.34972678,  1.04918033,\n",
       "          0.34972678,  0.69945355,  0.34972678,  0.69945355,  1.04918033,\n",
       "          0.69945355,  2.27322404,  0.17486339,  0.17486339,  1.92349727,\n",
       "          0.52459016,  0.52459016,  0.69945355,  0.87431694,  0.17486339,\n",
       "          0.52459016,  1.57377049,  0.52459016,  0.87431694,  0.69945355,\n",
       "          0.52459016,  0.87431694,  0.52459016,  1.57377049,  0.87431694,\n",
       "          0.69945355,  1.04918033,  0.52459016,  0.52459016,  1.3989071 ,\n",
       "          1.3989071 ,  1.04918033,  1.22404372,  0.52459016,  0.34972678,\n",
       "          1.3989071 ,  2.09836066,  1.57377049,  1.04918033,  0.87431694,\n",
       "          1.04918033,  0.69945355,  1.3989071 ,  1.04918033,  0.69945355,\n",
       "          1.3989071 ,  0.87431694,  1.04918033,  1.22404372,  1.74863388,\n",
       "          1.22404372,  0.87431694,  0.87431694,  1.92349727,  1.22404372,\n",
       "          1.22404372,  0.87431694,  1.22404372,  1.22404372,  0.52459016,\n",
       "          0.52459016,  1.3989071 ,  0.69945355,  0.69945355,  0.69945355,\n",
       "          1.57377049,  0.52459016,  2.09836066,  1.22404372,  1.04918033,\n",
       "          1.04918033,  0.52459016,  1.3989071 ,  1.04918033,  0.87431694,\n",
       "          1.57377049,  1.57377049,  2.09836066,  0.87431694,  1.04918033,\n",
       "          1.22404372,  0.87431694,  1.57377049,  0.52459016,  1.22404372,\n",
       "          1.22404372,  0.69945355,  1.92349727,  0.87431694,  1.04918033,\n",
       "          1.22404372,  1.3989071 ,  0.87431694,  1.22404372,  1.74863388,\n",
       "          0.87431694,  0.87431694,  2.27322404,  1.3989071 ,  1.04918033,\n",
       "          1.22404372,  1.57377049,  1.04918033,  1.22404372,  1.3989071 ,\n",
       "          1.74863388,  1.3989071 ,  1.92349727,  1.04918033,  1.3989071 ,\n",
       "          1.04918033,  1.04918033,  0.69945355,  1.74863388,  0.87431694,\n",
       "          1.3989071 ,  0.87431694,  2.09836066,  1.04918033,  1.57377049,\n",
       "          1.92349727,  1.57377049,  1.92349727,  1.74863388,  1.92349727,\n",
       "          1.74863388,  1.3989071 ,  3.49726776,  1.57377049,  0.87431694,\n",
       "          1.92349727,  1.74863388,  2.09836066,  1.04918033,  1.74863388,\n",
       "          1.3989071 ,  1.57377049,  2.44808743,  1.74863388,  1.57377049,\n",
       "          1.57377049,  2.62295082,  1.57377049,  1.74863388,  1.04918033,\n",
       "          1.3989071 ,  1.92349727,  1.3989071 ,  3.32240437,  1.92349727,\n",
       "          2.27322404,  1.22404372,  2.79781421,  1.3989071 ,  2.44808743,\n",
       "          2.79781421,  2.62295082,  2.44808743,  3.67213115,  2.27322404,\n",
       "          2.79781421,  2.44808743,  2.44808743,  3.14754098,  3.49726776,\n",
       "          3.67213115,  3.32240437,  3.32240437,  7.86885246,  3.14754098,\n",
       "          4.02185792,  3.67213115,  3.32240437,  4.02185792,  4.89617486,\n",
       "          3.32240437,  3.84699454,  4.3715847 ,  3.67213115,  4.02185792,\n",
       "          4.02185792,  2.27322404,  4.02185792,  4.19672131,  3.49726776,\n",
       "          4.19672131,  3.14754098,  4.02185792,  5.7704918 ,  1.74863388,\n",
       "          2.62295082,  2.79781421,  3.67213115,  2.27322404,  2.79781421,\n",
       "          1.74863388,  2.44808743,  1.3989071 ,  4.3715847 ,  1.92349727,\n",
       "          2.09836066,  1.74863388,  1.57377049,  1.3989071 ,  1.92349727,\n",
       "          1.57377049,  1.74863388,  1.74863388,  3.84699454,  1.04918033,\n",
       "          1.3989071 ,  1.74863388,  0.69945355,  1.92349727,  1.22404372,\n",
       "          1.04918033,  1.74863388,  0.69945355,  5.42076503,  2.09836066,\n",
       "          1.57377049,  1.74863388,  1.04918033,  1.3989071 ,  1.04918033,\n",
       "          2.79781421,  1.92349727,  2.09836066,  3.32240437,  1.74863388,\n",
       "          1.57377049,  2.27322404,  2.09836066,  1.74863388,  1.3989071 ,\n",
       "          1.92349727,  1.92349727,  1.74863388,  1.92349727,  4.3715847 ,\n",
       "          2.9726776 ,  1.04918033,  1.3989071 ,  1.3989071 ,  1.74863388,\n",
       "          1.04918033,  1.92349727,  1.22404372,  0.87431694,  3.67213115,\n",
       "          0.87431694,  0.69945355,  0.87431694,  0.87431694,  1.22404372,\n",
       "          0.52459016,  1.04918033,  0.34972678,  0.17486339,  2.79781421,\n",
       "          0.17486339,  0.17486339,  0.17486339,  0.17486339,  0.34972678,\n",
       "          0.17486339,  1.92349727,  2.09836066,  2.62295082,  1.57377049,\n",
       "          1.74863388,  1.92349727],\n",
       "        [ 0.82513661,  0.82513661,  0.82513661,  0.82513661,  0.82513661,\n",
       "          0.82513661,  0.82513661,  0.82513661,  0.82513661,  0.82513661,\n",
       "          1.65027322,  1.65027322,  2.47540984,  1.65027322,  0.82513661,\n",
       "          4.12568306,  0.82513661,  1.65027322,  2.47540984,  2.47540984,\n",
       "          1.65027322,  4.12568306,  1.65027322,  0.82513661,  3.30054645,\n",
       "          0.82513661,  1.65027322,  0.82513661,  1.65027322,  4.12568306,\n",
       "          1.65027322,  1.65027322,  3.30054645,  4.12568306,  1.65027322,\n",
       "          2.47540984,  4.12568306,  2.47540984,  0.82513661,  1.65027322,\n",
       "          3.30054645,  2.47540984,  1.65027322,  0.82513661,  1.65027322,\n",
       "          0.82513661,  0.82513661,  2.47540984,  1.65027322,  2.47540984,\n",
       "          0.82513661,  3.30054645,  0.82513661,  3.30054645,  1.65027322,\n",
       "          4.12568306,  5.77595628,  2.47540984,  4.12568306,  2.47540984,\n",
       "          3.30054645,  6.6010929 ,  4.12568306,  2.47540984,  2.47540984,\n",
       "          4.95081967,  4.95081967,  6.6010929 ,  3.30054645,  2.47540984,\n",
       "          4.12568306,  4.95081967,  4.12568306,  2.47540984,  4.12568306,\n",
       "          3.30054645,  2.47540984,  4.95081967,  4.12568306,  3.30054645,\n",
       "          1.65027322,  2.47540984,  4.12568306,  2.47540984,  2.47540984,\n",
       "          0.82513661,  7.42622951,  4.12568306,  1.65027322,  4.95081967,\n",
       "          1.65027322,  3.30054645,  1.65027322,  3.30054645,  4.95081967,\n",
       "          3.30054645, 10.72677596,  0.82513661,  0.82513661,  9.07650273,\n",
       "          2.47540984,  2.47540984,  3.30054645,  4.12568306,  0.82513661,\n",
       "          2.47540984,  7.42622951,  2.47540984,  4.12568306,  3.30054645,\n",
       "          2.47540984,  4.12568306,  2.47540984,  7.42622951,  4.12568306,\n",
       "          3.30054645,  4.95081967,  2.47540984,  2.47540984,  6.6010929 ,\n",
       "          6.6010929 ,  4.95081967,  5.77595628,  2.47540984,  1.65027322,\n",
       "          6.6010929 ,  9.90163934,  7.42622951,  4.95081967,  4.12568306,\n",
       "          4.95081967,  3.30054645,  6.6010929 ,  4.95081967,  3.30054645,\n",
       "          6.6010929 ,  4.12568306,  4.95081967,  5.77595628,  8.25136612,\n",
       "          5.77595628,  4.12568306,  4.12568306,  9.07650273,  5.77595628,\n",
       "          5.77595628,  4.12568306,  5.77595628,  5.77595628,  2.47540984,\n",
       "          2.47540984,  6.6010929 ,  3.30054645,  3.30054645,  3.30054645,\n",
       "          7.42622951,  2.47540984,  9.90163934,  5.77595628,  4.95081967,\n",
       "          4.95081967,  2.47540984,  6.6010929 ,  4.95081967,  4.12568306,\n",
       "          7.42622951,  7.42622951,  9.90163934,  4.12568306,  4.95081967,\n",
       "          5.77595628,  4.12568306,  7.42622951,  2.47540984,  5.77595628,\n",
       "          5.77595628,  3.30054645,  9.07650273,  4.12568306,  4.95081967,\n",
       "          5.77595628,  6.6010929 ,  4.12568306,  5.77595628,  8.25136612,\n",
       "          4.12568306,  4.12568306, 10.72677596,  6.6010929 ,  4.95081967,\n",
       "          5.77595628,  7.42622951,  4.95081967,  5.77595628,  6.6010929 ,\n",
       "          8.25136612,  6.6010929 ,  9.07650273,  4.95081967,  6.6010929 ,\n",
       "          4.95081967,  4.95081967,  3.30054645,  8.25136612,  4.12568306,\n",
       "          6.6010929 ,  4.12568306,  9.90163934,  4.95081967,  7.42622951,\n",
       "          9.07650273,  7.42622951,  9.07650273,  8.25136612,  9.07650273,\n",
       "          8.25136612,  6.6010929 , 16.50273224,  7.42622951,  4.12568306,\n",
       "          9.07650273,  8.25136612,  9.90163934,  4.95081967,  8.25136612,\n",
       "          6.6010929 ,  7.42622951, 11.55191257,  8.25136612,  7.42622951,\n",
       "          7.42622951, 12.37704918,  7.42622951,  8.25136612,  4.95081967,\n",
       "          6.6010929 ,  9.07650273,  6.6010929 , 15.67759563,  9.07650273,\n",
       "         10.72677596,  5.77595628, 13.20218579,  6.6010929 , 11.55191257,\n",
       "         13.20218579, 12.37704918, 11.55191257, 17.32786885, 10.72677596,\n",
       "         13.20218579, 11.55191257, 11.55191257, 14.85245902, 16.50273224,\n",
       "         17.32786885, 15.67759563, 15.67759563, 37.13114754, 14.85245902,\n",
       "         18.97814208, 17.32786885, 15.67759563, 18.97814208, 23.10382514,\n",
       "         15.67759563, 18.15300546, 20.6284153 , 17.32786885, 18.97814208,\n",
       "         18.97814208, 10.72677596, 18.97814208, 19.80327869, 16.50273224,\n",
       "         19.80327869, 14.85245902, 18.97814208, 27.2295082 ,  8.25136612,\n",
       "         12.37704918, 13.20218579, 17.32786885, 10.72677596, 13.20218579,\n",
       "          8.25136612, 11.55191257,  6.6010929 , 20.6284153 ,  9.07650273,\n",
       "          9.90163934,  8.25136612,  7.42622951,  6.6010929 ,  9.07650273,\n",
       "          7.42622951,  8.25136612,  8.25136612, 18.15300546,  4.95081967,\n",
       "          6.6010929 ,  8.25136612,  3.30054645,  9.07650273,  5.77595628,\n",
       "          4.95081967,  8.25136612,  3.30054645, 25.57923497,  9.90163934,\n",
       "          7.42622951,  8.25136612,  4.95081967,  6.6010929 ,  4.95081967,\n",
       "         13.20218579,  9.07650273,  9.90163934, 15.67759563,  8.25136612,\n",
       "          7.42622951, 10.72677596,  9.90163934,  8.25136612,  6.6010929 ,\n",
       "          9.07650273,  9.07650273,  8.25136612,  9.07650273, 20.6284153 ,\n",
       "         14.0273224 ,  4.95081967,  6.6010929 ,  6.6010929 ,  8.25136612,\n",
       "          4.95081967,  9.07650273,  5.77595628,  4.12568306, 17.32786885,\n",
       "          4.12568306,  3.30054645,  4.12568306,  4.12568306,  5.77595628,\n",
       "          2.47540984,  4.95081967,  1.65027322,  0.82513661, 13.20218579,\n",
       "          0.82513661,  0.82513661,  0.82513661,  0.82513661,  1.65027322,\n",
       "          0.82513661,  9.07650273,  9.90163934, 12.37704918,  7.42622951,\n",
       "          8.25136612,  9.07650273]]))"
      ]
     },
     "execution_count": 694,
     "metadata": {},
     "output_type": "execute_result"
    }
   ],
   "source": [
    "chival,pVal,df,exp=chi2_contingency(mycrosstable)\n",
    "chival,pVal,df,exp"
   ]
  },
  {
   "cell_type": "markdown",
   "id": "bb6273fe",
   "metadata": {},
   "source": [
    "pVal is< 0.05 meaning that there is a significant association between the countries status and the life expactancy"
   ]
  },
  {
   "cell_type": "code",
   "execution_count": 695,
   "id": "06e83c23",
   "metadata": {},
   "outputs": [
    {
     "data": {
      "text/html": [
       "<div>\n",
       "<style scoped>\n",
       "    .dataframe tbody tr th:only-of-type {\n",
       "        vertical-align: middle;\n",
       "    }\n",
       "\n",
       "    .dataframe tbody tr th {\n",
       "        vertical-align: top;\n",
       "    }\n",
       "\n",
       "    .dataframe thead th {\n",
       "        text-align: right;\n",
       "    }\n",
       "</style>\n",
       "<table border=\"1\" class=\"dataframe\">\n",
       "  <thead>\n",
       "    <tr style=\"text-align: right;\">\n",
       "      <th>Adult Mortality</th>\n",
       "      <th>1.0</th>\n",
       "      <th>2.0</th>\n",
       "      <th>3.0</th>\n",
       "      <th>4.0</th>\n",
       "      <th>5.0</th>\n",
       "      <th>6.0</th>\n",
       "      <th>7.0</th>\n",
       "      <th>8.0</th>\n",
       "      <th>9.0</th>\n",
       "      <th>11.0</th>\n",
       "      <th>...</th>\n",
       "      <th>666.0</th>\n",
       "      <th>675.0</th>\n",
       "      <th>679.0</th>\n",
       "      <th>682.0</th>\n",
       "      <th>686.0</th>\n",
       "      <th>693.0</th>\n",
       "      <th>699.0</th>\n",
       "      <th>715.0</th>\n",
       "      <th>717.0</th>\n",
       "      <th>723.0</th>\n",
       "    </tr>\n",
       "    <tr>\n",
       "      <th>Status</th>\n",
       "      <th></th>\n",
       "      <th></th>\n",
       "      <th></th>\n",
       "      <th></th>\n",
       "      <th></th>\n",
       "      <th></th>\n",
       "      <th></th>\n",
       "      <th></th>\n",
       "      <th></th>\n",
       "      <th></th>\n",
       "      <th></th>\n",
       "      <th></th>\n",
       "      <th></th>\n",
       "      <th></th>\n",
       "      <th></th>\n",
       "      <th></th>\n",
       "      <th></th>\n",
       "      <th></th>\n",
       "      <th></th>\n",
       "      <th></th>\n",
       "      <th></th>\n",
       "    </tr>\n",
       "  </thead>\n",
       "  <tbody>\n",
       "    <tr>\n",
       "      <th>Developed</th>\n",
       "      <td>1</td>\n",
       "      <td>1</td>\n",
       "      <td>0</td>\n",
       "      <td>0</td>\n",
       "      <td>2</td>\n",
       "      <td>10</td>\n",
       "      <td>11</td>\n",
       "      <td>8</td>\n",
       "      <td>6</td>\n",
       "      <td>6</td>\n",
       "      <td>...</td>\n",
       "      <td>0</td>\n",
       "      <td>0</td>\n",
       "      <td>0</td>\n",
       "      <td>0</td>\n",
       "      <td>0</td>\n",
       "      <td>0</td>\n",
       "      <td>0</td>\n",
       "      <td>0</td>\n",
       "      <td>0</td>\n",
       "      <td>0</td>\n",
       "    </tr>\n",
       "    <tr>\n",
       "      <th>Developing</th>\n",
       "      <td>11</td>\n",
       "      <td>7</td>\n",
       "      <td>6</td>\n",
       "      <td>4</td>\n",
       "      <td>0</td>\n",
       "      <td>3</td>\n",
       "      <td>5</td>\n",
       "      <td>5</td>\n",
       "      <td>6</td>\n",
       "      <td>19</td>\n",
       "      <td>...</td>\n",
       "      <td>1</td>\n",
       "      <td>1</td>\n",
       "      <td>1</td>\n",
       "      <td>1</td>\n",
       "      <td>1</td>\n",
       "      <td>1</td>\n",
       "      <td>1</td>\n",
       "      <td>1</td>\n",
       "      <td>1</td>\n",
       "      <td>1</td>\n",
       "    </tr>\n",
       "  </tbody>\n",
       "</table>\n",
       "<p>2 rows × 425 columns</p>\n",
       "</div>"
      ],
      "text/plain": [
       "Adult Mortality  1.0    2.0    3.0    4.0    5.0    6.0    7.0    8.0    \\\n",
       "Status                                                                    \n",
       "Developed            1      1      0      0      2     10     11      8   \n",
       "Developing          11      7      6      4      0      3      5      5   \n",
       "\n",
       "Adult Mortality  9.0    11.0   ...  666.0  675.0  679.0  682.0  686.0  693.0  \\\n",
       "Status                         ...                                             \n",
       "Developed            6      6  ...      0      0      0      0      0      0   \n",
       "Developing           6     19  ...      1      1      1      1      1      1   \n",
       "\n",
       "Adult Mortality  699.0  715.0  717.0  723.0  \n",
       "Status                                       \n",
       "Developed            0      0      0      0  \n",
       "Developing           1      1      1      1  \n",
       "\n",
       "[2 rows x 425 columns]"
      ]
     },
     "execution_count": 695,
     "metadata": {},
     "output_type": "execute_result"
    }
   ],
   "source": [
    "mycrosstable1=pd.crosstab(myfield1,myfield3)\n",
    "mycrosstable1"
   ]
  },
  {
   "cell_type": "code",
   "execution_count": 703,
   "id": "84301980",
   "metadata": {},
   "outputs": [
    {
     "data": {
      "text/plain": [
       "(1129.7109415563116,\n",
       " 1.580105887526093e-65,\n",
       " 424,\n",
       " array([[ 2.09836066,  1.3989071 ,  1.04918033,  0.69945355,  0.34972678,\n",
       "          2.27322404,  2.79781421,  2.27322404,  2.09836066,  4.3715847 ,\n",
       "          5.94535519,  3.67213115,  5.24590164,  3.67213115,  5.07103825,\n",
       "          3.67213115,  2.62295082,  4.02185792,  2.09836066,  3.14754098,\n",
       "          2.44808743,  2.44808743,  1.3989071 ,  1.92349727,  0.87431694,\n",
       "          1.92349727,  2.09836066,  0.52459016,  1.57377049,  1.04918033,\n",
       "          1.3989071 ,  0.69945355,  0.87431694,  1.74863388,  1.22404372,\n",
       "          0.69945355,  1.04918033,  0.34972678,  0.52459016,  0.34972678,\n",
       "          0.87431694,  0.87431694,  1.04918033,  1.3989071 ,  0.87431694,\n",
       "          0.69945355,  0.52459016,  0.69945355,  0.87431694,  0.87431694,\n",
       "          1.04918033,  1.74863388,  1.74863388,  1.04918033,  2.27322404,\n",
       "          1.74863388,  1.92349727,  2.44808743,  2.44808743,  3.32240437,\n",
       "          2.27322404,  2.62295082,  2.9726776 ,  2.27322404,  2.62295082,\n",
       "          2.44808743,  2.9726776 ,  2.44808743,  3.32240437,  2.44808743,\n",
       "          2.9726776 ,  2.62295082,  2.62295082,  2.79781421,  2.79781421,\n",
       "          2.79781421,  2.44808743,  2.27322404,  1.3989071 ,  3.14754098,\n",
       "          2.62295082,  1.57377049,  2.79781421,  2.44808743,  1.3989071 ,\n",
       "          1.92349727,  2.44808743,  1.92349727,  2.62295082,  2.44808743,\n",
       "          0.87431694,  1.22404372,  1.74863388,  1.57377049,  1.57377049,\n",
       "          1.92349727,  1.57377049,  2.27322404,  1.57377049,  2.79781421,\n",
       "          2.79781421,  2.79781421,  2.44808743,  2.44808743,  2.62295082,\n",
       "          3.49726776,  1.92349727,  2.27322404,  1.92349727,  2.79781421,\n",
       "          2.62295082,  3.32240437,  2.27322404,  2.27322404,  2.44808743,\n",
       "          4.3715847 ,  2.27322404,  1.74863388,  2.79781421,  1.3989071 ,\n",
       "          3.84699454,  2.44808743,  2.79781421,  2.62295082,  2.44808743,\n",
       "          1.57377049,  1.57377049,  1.57377049,  1.74863388,  2.27322404,\n",
       "          1.74863388,  1.04918033,  3.14754098,  2.44808743,  1.57377049,\n",
       "          3.49726776,  2.09836066,  2.62295082,  1.04918033,  3.49726776,\n",
       "          2.27322404,  2.27322404,  2.09836066,  1.57377049,  1.74863388,\n",
       "          2.27322404,  1.22404372,  2.62295082,  1.3989071 ,  1.92349727,\n",
       "          2.44808743,  2.27322404,  1.74863388,  1.3989071 ,  1.04918033,\n",
       "          2.79781421,  2.62295082,  2.09836066,  2.09836066,  1.3989071 ,\n",
       "          2.09836066,  3.32240437,  0.87431694,  2.44808743,  1.04918033,\n",
       "          2.27322404,  0.69945355,  1.22404372,  1.04918033,  1.3989071 ,\n",
       "          1.74863388,  1.92349727,  0.69945355,  0.87431694,  1.3989071 ,\n",
       "          1.57377049,  1.04918033,  2.27322404,  2.44808743,  2.44808743,\n",
       "          1.74863388,  1.3989071 ,  1.04918033,  2.09836066,  2.44808743,\n",
       "          1.22404372,  1.04918033,  1.57377049,  1.74863388,  0.69945355,\n",
       "          1.22404372,  0.52459016,  1.22404372,  1.74863388,  0.52459016,\n",
       "          1.22404372,  1.22404372,  0.34972678,  1.22404372,  0.87431694,\n",
       "          0.69945355,  0.17486339,  0.69945355,  0.52459016,  1.04918033,\n",
       "          0.87431694,  1.04918033,  1.57377049,  1.22404372,  0.87431694,\n",
       "          1.04918033,  0.69945355,  0.87431694,  0.34972678,  0.69945355,\n",
       "          1.3989071 ,  1.22404372,  0.52459016,  1.3989071 ,  0.34972678,\n",
       "          1.57377049,  0.87431694,  1.22404372,  0.52459016,  1.74863388,\n",
       "          1.22404372,  1.22404372,  1.04918033,  1.22404372,  1.04918033,\n",
       "          1.04918033,  1.92349727,  1.22404372,  0.69945355,  1.22404372,\n",
       "          1.22404372,  1.57377049,  1.22404372,  0.87431694,  1.04918033,\n",
       "          2.09836066,  0.69945355,  0.69945355,  0.34972678,  0.52459016,\n",
       "          1.04918033,  1.22404372,  1.04918033,  0.69945355,  0.69945355,\n",
       "          0.87431694,  0.17486339,  0.52459016,  0.34972678,  0.69945355,\n",
       "          0.17486339,  0.34972678,  0.52459016,  0.34972678,  0.87431694,\n",
       "          0.69945355,  0.87431694,  0.69945355,  0.17486339,  0.69945355,\n",
       "          0.87431694,  0.69945355,  0.17486339,  0.52459016,  0.17486339,\n",
       "          0.87431694,  0.52459016,  1.57377049,  0.87431694,  0.87431694,\n",
       "          0.87431694,  0.34972678,  0.17486339,  0.69945355,  1.04918033,\n",
       "          0.69945355,  0.17486339,  0.52459016,  0.87431694,  0.34972678,\n",
       "          0.17486339,  0.17486339,  0.34972678,  1.22404372,  0.52459016,\n",
       "          0.34972678,  0.17486339,  0.17486339,  0.34972678,  0.52459016,\n",
       "          0.34972678,  0.34972678,  0.52459016,  0.52459016,  0.34972678,\n",
       "          0.52459016,  0.87431694,  0.87431694,  0.17486339,  0.34972678,\n",
       "          0.34972678,  0.52459016,  0.34972678,  0.34972678,  0.34972678,\n",
       "          0.52459016,  0.69945355,  0.69945355,  0.17486339,  0.52459016,\n",
       "          0.34972678,  0.52459016,  0.34972678,  0.34972678,  1.04918033,\n",
       "          0.17486339,  0.17486339,  0.69945355,  0.17486339,  0.34972678,\n",
       "          0.87431694,  0.34972678,  0.17486339,  0.34972678,  0.34972678,\n",
       "          0.34972678,  0.17486339,  0.34972678,  0.52459016,  0.17486339,\n",
       "          0.52459016,  0.17486339,  0.34972678,  0.52459016,  0.17486339,\n",
       "          0.17486339,  0.17486339,  0.52459016,  0.17486339,  0.87431694,\n",
       "          0.34972678,  0.17486339,  0.34972678,  0.34972678,  0.34972678,\n",
       "          0.34972678,  0.17486339,  0.34972678,  0.17486339,  0.17486339,\n",
       "          0.17486339,  0.52459016,  0.17486339,  0.17486339,  0.17486339,\n",
       "          0.34972678,  0.17486339,  0.17486339,  0.17486339,  0.17486339,\n",
       "          0.52459016,  0.52459016,  0.17486339,  0.17486339,  0.34972678,\n",
       "          0.17486339,  0.17486339,  0.34972678,  0.17486339,  0.34972678,\n",
       "          0.17486339,  0.17486339,  0.17486339,  0.17486339,  0.34972678,\n",
       "          0.17486339,  0.17486339,  0.17486339,  0.17486339,  0.17486339,\n",
       "          0.17486339,  0.34972678,  0.17486339,  0.17486339,  0.17486339,\n",
       "          0.17486339,  0.34972678,  0.17486339,  0.17486339,  0.34972678,\n",
       "          0.17486339,  0.17486339,  0.17486339,  0.52459016,  0.17486339,\n",
       "          0.17486339,  0.17486339,  0.17486339,  0.17486339,  0.17486339,\n",
       "          0.17486339,  0.17486339,  0.17486339,  0.17486339,  0.17486339,\n",
       "          0.17486339,  0.17486339,  0.17486339,  0.17486339,  0.17486339,\n",
       "          0.17486339,  0.17486339,  0.17486339,  0.17486339,  0.17486339,\n",
       "          0.17486339,  0.17486339,  0.17486339,  0.17486339,  0.17486339],\n",
       "        [ 9.90163934,  6.6010929 ,  4.95081967,  3.30054645,  1.65027322,\n",
       "         10.72677596, 13.20218579, 10.72677596,  9.90163934, 20.6284153 ,\n",
       "         28.05464481, 17.32786885, 24.75409836, 17.32786885, 23.92896175,\n",
       "         17.32786885, 12.37704918, 18.97814208,  9.90163934, 14.85245902,\n",
       "         11.55191257, 11.55191257,  6.6010929 ,  9.07650273,  4.12568306,\n",
       "          9.07650273,  9.90163934,  2.47540984,  7.42622951,  4.95081967,\n",
       "          6.6010929 ,  3.30054645,  4.12568306,  8.25136612,  5.77595628,\n",
       "          3.30054645,  4.95081967,  1.65027322,  2.47540984,  1.65027322,\n",
       "          4.12568306,  4.12568306,  4.95081967,  6.6010929 ,  4.12568306,\n",
       "          3.30054645,  2.47540984,  3.30054645,  4.12568306,  4.12568306,\n",
       "          4.95081967,  8.25136612,  8.25136612,  4.95081967, 10.72677596,\n",
       "          8.25136612,  9.07650273, 11.55191257, 11.55191257, 15.67759563,\n",
       "         10.72677596, 12.37704918, 14.0273224 , 10.72677596, 12.37704918,\n",
       "         11.55191257, 14.0273224 , 11.55191257, 15.67759563, 11.55191257,\n",
       "         14.0273224 , 12.37704918, 12.37704918, 13.20218579, 13.20218579,\n",
       "         13.20218579, 11.55191257, 10.72677596,  6.6010929 , 14.85245902,\n",
       "         12.37704918,  7.42622951, 13.20218579, 11.55191257,  6.6010929 ,\n",
       "          9.07650273, 11.55191257,  9.07650273, 12.37704918, 11.55191257,\n",
       "          4.12568306,  5.77595628,  8.25136612,  7.42622951,  7.42622951,\n",
       "          9.07650273,  7.42622951, 10.72677596,  7.42622951, 13.20218579,\n",
       "         13.20218579, 13.20218579, 11.55191257, 11.55191257, 12.37704918,\n",
       "         16.50273224,  9.07650273, 10.72677596,  9.07650273, 13.20218579,\n",
       "         12.37704918, 15.67759563, 10.72677596, 10.72677596, 11.55191257,\n",
       "         20.6284153 , 10.72677596,  8.25136612, 13.20218579,  6.6010929 ,\n",
       "         18.15300546, 11.55191257, 13.20218579, 12.37704918, 11.55191257,\n",
       "          7.42622951,  7.42622951,  7.42622951,  8.25136612, 10.72677596,\n",
       "          8.25136612,  4.95081967, 14.85245902, 11.55191257,  7.42622951,\n",
       "         16.50273224,  9.90163934, 12.37704918,  4.95081967, 16.50273224,\n",
       "         10.72677596, 10.72677596,  9.90163934,  7.42622951,  8.25136612,\n",
       "         10.72677596,  5.77595628, 12.37704918,  6.6010929 ,  9.07650273,\n",
       "         11.55191257, 10.72677596,  8.25136612,  6.6010929 ,  4.95081967,\n",
       "         13.20218579, 12.37704918,  9.90163934,  9.90163934,  6.6010929 ,\n",
       "          9.90163934, 15.67759563,  4.12568306, 11.55191257,  4.95081967,\n",
       "         10.72677596,  3.30054645,  5.77595628,  4.95081967,  6.6010929 ,\n",
       "          8.25136612,  9.07650273,  3.30054645,  4.12568306,  6.6010929 ,\n",
       "          7.42622951,  4.95081967, 10.72677596, 11.55191257, 11.55191257,\n",
       "          8.25136612,  6.6010929 ,  4.95081967,  9.90163934, 11.55191257,\n",
       "          5.77595628,  4.95081967,  7.42622951,  8.25136612,  3.30054645,\n",
       "          5.77595628,  2.47540984,  5.77595628,  8.25136612,  2.47540984,\n",
       "          5.77595628,  5.77595628,  1.65027322,  5.77595628,  4.12568306,\n",
       "          3.30054645,  0.82513661,  3.30054645,  2.47540984,  4.95081967,\n",
       "          4.12568306,  4.95081967,  7.42622951,  5.77595628,  4.12568306,\n",
       "          4.95081967,  3.30054645,  4.12568306,  1.65027322,  3.30054645,\n",
       "          6.6010929 ,  5.77595628,  2.47540984,  6.6010929 ,  1.65027322,\n",
       "          7.42622951,  4.12568306,  5.77595628,  2.47540984,  8.25136612,\n",
       "          5.77595628,  5.77595628,  4.95081967,  5.77595628,  4.95081967,\n",
       "          4.95081967,  9.07650273,  5.77595628,  3.30054645,  5.77595628,\n",
       "          5.77595628,  7.42622951,  5.77595628,  4.12568306,  4.95081967,\n",
       "          9.90163934,  3.30054645,  3.30054645,  1.65027322,  2.47540984,\n",
       "          4.95081967,  5.77595628,  4.95081967,  3.30054645,  3.30054645,\n",
       "          4.12568306,  0.82513661,  2.47540984,  1.65027322,  3.30054645,\n",
       "          0.82513661,  1.65027322,  2.47540984,  1.65027322,  4.12568306,\n",
       "          3.30054645,  4.12568306,  3.30054645,  0.82513661,  3.30054645,\n",
       "          4.12568306,  3.30054645,  0.82513661,  2.47540984,  0.82513661,\n",
       "          4.12568306,  2.47540984,  7.42622951,  4.12568306,  4.12568306,\n",
       "          4.12568306,  1.65027322,  0.82513661,  3.30054645,  4.95081967,\n",
       "          3.30054645,  0.82513661,  2.47540984,  4.12568306,  1.65027322,\n",
       "          0.82513661,  0.82513661,  1.65027322,  5.77595628,  2.47540984,\n",
       "          1.65027322,  0.82513661,  0.82513661,  1.65027322,  2.47540984,\n",
       "          1.65027322,  1.65027322,  2.47540984,  2.47540984,  1.65027322,\n",
       "          2.47540984,  4.12568306,  4.12568306,  0.82513661,  1.65027322,\n",
       "          1.65027322,  2.47540984,  1.65027322,  1.65027322,  1.65027322,\n",
       "          2.47540984,  3.30054645,  3.30054645,  0.82513661,  2.47540984,\n",
       "          1.65027322,  2.47540984,  1.65027322,  1.65027322,  4.95081967,\n",
       "          0.82513661,  0.82513661,  3.30054645,  0.82513661,  1.65027322,\n",
       "          4.12568306,  1.65027322,  0.82513661,  1.65027322,  1.65027322,\n",
       "          1.65027322,  0.82513661,  1.65027322,  2.47540984,  0.82513661,\n",
       "          2.47540984,  0.82513661,  1.65027322,  2.47540984,  0.82513661,\n",
       "          0.82513661,  0.82513661,  2.47540984,  0.82513661,  4.12568306,\n",
       "          1.65027322,  0.82513661,  1.65027322,  1.65027322,  1.65027322,\n",
       "          1.65027322,  0.82513661,  1.65027322,  0.82513661,  0.82513661,\n",
       "          0.82513661,  2.47540984,  0.82513661,  0.82513661,  0.82513661,\n",
       "          1.65027322,  0.82513661,  0.82513661,  0.82513661,  0.82513661,\n",
       "          2.47540984,  2.47540984,  0.82513661,  0.82513661,  1.65027322,\n",
       "          0.82513661,  0.82513661,  1.65027322,  0.82513661,  1.65027322,\n",
       "          0.82513661,  0.82513661,  0.82513661,  0.82513661,  1.65027322,\n",
       "          0.82513661,  0.82513661,  0.82513661,  0.82513661,  0.82513661,\n",
       "          0.82513661,  1.65027322,  0.82513661,  0.82513661,  0.82513661,\n",
       "          0.82513661,  1.65027322,  0.82513661,  0.82513661,  1.65027322,\n",
       "          0.82513661,  0.82513661,  0.82513661,  2.47540984,  0.82513661,\n",
       "          0.82513661,  0.82513661,  0.82513661,  0.82513661,  0.82513661,\n",
       "          0.82513661,  0.82513661,  0.82513661,  0.82513661,  0.82513661,\n",
       "          0.82513661,  0.82513661,  0.82513661,  0.82513661,  0.82513661,\n",
       "          0.82513661,  0.82513661,  0.82513661,  0.82513661,  0.82513661,\n",
       "          0.82513661,  0.82513661,  0.82513661,  0.82513661,  0.82513661]]))"
      ]
     },
     "execution_count": 703,
     "metadata": {},
     "output_type": "execute_result"
    }
   ],
   "source": [
    "chival,pVal,df,exp=chi2_contingency(mycrosstable1)\n",
    "chival,pVal,df,exp"
   ]
  },
  {
   "cell_type": "code",
   "execution_count": 716,
   "id": "dabde075",
   "metadata": {},
   "outputs": [
    {
     "data": {
      "text/html": [
       "<div>\n",
       "<style scoped>\n",
       "    .dataframe tbody tr th:only-of-type {\n",
       "        vertical-align: middle;\n",
       "    }\n",
       "\n",
       "    .dataframe tbody tr th {\n",
       "        vertical-align: top;\n",
       "    }\n",
       "\n",
       "    .dataframe thead th {\n",
       "        text-align: right;\n",
       "    }\n",
       "</style>\n",
       "<table border=\"1\" class=\"dataframe\">\n",
       "  <thead>\n",
       "    <tr style=\"text-align: right;\">\n",
       "      <th>col_0</th>\n",
       "      <th>Adult Mortality</th>\n",
       "    </tr>\n",
       "    <tr>\n",
       "      <th>Status</th>\n",
       "      <th></th>\n",
       "    </tr>\n",
       "  </thead>\n",
       "  <tbody>\n",
       "    <tr>\n",
       "      <th>Developed</th>\n",
       "      <td>0.174268</td>\n",
       "    </tr>\n",
       "    <tr>\n",
       "      <th>Developing</th>\n",
       "      <td>0.825732</td>\n",
       "    </tr>\n",
       "  </tbody>\n",
       "</table>\n",
       "</div>"
      ],
      "text/plain": [
       "col_0       Adult Mortality\n",
       "Status                     \n",
       "Developed          0.174268\n",
       "Developing         0.825732"
      ]
     },
     "execution_count": 716,
     "metadata": {},
     "output_type": "execute_result"
    }
   ],
   "source": [
    " \n",
    "my_crosstab1=pd.crosstab(index=df[\"Status\"],columns=[  'Adult Mortality'],normalize=True)\n",
    "my_crosstab1"
   ]
  },
  {
   "cell_type": "code",
   "execution_count": 734,
   "id": "49500e0a",
   "metadata": {
    "scrolled": true
   },
   "outputs": [
    {
     "data": {
      "text/plain": [
       "<AxesSubplot:ylabel='Density'>"
      ]
     },
     "execution_count": 734,
     "metadata": {},
     "output_type": "execute_result"
    },
    {
     "data": {
      "image/png": "[encoded data removed]",
      "text/plain": [
       "<Figure size 432x288 with 1 Axes>"
      ]
     },
     "metadata": {
      "needs_background": "light"
     },
     "output_type": "display_data"
    }
   ],
   "source": [
    "import pandas as pd\n",
    "import seaborn as sns\n",
    "import matplotlib.pyplot as plt\n",
    "df[ 'Adult Mortality'].plot.density(color=\"green\")"
   ]
  },
  {
   "cell_type": "code",
   "execution_count": null,
   "id": "b148e545",
   "metadata": {},
   "outputs": [],
   "source": [
    "df['infant deaths'].plot.density(color=\"blue\")"
   ]
  },
  {
   "cell_type": "markdown",
   "id": "7776e347",
   "metadata": {},
   "source": []
  },
  {
   "cell_type": "code",
   "execution_count": null,
   "id": "dac021a3",
   "metadata": {},
   "outputs": [],
   "source": [
    " from statsmodels.graphics.mosaicplot import mosaic\n",
    "    import matplotlib.pyplot as plt\n",
    "    mosaic(df[['Life expectancy ', 'Income composition of resources', 'Schooling']])\n",
    "    plt.show()"
   ]
  },
  {
   "cell_type": "code",
   "execution_count": null,
   "id": "d2d190ef",
   "metadata": {},
   "outputs": [],
   "source": [
    " "
   ]
  },
  {
   "cell_type": "code",
   "execution_count": null,
   "id": "904598e2",
   "metadata": {},
   "outputs": [],
   "source": []
  },
  {
   "cell_type": "code",
   "execution_count": null,
   "id": "25feff28",
   "metadata": {},
   "outputs": [],
   "source": []
  }
 ],
 "metadata": {
  "kernelspec": {
   "display_name": "Python 3 (ipykernel)",
   "language": "python",
   "name": "python3"
  },
  "language_info": {
   "codemirror_mode": {
    "name": "ipython",
    "version": 3
   },
   "file_extension": ".py",
   "mimetype": "text/x-python",
   "name": "python",
   "nbconvert_exporter": "python",
   "pygments_lexer": "ipython3",
   "version": "3.9.7"
  }
 },
 "nbformat": 4,
 "nbformat_minor": 5
}
